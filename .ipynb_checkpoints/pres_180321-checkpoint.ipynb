{
 "cells": [
  {
   "cell_type": "code",
   "execution_count": 1,
   "metadata": {
    "jupyter": {
     "source_hidden": true
    }
   },
   "outputs": [],
   "source": [
    "from IPython.display import IFrame\n",
    "from IPython.core.interactiveshell import InteractiveShell\n",
    "InteractiveShell.ast_node_interactivity = \"all\""
   ]
  },
  {
   "cell_type": "markdown",
   "metadata": {},
   "source": [
    "<p style=\"page-break-after:always;\"></p>\n",
    "<h1 align=\"center\">Diverse dynamic redox fingerprints of single atom catalysts on ceria (100)</h1>\n",
    "<h2 align=\"center\">Discussion - 18.03.2021</h2>\n",
    "<hr style=\"border:3px solid black\"> </hr>"
   ]
  },
  {
   "cell_type": "markdown",
   "metadata": {},
   "source": [
    "<h2> 1. Nathan's work - Dynamic charge and oxidation state of Pt/CeO2 single-atom catalysts </h2>\n",
    "<h2> 1.1 Sampling </h2>\n",
    "<b><b>\n",
    "<center><img src=\"./pres_figures/nathan_sampling.png\" style=\"width: 1000px\" align=\"center\"></center>\n",
    "<hr style=\"border:3px solid black\"> </hr>"
   ]
  },
  {
   "cell_type": "markdown",
   "metadata": {},
   "source": [
    "<h2> 1.2 Origin of fine structure </h2>\n",
    "<b><b>\n",
    "<center><img src=\"./pres_figures/nathan_sampling_close.png\" alt=\"Drawing\" style=\"width: 500px\"></center>\n",
    "<hr style=\"border:3px solid black\"> </hr>"
   ]
  },
  {
   "cell_type": "markdown",
   "metadata": {},
   "source": [
    "<h2> 1.3 Born-Haber </h2>\n",
    "<b><b>\n",
    "<center><img src=\"./pres_figures/born_haber.png\" style=\"width: 1000px\"></center>\n",
    "<hr style=\"border:3px solid black\"> </hr>"
   ]
  },
  {
   "cell_type": "markdown",
   "metadata": {},
   "source": [
    "<h2> 2. This work - Extension to group 9-11 metals (Co, Rh, Ir, Ni, Pd, Pt, Cu, Ag, Au) </h2>\n",
    "<h2> 2.1. Sampling results </h2>"
   ]
  },
  {
   "cell_type": "code",
   "execution_count": 2,
   "metadata": {
    "tags": []
   },
   "outputs": [
    {
     "data": {
      "text/html": [
       "\n",
       "        <iframe\n",
       "            width=\"1600\"\n",
       "            height=\"850\"\n",
       "            src=\"./html_figures/paper_fig1.html\"\n",
       "            frameborder=\"0\"\n",
       "            allowfullscreen\n",
       "        ></iframe>\n",
       "        "
      ],
      "text/plain": [
       "<IPython.lib.display.IFrame at 0x7f2e7c0bffd0>"
      ]
     },
     "execution_count": 2,
     "metadata": {},
     "output_type": "execute_result"
    }
   ],
   "source": [
    "IFrame(src='./html_figures/paper_fig1.html', width=1600, height=850)"
   ]
  },
  {
   "cell_type": "markdown",
   "metadata": {},
   "source": [
    "<hr style=\"border:3px solid black\"> </hr>"
   ]
  },
  {
   "cell_type": "markdown",
   "metadata": {},
   "source": [
    "<h2> 2.2 Statistical learning in materials science: </h2>"
   ]
  },
  {
   "cell_type": "markdown",
   "metadata": {},
   "source": [
    "<hr style=\"border:1px solid grey\"> </hr>\n",
    "<img src=\"./pres_figures/lasso.png\" style=\"width: 1000px\">\n",
    "<hr style=\"border:1px solid grey\"> </hr>\n",
    "<img src=\"./pres_figures/rodri.png\" style=\"width: 1000px\">\n",
    "<hr style=\"border:1px solid grey\"> </hr>\n",
    "<img src=\"./pres_figures/ceriotti.png\" style=\"width: 1000px\">\n",
    "<hr style=\"border:1px solid grey\"> </hr>"
   ]
  },
  {
   "attachments": {
    "26f5d59f-6626-4d3f-9700-b1c60cb8456d.png": {
     "image/png": "[encoded data removed]"
    },
    "471ccdb1-08c9-4463-865c-4e0929e0ae99.png": {
     "image/png": "[encoded data removed]"
    },
    "79f39f03-0fa3-4b1e-8ded-7f9fe0c33281.png": {
     "image/png": "[encoded data removed]"
    }
   },
   "cell_type": "markdown",
   "metadata": {},
   "source": [
    "<h2> Linear regression models: </h2>\n",
    "\n",
    "Lasso (l1-regularization):\n",
    "\n",
    "![image.png](attachment:471ccdb1-08c9-4463-865c-4e0929e0ae99.png)\n",
    "\n",
    "\n",
    "Ridge (l2-regularization):\n",
    "\n",
    "![image.png](attachment:79f39f03-0fa3-4b1e-8ded-7f9fe0c33281.png)\n",
    "\n",
    "\n",
    "Elastic-net (l1 and l2):\n",
    "\n",
    "![image.png](attachment:26f5d59f-6626-4d3f-9700-b1c60cb8456d.png)"
   ]
  },
  {
   "cell_type": "markdown",
   "metadata": {},
   "source": [
    "<hr style=\"border:3px solid black\"> </hr>"
   ]
  },
  {
   "cell_type": "markdown",
   "metadata": {
    "pycharm": {
     "name": "#%% md\n"
    }
   },
   "source": [
    "<h2> 2.3. Descriptor overview </h2>\n",
    "\n",
    "<b> Distances </b>\n",
    "\n",
    "- Mean, min, max (from calculated structures):\n",
    "    - M-O\n",
    "    - M-bound O-ligands to neighboring Ce\n",
    "    - M to surface Ce3\n",
    "    - Ce3-Ce3\n",
    "\n",
    "<b> Metal-descriptors <b>\n",
    "\n",
    "- Fundamental:\n",
    "    \n",
    "    - Ionization energy of metal (at OS=N and N-1) [1]\n",
    "    - Deviation of metal OS from average of \"most common\" OS (from Wikipedia)\n",
    "    - Pauling electronegativity [1]\n",
    "    - Chemical potential of the electrons in the metal [1]\n",
    "    - s- and p-orbital radii following Weber-Cremer [1]    \n",
    "    - Polarizability of the metal atom [X]\n",
    "\n",
    "<b><b>\n",
    "- Metal-metal:\n",
    "    - Metal-metal bond dissociaton energy [3]\n",
    "    - Cohesive energy of the bulk metal [4]\n",
    "\n",
    "<b><b>\n",
    "- Metal-oxygen:\n",
    "    - Oxidation energy of the bulk metal [1]\n",
    "    - Diatomic M-O bond enthalpy [2]\n",
    "\n",
    "<b><b>\n",
    "- Miscellaneous:\n",
    "    - M-coordination (2, 3 or 4)    \n",
    "    - Number of oxygen-neighbors of Ce3\n",
    "\n",
    "<b> Indpendent variable <b>\n",
    "- DFT-energy (global or per-metal ref.)\n",
    "\n",
    "<b> References: <b>\n",
    "- [1] Interaction trends between single metal atoms and oxide supports identified with density functional theory and statistical learning (https://doi.org/10.1038/s41929-018-0094-5) and references therein\n",
    "- [2] webelements.com and references therein\n",
    "- [3] Comprehensive handbook of chemical bond energies (https://doi.org/10.1201/9781420007282)\n",
    "- [4] Taken from http://www.knowledgedoor.com/2/elements_handbook/cohesive_energy.html and references therein\n",
    "\n",
    "<hr style=\"border:3px solid black\"> </hr>"
   ]
  },
  {
   "cell_type": "markdown",
   "metadata": {},
   "source": [
    "<h2> 2.4. Correlation </h2>"
   ]
  },
  {
   "cell_type": "code",
   "execution_count": 3,
   "metadata": {
    "jupyter": {
     "source_hidden": true
    },
    "tags": []
   },
   "outputs": [
    {
     "data": {
      "text/html": [
       "\n",
       "        <iframe\n",
       "            width=\"1600\"\n",
       "            height=\"850\"\n",
       "            src=\"./html_figures/corr_heat.html\"\n",
       "            frameborder=\"0\"\n",
       "            allowfullscreen\n",
       "        ></iframe>\n",
       "        "
      ],
      "text/plain": [
       "<IPython.lib.display.IFrame at 0x7f2e7c07c430>"
      ]
     },
     "execution_count": 3,
     "metadata": {},
     "output_type": "execute_result"
    }
   ],
   "source": [
    "IFrame(src='./html_figures/corr_heat.html', width=1600, height=850)"
   ]
  },
  {
   "cell_type": "markdown",
   "metadata": {},
   "source": [
    "<hr style=\"border:3px solid black\"> </hr>"
   ]
  },
  {
   "cell_type": "markdown",
   "metadata": {},
   "source": [
    "<h2> 2.5 PCA </h2>"
   ]
  },
  {
   "cell_type": "code",
   "execution_count": 4,
   "metadata": {
    "jupyter": {
     "source_hidden": true
    },
    "tags": []
   },
   "outputs": [
    {
     "data": {
      "text/html": [
       "\n",
       "        <iframe\n",
       "            width=\"1600\"\n",
       "            height=\"850\"\n",
       "            src=\"./html_figures/pca_heat_corr.html\"\n",
       "            frameborder=\"0\"\n",
       "            allowfullscreen\n",
       "        ></iframe>\n",
       "        "
      ],
      "text/plain": [
       "<IPython.lib.display.IFrame at 0x7f2e7c07c580>"
      ]
     },
     "execution_count": 4,
     "metadata": {},
     "output_type": "execute_result"
    },
    {
     "data": {
      "text/html": [
       "\n",
       "        <iframe\n",
       "            width=\"1600\"\n",
       "            height=\"650\"\n",
       "            src=\"./html_figures/pc_proj_corr.html\"\n",
       "            frameborder=\"0\"\n",
       "            allowfullscreen\n",
       "        ></iframe>\n",
       "        "
      ],
      "text/plain": [
       "<IPython.lib.display.IFrame at 0x7f2e7c07c220>"
      ]
     },
     "execution_count": 4,
     "metadata": {},
     "output_type": "execute_result"
    }
   ],
   "source": [
    "IFrame(src='./html_figures/pca_heat_corr.html', width=1600, height=850)\n",
    "IFrame(src='./html_figures/pc_proj_corr.html', width=1600, height=650)"
   ]
  },
  {
   "cell_type": "markdown",
   "metadata": {},
   "source": [
    "<hr style=\"border:3px solid black\"> </hr>"
   ]
  },
  {
   "cell_type": "markdown",
   "metadata": {},
   "source": [
    "<h2> 2.6. Lasso (2O and 4O coordinations) </h2>"
   ]
  },
  {
   "cell_type": "code",
   "execution_count": 5,
   "metadata": {
    "tags": []
   },
   "outputs": [
    {
     "data": {
      "text/html": [
       "\n",
       "        <iframe\n",
       "            width=\"1600\"\n",
       "            height=\"850\"\n",
       "            src=\"./html_figures/Lasso_uncorr_global_ener.html\"\n",
       "            frameborder=\"0\"\n",
       "            allowfullscreen\n",
       "        ></iframe>\n",
       "        "
      ],
      "text/plain": [
       "<IPython.lib.display.IFrame at 0x7f2e7c07ce20>"
      ]
     },
     "execution_count": 5,
     "metadata": {},
     "output_type": "execute_result"
    },
    {
     "data": {
      "text/html": [
       "\n",
       "        <iframe\n",
       "            width=\"1600\"\n",
       "            height=\"850\"\n",
       "            src=\"./html_figures/Lasso_uncorr_global_error.html\"\n",
       "            frameborder=\"0\"\n",
       "            allowfullscreen\n",
       "        ></iframe>\n",
       "        "
      ],
      "text/plain": [
       "<IPython.lib.display.IFrame at 0x7f2e7c07cb80>"
      ]
     },
     "execution_count": 5,
     "metadata": {},
     "output_type": "execute_result"
    },
    {
     "data": {
      "text/html": [
       "\n",
       "        <iframe\n",
       "            width=\"1600\"\n",
       "            height=\"850\"\n",
       "            src=\"./html_figures/Lasso_uncorr_global_desc.html\"\n",
       "            frameborder=\"0\"\n",
       "            allowfullscreen\n",
       "        ></iframe>\n",
       "        "
      ],
      "text/plain": [
       "<IPython.lib.display.IFrame at 0x7f2e7c07c4c0>"
      ]
     },
     "execution_count": 5,
     "metadata": {},
     "output_type": "execute_result"
    }
   ],
   "source": [
    "IFrame(src='./html_figures/Lasso_uncorr_global_ener.html', width=1600, height=850)\n",
    "IFrame(src='./html_figures/Lasso_uncorr_global_error.html', width=1600, height=850)\n",
    "IFrame(src='./html_figures/Lasso_uncorr_global_desc.html', width=1600, height=850)"
   ]
  },
  {
   "cell_type": "code",
   "execution_count": 6,
   "metadata": {
    "jupyter": {
     "source_hidden": true
    },
    "tags": []
   },
   "outputs": [],
   "source": [
    "# IFrame(src='./html_figures/Lasso_uncorr_global_coords_ener.html', width=1600, height=850)\n",
    "# IFrame(src='./html_figures/Lasso_uncorr_global_coords_error.html', width=1600, height=850)\n",
    "# IFrame(src='./html_figures/Lasso_uncorr_global_coords_desc.html', width=1600, height=850)"
   ]
  },
  {
   "cell_type": "markdown",
   "metadata": {},
   "source": [
    "<!-- <hr style=\"border:3px solid black\"> </hr> -->"
   ]
  },
  {
   "cell_type": "markdown",
   "metadata": {},
   "source": [
    "<hr style=\"border:3px solid black\"> </hr>"
   ]
  },
  {
   "cell_type": "markdown",
   "metadata": {},
   "source": [
    "<h2> 2.7. Principal component regression (PCR) </h2>"
   ]
  },
  {
   "cell_type": "code",
   "execution_count": 7,
   "metadata": {
    "jupyter": {
     "source_hidden": true
    }
   },
   "outputs": [
    {
     "data": {
      "text/html": [
       "\n",
       "        <iframe\n",
       "            width=\"1650\"\n",
       "            height=\"850\"\n",
       "            src=\"./html_figures/pcr_all.html\"\n",
       "            frameborder=\"0\"\n",
       "            allowfullscreen\n",
       "        ></iframe>\n",
       "        "
      ],
      "text/plain": [
       "<IPython.lib.display.IFrame at 0x7f2e7c07cc40>"
      ]
     },
     "execution_count": 7,
     "metadata": {},
     "output_type": "execute_result"
    }
   ],
   "source": [
    "IFrame(src='./html_figures/pcr_all.html', width=1650, height=850)"
   ]
  },
  {
   "cell_type": "markdown",
   "metadata": {},
   "source": [
    "<h2> 2.8 Simple linear regression </h2>"
   ]
  },
  {
   "cell_type": "code",
   "execution_count": 8,
   "metadata": {
    "jupyter": {
     "source_hidden": true
    },
    "tags": []
   },
   "outputs": [
    {
     "data": {
      "text/html": [
       "\n",
       "        <iframe\n",
       "            width=\"1600\"\n",
       "            height=\"750\"\n",
       "            src=\"./html_figures/lreg_all.html\"\n",
       "            frameborder=\"0\"\n",
       "            allowfullscreen\n",
       "        ></iframe>\n",
       "        "
      ],
      "text/plain": [
       "<IPython.lib.display.IFrame at 0x7f2e7c07cf40>"
      ]
     },
     "execution_count": 8,
     "metadata": {},
     "output_type": "execute_result"
    }
   ],
   "source": [
    "IFrame(src='./html_figures/lreg_all.html', width=1600, height=750)"
   ]
  },
  {
   "cell_type": "markdown",
   "metadata": {},
   "source": [
    "<hr style=\"border:3px solid black\"> </hr>"
   ]
  },
  {
   "cell_type": "markdown",
   "metadata": {},
   "source": [
    "<h2> 3. Conclusions and outlook </h2>\n",
    "\n",
    "- System can be described with complex linear model\n",
    "\n",
    "- Most of the variance can be captured with 8 principal components\n",
    "\n",
    "- Feature selection with Lasso leads to loss of fine structure\n",
    "\n",
    "- Complexity reduction of model\n",
    "\n",
    "- Introduction of non-linearity (descriptor combinatorics/kernels)\n",
    "\n",
    "- Predictive power (e.g. energy sampling on unrelaxed structures with previously trained model)"
   ]
  },
  {
   "cell_type": "markdown",
   "metadata": {},
   "source": [
    "<hr style=\"border:3px solid black\"> </hr>"
   ]
  },
  {
   "cell_type": "markdown",
   "metadata": {},
   "source": [
    "<h2> 4. Additional results </h2>"
   ]
  },
  {
   "cell_type": "markdown",
   "metadata": {},
   "source": [
    "<h2> 4.1 t-SNE (t-distributed stochastic neighbor embedding) </h2>"
   ]
  },
  {
   "cell_type": "code",
   "execution_count": 9,
   "metadata": {
    "jupyter": {
     "source_hidden": true
    },
    "tags": []
   },
   "outputs": [
    {
     "data": {
      "text/html": [
       "\n",
       "        <iframe\n",
       "            width=\"1650\"\n",
       "            height=\"500\"\n",
       "            src=\"./html_figures/tsne2d_perp.html\"\n",
       "            frameborder=\"0\"\n",
       "            allowfullscreen\n",
       "        ></iframe>\n",
       "        "
      ],
      "text/plain": [
       "<IPython.lib.display.IFrame at 0x7f2e7c07cbe0>"
      ]
     },
     "execution_count": 9,
     "metadata": {},
     "output_type": "execute_result"
    }
   ],
   "source": [
    "IFrame(src='./html_figures/tsne2d_perp.html', width=1650, height=500)"
   ]
  },
  {
   "cell_type": "code",
   "execution_count": 10,
   "metadata": {
    "tags": []
   },
   "outputs": [
    {
     "data": {
      "text/html": [
       "\n",
       "        <iframe\n",
       "            width=\"1600\"\n",
       "            height=\"850\"\n",
       "            src=\"./html_figures/tsne3d.html\"\n",
       "            frameborder=\"0\"\n",
       "            allowfullscreen\n",
       "        ></iframe>\n",
       "        "
      ],
      "text/plain": [
       "<IPython.lib.display.IFrame at 0x7f2e7c07c550>"
      ]
     },
     "execution_count": 10,
     "metadata": {},
     "output_type": "execute_result"
    }
   ],
   "source": [
    "IFrame(src='./html_figures/tsne3d.html', width=1600, height=850)"
   ]
  },
  {
   "cell_type": "markdown",
   "metadata": {},
   "source": [
    "<hr style=\"border:3px solid black\"> </hr>"
   ]
  }
 ],
 "metadata": {
  "kernelspec": {
   "display_name": "Python [conda env:ceria_sac] *",
   "language": "python",
   "name": "conda-env-ceria_sac-py"
  },
  "language_info": {
   "codemirror_mode": {
    "name": "ipython",
    "version": 3
   },
   "file_extension": ".py",
   "mimetype": "text/x-python",
   "name": "python",
   "nbconvert_exporter": "python",
   "pygments_lexer": "ipython3",
   "version": "3.9.2"
  }
 },
 "nbformat": 4,
 "nbformat_minor": 4
}
