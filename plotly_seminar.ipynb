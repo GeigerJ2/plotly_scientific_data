{
 "cells": [
  {
   "cell_type": "markdown",
   "metadata": {},
   "source": [
    "<p style=\"page-break-after:always;\"></p>\n",
    "<h1 align=\"center\">Interactive visualisation of scientific data with Plotly</h1>\n",
    "<h2 align=\"center\">20.04.2021</h2>\n",
    "<hr style=\"border:3px solid black\"> </hr>"
   ]
  },
  {
   "cell_type": "markdown",
   "metadata": {},
   "source": [
    "<h2> Outline </h2>\n",
    "\n",
    "<ol>\n",
    "  <li>General overview and usage</li>\n",
    "  <li>Creating and customizing plots</li>\n",
    "  <li>Some relevant use cases</li>\n",
    "  <li>Miscellaneous tips and tricks</li>\n",
    "</ol>"
   ]
  },
  {
   "cell_type": "markdown",
   "metadata": {},
   "source": [
    "<h2> 1. General overview and usage </h2>\n",
    "<ul>\n",
    "    <li> Javascript library with wrappers to Python and R </li>\n",
    "    <li> Plots are interactive by default </li>\n",
    "    <li> Multiple ways of doing things. Focus on working with \"graph_objects\" </li>\n",
    "</ul>\n",
    "\n",
    "<font size=\"3\">Font size test</font>\n",
    "\n",
    "<hr style=\"border:3px solid black\"> </hr>"
   ]
  },
  {
   "cell_type": "code",
   "execution_count": 1,
   "metadata": {},
   "outputs": [
    {
     "data": {
      "text/html": [
       "        <script type=\"text/javascript\">\n",
       "        window.PlotlyConfig = {MathJaxConfig: 'local'};\n",
       "        if (window.MathJax) {MathJax.Hub.Config({SVG: {font: \"STIX-Web\"}});}\n",
       "        if (typeof require !== 'undefined') {\n",
       "        require.undef(\"plotly\");\n",
       "        requirejs.config({\n",
       "            paths: {\n",
       "                'plotly': ['https://cdn.plot.ly/plotly-latest.min']\n",
       "            }\n",
       "        });\n",
       "        require(['plotly'], function(Plotly) {\n",
       "            window._Plotly = Plotly;\n",
       "        });\n",
       "        }\n",
       "        </script>\n",
       "        "
      ]
     },
     "metadata": {},
     "output_type": "display_data"
    }
   ],
   "source": [
    "# Relevant imports\n",
    "\n",
    "import numpy as np\n",
    "import pandas as pd\n",
    "import plotly.graph_objects as go\n",
    "from plotly.offline import init_notebook_mode, plot\n",
    "init_notebook_mode(connected=True)\n",
    "from plotly.subplots import make_subplots\n",
    "from sklearn.datasets import load_wine\n",
    "from pprint import pprint\n",
    "\n",
    "# Cufflinks\n",
    "\n",
    "# from own_utils import plotlyfig2json, plotlyfromjson, l1, l2\n",
    "# from pprint import pprint\n",
    "# import plotly.tools as tls\n",
    "\n",
    "# pd.set_option('display.max_rows', None)\n",
    "# pd.set_option('display.max_columns', None)\n",
    "# pd.set_option('mode.chained_assignment', None)\n",
    "# pd.options.display.max_colwidth = 200\n",
    "\n",
    "np.random.seed(0)\n",
    "\n",
    "# Some jupyter-notebook related settings\n",
    "\n",
    "from IPython.core.interactiveshell import InteractiveShell\n",
    "InteractiveShell.ast_node_interactivity = \"all\""
   ]
  },
  {
   "cell_type": "markdown",
   "metadata": {},
   "source": [
    "<h2> 2. Creating and customizing plots </h2>\n",
    "\n",
    "<hr style=\"border:3px solid black\"> </hr>"
   ]
  },
  {
   "cell_type": "markdown",
   "metadata": {},
   "source": [
    "<h3> <code>go.Figure</code> as basic, empty canvas </h3>"
   ]
  },
  {
   "cell_type": "code",
   "execution_count": 2,
   "metadata": {},
   "outputs": [
    {
     "data": {
      "application/vnd.plotly.v1+json": {
       "config": {
        "plotlyServerURL": "https://plot.ly"
       },
       "data": [],
       "layout": {
        "autosize": true,
        "template": {
         "data": {
          "bar": [
           {
            "error_x": {
             "color": "#2a3f5f"
            },
            "error_y": {
             "color": "#2a3f5f"
            },
            "marker": {
             "line": {
              "color": "#E5ECF6",
              "width": 0.5
             }
            },
            "type": "bar"
           }
          ],
          "barpolar": [
           {
            "marker": {
             "line": {
              "color": "#E5ECF6",
              "width": 0.5
             }
            },
            "type": "barpolar"
           }
          ],
          "carpet": [
           {
            "aaxis": {
             "endlinecolor": "#2a3f5f",
             "gridcolor": "white",
             "linecolor": "white",
             "minorgridcolor": "white",
             "startlinecolor": "#2a3f5f"
            },
            "baxis": {
             "endlinecolor": "#2a3f5f",
             "gridcolor": "white",
             "linecolor": "white",
             "minorgridcolor": "white",
             "startlinecolor": "#2a3f5f"
            },
            "type": "carpet"
           }
          ],
          "choropleth": [
           {
            "colorbar": {
             "outlinewidth": 0,
             "ticks": ""
            },
            "type": "choropleth"
           }
          ],
          "contour": [
           {
            "colorbar": {
             "outlinewidth": 0,
             "ticks": ""
            },
            "colorscale": [
             [
              0,
              "#0d0887"
             ],
             [
              0.1111111111111111,
              "#46039f"
             ],
             [
              0.2222222222222222,
              "#7201a8"
             ],
             [
              0.3333333333333333,
              "#9c179e"
             ],
             [
              0.4444444444444444,
              "#bd3786"
             ],
             [
              0.5555555555555556,
              "#d8576b"
             ],
             [
              0.6666666666666666,
              "#ed7953"
             ],
             [
              0.7777777777777778,
              "#fb9f3a"
             ],
             [
              0.8888888888888888,
              "#fdca26"
             ],
             [
              1,
              "#f0f921"
             ]
            ],
            "type": "contour"
           }
          ],
          "contourcarpet": [
           {
            "colorbar": {
             "outlinewidth": 0,
             "ticks": ""
            },
            "type": "contourcarpet"
           }
          ],
          "heatmap": [
           {
            "colorbar": {
             "outlinewidth": 0,
             "ticks": ""
            },
            "colorscale": [
             [
              0,
              "#0d0887"
             ],
             [
              0.1111111111111111,
              "#46039f"
             ],
             [
              0.2222222222222222,
              "#7201a8"
             ],
             [
              0.3333333333333333,
              "#9c179e"
             ],
             [
              0.4444444444444444,
              "#bd3786"
             ],
             [
              0.5555555555555556,
              "#d8576b"
             ],
             [
              0.6666666666666666,
              "#ed7953"
             ],
             [
              0.7777777777777778,
              "#fb9f3a"
             ],
             [
              0.8888888888888888,
              "#fdca26"
             ],
             [
              1,
              "#f0f921"
             ]
            ],
            "type": "heatmap"
           }
          ],
          "heatmapgl": [
           {
            "colorbar": {
             "outlinewidth": 0,
             "ticks": ""
            },
            "colorscale": [
             [
              0,
              "#0d0887"
             ],
             [
              0.1111111111111111,
              "#46039f"
             ],
             [
              0.2222222222222222,
              "#7201a8"
             ],
             [
              0.3333333333333333,
              "#9c179e"
             ],
             [
              0.4444444444444444,
              "#bd3786"
             ],
             [
              0.5555555555555556,
              "#d8576b"
             ],
             [
              0.6666666666666666,
              "#ed7953"
             ],
             [
              0.7777777777777778,
              "#fb9f3a"
             ],
             [
              0.8888888888888888,
              "#fdca26"
             ],
             [
              1,
              "#f0f921"
             ]
            ],
            "type": "heatmapgl"
           }
          ],
          "histogram": [
           {
            "marker": {
             "colorbar": {
              "outlinewidth": 0,
              "ticks": ""
             }
            },
            "type": "histogram"
           }
          ],
          "histogram2d": [
           {
            "colorbar": {
             "outlinewidth": 0,
             "ticks": ""
            },
            "colorscale": [
             [
              0,
              "#0d0887"
             ],
             [
              0.1111111111111111,
              "#46039f"
             ],
             [
              0.2222222222222222,
              "#7201a8"
             ],
             [
              0.3333333333333333,
              "#9c179e"
             ],
             [
              0.4444444444444444,
              "#bd3786"
             ],
             [
              0.5555555555555556,
              "#d8576b"
             ],
             [
              0.6666666666666666,
              "#ed7953"
             ],
             [
              0.7777777777777778,
              "#fb9f3a"
             ],
             [
              0.8888888888888888,
              "#fdca26"
             ],
             [
              1,
              "#f0f921"
             ]
            ],
            "type": "histogram2d"
           }
          ],
          "histogram2dcontour": [
           {
            "colorbar": {
             "outlinewidth": 0,
             "ticks": ""
            },
            "colorscale": [
             [
              0,
              "#0d0887"
             ],
             [
              0.1111111111111111,
              "#46039f"
             ],
             [
              0.2222222222222222,
              "#7201a8"
             ],
             [
              0.3333333333333333,
              "#9c179e"
             ],
             [
              0.4444444444444444,
              "#bd3786"
             ],
             [
              0.5555555555555556,
              "#d8576b"
             ],
             [
              0.6666666666666666,
              "#ed7953"
             ],
             [
              0.7777777777777778,
              "#fb9f3a"
             ],
             [
              0.8888888888888888,
              "#fdca26"
             ],
             [
              1,
              "#f0f921"
             ]
            ],
            "type": "histogram2dcontour"
           }
          ],
          "mesh3d": [
           {
            "colorbar": {
             "outlinewidth": 0,
             "ticks": ""
            },
            "type": "mesh3d"
           }
          ],
          "parcoords": [
           {
            "line": {
             "colorbar": {
              "outlinewidth": 0,
              "ticks": ""
             }
            },
            "type": "parcoords"
           }
          ],
          "pie": [
           {
            "automargin": true,
            "type": "pie"
           }
          ],
          "scatter": [
           {
            "marker": {
             "colorbar": {
              "outlinewidth": 0,
              "ticks": ""
             }
            },
            "type": "scatter"
           }
          ],
          "scatter3d": [
           {
            "line": {
             "colorbar": {
              "outlinewidth": 0,
              "ticks": ""
             }
            },
            "marker": {
             "colorbar": {
              "outlinewidth": 0,
              "ticks": ""
             }
            },
            "type": "scatter3d"
           }
          ],
          "scattercarpet": [
           {
            "marker": {
             "colorbar": {
              "outlinewidth": 0,
              "ticks": ""
             }
            },
            "type": "scattercarpet"
           }
          ],
          "scattergeo": [
           {
            "marker": {
             "colorbar": {
              "outlinewidth": 0,
              "ticks": ""
             }
            },
            "type": "scattergeo"
           }
          ],
          "scattergl": [
           {
            "marker": {
             "colorbar": {
              "outlinewidth": 0,
              "ticks": ""
             }
            },
            "type": "scattergl"
           }
          ],
          "scattermapbox": [
           {
            "marker": {
             "colorbar": {
              "outlinewidth": 0,
              "ticks": ""
             }
            },
            "type": "scattermapbox"
           }
          ],
          "scatterpolar": [
           {
            "marker": {
             "colorbar": {
              "outlinewidth": 0,
              "ticks": ""
             }
            },
            "type": "scatterpolar"
           }
          ],
          "scatterpolargl": [
           {
            "marker": {
             "colorbar": {
              "outlinewidth": 0,
              "ticks": ""
             }
            },
            "type": "scatterpolargl"
           }
          ],
          "scatterternary": [
           {
            "marker": {
             "colorbar": {
              "outlinewidth": 0,
              "ticks": ""
             }
            },
            "type": "scatterternary"
           }
          ],
          "surface": [
           {
            "colorbar": {
             "outlinewidth": 0,
             "ticks": ""
            },
            "colorscale": [
             [
              0,
              "#0d0887"
             ],
             [
              0.1111111111111111,
              "#46039f"
             ],
             [
              0.2222222222222222,
              "#7201a8"
             ],
             [
              0.3333333333333333,
              "#9c179e"
             ],
             [
              0.4444444444444444,
              "#bd3786"
             ],
             [
              0.5555555555555556,
              "#d8576b"
             ],
             [
              0.6666666666666666,
              "#ed7953"
             ],
             [
              0.7777777777777778,
              "#fb9f3a"
             ],
             [
              0.8888888888888888,
              "#fdca26"
             ],
             [
              1,
              "#f0f921"
             ]
            ],
            "type": "surface"
           }
          ],
          "table": [
           {
            "cells": {
             "fill": {
              "color": "#EBF0F8"
             },
             "line": {
              "color": "white"
             }
            },
            "header": {
             "fill": {
              "color": "#C8D4E3"
             },
             "line": {
              "color": "white"
             }
            },
            "type": "table"
           }
          ]
         },
         "layout": {
          "annotationdefaults": {
           "arrowcolor": "#2a3f5f",
           "arrowhead": 0,
           "arrowwidth": 1
          },
          "autotypenumbers": "strict",
          "coloraxis": {
           "colorbar": {
            "outlinewidth": 0,
            "ticks": ""
           }
          },
          "colorscale": {
           "diverging": [
            [
             0,
             "#8e0152"
            ],
            [
             0.1,
             "#c51b7d"
            ],
            [
             0.2,
             "#de77ae"
            ],
            [
             0.3,
             "#f1b6da"
            ],
            [
             0.4,
             "#fde0ef"
            ],
            [
             0.5,
             "#f7f7f7"
            ],
            [
             0.6,
             "#e6f5d0"
            ],
            [
             0.7,
             "#b8e186"
            ],
            [
             0.8,
             "#7fbc41"
            ],
            [
             0.9,
             "#4d9221"
            ],
            [
             1,
             "#276419"
            ]
           ],
           "sequential": [
            [
             0,
             "#0d0887"
            ],
            [
             0.1111111111111111,
             "#46039f"
            ],
            [
             0.2222222222222222,
             "#7201a8"
            ],
            [
             0.3333333333333333,
             "#9c179e"
            ],
            [
             0.4444444444444444,
             "#bd3786"
            ],
            [
             0.5555555555555556,
             "#d8576b"
            ],
            [
             0.6666666666666666,
             "#ed7953"
            ],
            [
             0.7777777777777778,
             "#fb9f3a"
            ],
            [
             0.8888888888888888,
             "#fdca26"
            ],
            [
             1,
             "#f0f921"
            ]
           ],
           "sequentialminus": [
            [
             0,
             "#0d0887"
            ],
            [
             0.1111111111111111,
             "#46039f"
            ],
            [
             0.2222222222222222,
             "#7201a8"
            ],
            [
             0.3333333333333333,
             "#9c179e"
            ],
            [
             0.4444444444444444,
             "#bd3786"
            ],
            [
             0.5555555555555556,
             "#d8576b"
            ],
            [
             0.6666666666666666,
             "#ed7953"
            ],
            [
             0.7777777777777778,
             "#fb9f3a"
            ],
            [
             0.8888888888888888,
             "#fdca26"
            ],
            [
             1,
             "#f0f921"
            ]
           ]
          },
          "colorway": [
           "#636efa",
           "#EF553B",
           "#00cc96",
           "#ab63fa",
           "#FFA15A",
           "#19d3f3",
           "#FF6692",
           "#B6E880",
           "#FF97FF",
           "#FECB52"
          ],
          "font": {
           "color": "#2a3f5f"
          },
          "geo": {
           "bgcolor": "white",
           "lakecolor": "white",
           "landcolor": "#E5ECF6",
           "showlakes": true,
           "showland": true,
           "subunitcolor": "white"
          },
          "hoverlabel": {
           "align": "left"
          },
          "hovermode": "closest",
          "mapbox": {
           "style": "light"
          },
          "paper_bgcolor": "white",
          "plot_bgcolor": "#E5ECF6",
          "polar": {
           "angularaxis": {
            "gridcolor": "white",
            "linecolor": "white",
            "ticks": ""
           },
           "bgcolor": "#E5ECF6",
           "radialaxis": {
            "gridcolor": "white",
            "linecolor": "white",
            "ticks": ""
           }
          },
          "scene": {
           "xaxis": {
            "backgroundcolor": "#E5ECF6",
            "gridcolor": "white",
            "gridwidth": 2,
            "linecolor": "white",
            "showbackground": true,
            "ticks": "",
            "zerolinecolor": "white"
           },
           "yaxis": {
            "backgroundcolor": "#E5ECF6",
            "gridcolor": "white",
            "gridwidth": 2,
            "linecolor": "white",
            "showbackground": true,
            "ticks": "",
            "zerolinecolor": "white"
           },
           "zaxis": {
            "backgroundcolor": "#E5ECF6",
            "gridcolor": "white",
            "gridwidth": 2,
            "linecolor": "white",
            "showbackground": true,
            "ticks": "",
            "zerolinecolor": "white"
           }
          },
          "shapedefaults": {
           "line": {
            "color": "#2a3f5f"
           }
          },
          "ternary": {
           "aaxis": {
            "gridcolor": "white",
            "linecolor": "white",
            "ticks": ""
           },
           "baxis": {
            "gridcolor": "white",
            "linecolor": "white",
            "ticks": ""
           },
           "bgcolor": "#E5ECF6",
           "caxis": {
            "gridcolor": "white",
            "linecolor": "white",
            "ticks": ""
           }
          },
          "title": {
           "x": 0.05
          },
          "xaxis": {
           "automargin": true,
           "gridcolor": "white",
           "linecolor": "white",
           "ticks": "",
           "title": {
            "standoff": 15
           },
           "zerolinecolor": "white",
           "zerolinewidth": 2
          },
          "yaxis": {
           "automargin": true,
           "gridcolor": "white",
           "linecolor": "white",
           "ticks": "",
           "title": {
            "standoff": 15
           },
           "zerolinecolor": "white",
           "zerolinewidth": 2
          }
         }
        },
        "xaxis": {
         "autorange": true,
         "range": [
          -1,
          6
         ]
        },
        "yaxis": {
         "autorange": true,
         "range": [
          -1,
          4
         ]
        }
       }
      },
      "image/png": "[encoded data removed]",
      "text/html": [
       "<div>                            <div id=\"4a055ade-6987-4e2e-8521-3c9f73ed6f4b\" class=\"plotly-graph-div\" style=\"height:525px; width:100%;\"></div>            <script type=\"text/javascript\">                require([\"plotly\"], function(Plotly) {                    window.PLOTLYENV=window.PLOTLYENV || {};                                    if (document.getElementById(\"4a055ade-6987-4e2e-8521-3c9f73ed6f4b\")) {                    Plotly.newPlot(                        \"4a055ade-6987-4e2e-8521-3c9f73ed6f4b\",                        [],                        {\"template\": {\"data\": {\"bar\": [{\"error_x\": {\"color\": \"#2a3f5f\"}, \"error_y\": {\"color\": \"#2a3f5f\"}, \"marker\": {\"line\": {\"color\": \"#E5ECF6\", \"width\": 0.5}}, \"type\": \"bar\"}], \"barpolar\": [{\"marker\": {\"line\": {\"color\": \"#E5ECF6\", \"width\": 0.5}}, \"type\": \"barpolar\"}], \"carpet\": [{\"aaxis\": {\"endlinecolor\": \"#2a3f5f\", \"gridcolor\": \"white\", \"linecolor\": \"white\", \"minorgridcolor\": \"white\", \"startlinecolor\": \"#2a3f5f\"}, \"baxis\": {\"endlinecolor\": \"#2a3f5f\", \"gridcolor\": \"white\", \"linecolor\": \"white\", \"minorgridcolor\": \"white\", \"startlinecolor\": \"#2a3f5f\"}, \"type\": \"carpet\"}], \"choropleth\": [{\"colorbar\": {\"outlinewidth\": 0, \"ticks\": \"\"}, \"type\": \"choropleth\"}], \"contour\": [{\"colorbar\": {\"outlinewidth\": 0, \"ticks\": \"\"}, \"colorscale\": [[0.0, \"#0d0887\"], [0.1111111111111111, \"#46039f\"], [0.2222222222222222, \"#7201a8\"], [0.3333333333333333, \"#9c179e\"], [0.4444444444444444, \"#bd3786\"], [0.5555555555555556, \"#d8576b\"], [0.6666666666666666, \"#ed7953\"], [0.7777777777777778, \"#fb9f3a\"], [0.8888888888888888, \"#fdca26\"], [1.0, \"#f0f921\"]], \"type\": \"contour\"}], \"contourcarpet\": [{\"colorbar\": {\"outlinewidth\": 0, \"ticks\": \"\"}, \"type\": \"contourcarpet\"}], \"heatmap\": [{\"colorbar\": {\"outlinewidth\": 0, \"ticks\": \"\"}, \"colorscale\": [[0.0, \"#0d0887\"], [0.1111111111111111, \"#46039f\"], [0.2222222222222222, \"#7201a8\"], [0.3333333333333333, \"#9c179e\"], [0.4444444444444444, \"#bd3786\"], [0.5555555555555556, \"#d8576b\"], [0.6666666666666666, \"#ed7953\"], [0.7777777777777778, \"#fb9f3a\"], [0.8888888888888888, \"#fdca26\"], [1.0, \"#f0f921\"]], \"type\": \"heatmap\"}], \"heatmapgl\": [{\"colorbar\": {\"outlinewidth\": 0, \"ticks\": \"\"}, \"colorscale\": [[0.0, \"#0d0887\"], [0.1111111111111111, \"#46039f\"], [0.2222222222222222, \"#7201a8\"], [0.3333333333333333, \"#9c179e\"], [0.4444444444444444, \"#bd3786\"], [0.5555555555555556, \"#d8576b\"], [0.6666666666666666, \"#ed7953\"], [0.7777777777777778, \"#fb9f3a\"], [0.8888888888888888, \"#fdca26\"], [1.0, \"#f0f921\"]], \"type\": \"heatmapgl\"}], \"histogram\": [{\"marker\": {\"colorbar\": {\"outlinewidth\": 0, \"ticks\": \"\"}}, \"type\": \"histogram\"}], \"histogram2d\": [{\"colorbar\": {\"outlinewidth\": 0, \"ticks\": \"\"}, \"colorscale\": [[0.0, \"#0d0887\"], [0.1111111111111111, \"#46039f\"], [0.2222222222222222, \"#7201a8\"], [0.3333333333333333, \"#9c179e\"], [0.4444444444444444, \"#bd3786\"], [0.5555555555555556, \"#d8576b\"], [0.6666666666666666, \"#ed7953\"], [0.7777777777777778, \"#fb9f3a\"], [0.8888888888888888, \"#fdca26\"], [1.0, \"#f0f921\"]], \"type\": \"histogram2d\"}], \"histogram2dcontour\": [{\"colorbar\": {\"outlinewidth\": 0, \"ticks\": \"\"}, \"colorscale\": [[0.0, \"#0d0887\"], [0.1111111111111111, \"#46039f\"], [0.2222222222222222, \"#7201a8\"], [0.3333333333333333, \"#9c179e\"], [0.4444444444444444, \"#bd3786\"], [0.5555555555555556, \"#d8576b\"], [0.6666666666666666, \"#ed7953\"], [0.7777777777777778, \"#fb9f3a\"], [0.8888888888888888, \"#fdca26\"], [1.0, \"#f0f921\"]], \"type\": \"histogram2dcontour\"}], \"mesh3d\": [{\"colorbar\": {\"outlinewidth\": 0, \"ticks\": \"\"}, \"type\": \"mesh3d\"}], \"parcoords\": [{\"line\": {\"colorbar\": {\"outlinewidth\": 0, \"ticks\": \"\"}}, \"type\": \"parcoords\"}], \"pie\": [{\"automargin\": true, \"type\": \"pie\"}], \"scatter\": [{\"marker\": {\"colorbar\": {\"outlinewidth\": 0, \"ticks\": \"\"}}, \"type\": \"scatter\"}], \"scatter3d\": [{\"line\": {\"colorbar\": {\"outlinewidth\": 0, \"ticks\": \"\"}}, \"marker\": {\"colorbar\": {\"outlinewidth\": 0, \"ticks\": \"\"}}, \"type\": \"scatter3d\"}], \"scattercarpet\": [{\"marker\": {\"colorbar\": {\"outlinewidth\": 0, \"ticks\": \"\"}}, \"type\": \"scattercarpet\"}], \"scattergeo\": [{\"marker\": {\"colorbar\": {\"outlinewidth\": 0, \"ticks\": \"\"}}, \"type\": \"scattergeo\"}], \"scattergl\": [{\"marker\": {\"colorbar\": {\"outlinewidth\": 0, \"ticks\": \"\"}}, \"type\": \"scattergl\"}], \"scattermapbox\": [{\"marker\": {\"colorbar\": {\"outlinewidth\": 0, \"ticks\": \"\"}}, \"type\": \"scattermapbox\"}], \"scatterpolar\": [{\"marker\": {\"colorbar\": {\"outlinewidth\": 0, \"ticks\": \"\"}}, \"type\": \"scatterpolar\"}], \"scatterpolargl\": [{\"marker\": {\"colorbar\": {\"outlinewidth\": 0, \"ticks\": \"\"}}, \"type\": \"scatterpolargl\"}], \"scatterternary\": [{\"marker\": {\"colorbar\": {\"outlinewidth\": 0, \"ticks\": \"\"}}, \"type\": \"scatterternary\"}], \"surface\": [{\"colorbar\": {\"outlinewidth\": 0, \"ticks\": \"\"}, \"colorscale\": [[0.0, \"#0d0887\"], [0.1111111111111111, \"#46039f\"], [0.2222222222222222, \"#7201a8\"], [0.3333333333333333, \"#9c179e\"], [0.4444444444444444, \"#bd3786\"], [0.5555555555555556, \"#d8576b\"], [0.6666666666666666, \"#ed7953\"], [0.7777777777777778, \"#fb9f3a\"], [0.8888888888888888, \"#fdca26\"], [1.0, \"#f0f921\"]], \"type\": \"surface\"}], \"table\": [{\"cells\": {\"fill\": {\"color\": \"#EBF0F8\"}, \"line\": {\"color\": \"white\"}}, \"header\": {\"fill\": {\"color\": \"#C8D4E3\"}, \"line\": {\"color\": \"white\"}}, \"type\": \"table\"}]}, \"layout\": {\"annotationdefaults\": {\"arrowcolor\": \"#2a3f5f\", \"arrowhead\": 0, \"arrowwidth\": 1}, \"autotypenumbers\": \"strict\", \"coloraxis\": {\"colorbar\": {\"outlinewidth\": 0, \"ticks\": \"\"}}, \"colorscale\": {\"diverging\": [[0, \"#8e0152\"], [0.1, \"#c51b7d\"], [0.2, \"#de77ae\"], [0.3, \"#f1b6da\"], [0.4, \"#fde0ef\"], [0.5, \"#f7f7f7\"], [0.6, \"#e6f5d0\"], [0.7, \"#b8e186\"], [0.8, \"#7fbc41\"], [0.9, \"#4d9221\"], [1, \"#276419\"]], \"sequential\": [[0.0, \"#0d0887\"], [0.1111111111111111, \"#46039f\"], [0.2222222222222222, \"#7201a8\"], [0.3333333333333333, \"#9c179e\"], [0.4444444444444444, \"#bd3786\"], [0.5555555555555556, \"#d8576b\"], [0.6666666666666666, \"#ed7953\"], [0.7777777777777778, \"#fb9f3a\"], [0.8888888888888888, \"#fdca26\"], [1.0, \"#f0f921\"]], \"sequentialminus\": [[0.0, \"#0d0887\"], [0.1111111111111111, \"#46039f\"], [0.2222222222222222, \"#7201a8\"], [0.3333333333333333, \"#9c179e\"], [0.4444444444444444, \"#bd3786\"], [0.5555555555555556, \"#d8576b\"], [0.6666666666666666, \"#ed7953\"], [0.7777777777777778, \"#fb9f3a\"], [0.8888888888888888, \"#fdca26\"], [1.0, \"#f0f921\"]]}, \"colorway\": [\"#636efa\", \"#EF553B\", \"#00cc96\", \"#ab63fa\", \"#FFA15A\", \"#19d3f3\", \"#FF6692\", \"#B6E880\", \"#FF97FF\", \"#FECB52\"], \"font\": {\"color\": \"#2a3f5f\"}, \"geo\": {\"bgcolor\": \"white\", \"lakecolor\": \"white\", \"landcolor\": \"#E5ECF6\", \"showlakes\": true, \"showland\": true, \"subunitcolor\": \"white\"}, \"hoverlabel\": {\"align\": \"left\"}, \"hovermode\": \"closest\", \"mapbox\": {\"style\": \"light\"}, \"paper_bgcolor\": \"white\", \"plot_bgcolor\": \"#E5ECF6\", \"polar\": {\"angularaxis\": {\"gridcolor\": \"white\", \"linecolor\": \"white\", \"ticks\": \"\"}, \"bgcolor\": \"#E5ECF6\", \"radialaxis\": {\"gridcolor\": \"white\", \"linecolor\": \"white\", \"ticks\": \"\"}}, \"scene\": {\"xaxis\": {\"backgroundcolor\": \"#E5ECF6\", \"gridcolor\": \"white\", \"gridwidth\": 2, \"linecolor\": \"white\", \"showbackground\": true, \"ticks\": \"\", \"zerolinecolor\": \"white\"}, \"yaxis\": {\"backgroundcolor\": \"#E5ECF6\", \"gridcolor\": \"white\", \"gridwidth\": 2, \"linecolor\": \"white\", \"showbackground\": true, \"ticks\": \"\", \"zerolinecolor\": \"white\"}, \"zaxis\": {\"backgroundcolor\": \"#E5ECF6\", \"gridcolor\": \"white\", \"gridwidth\": 2, \"linecolor\": \"white\", \"showbackground\": true, \"ticks\": \"\", \"zerolinecolor\": \"white\"}}, \"shapedefaults\": {\"line\": {\"color\": \"#2a3f5f\"}}, \"ternary\": {\"aaxis\": {\"gridcolor\": \"white\", \"linecolor\": \"white\", \"ticks\": \"\"}, \"baxis\": {\"gridcolor\": \"white\", \"linecolor\": \"white\", \"ticks\": \"\"}, \"bgcolor\": \"#E5ECF6\", \"caxis\": {\"gridcolor\": \"white\", \"linecolor\": \"white\", \"ticks\": \"\"}}, \"title\": {\"x\": 0.05}, \"xaxis\": {\"automargin\": true, \"gridcolor\": \"white\", \"linecolor\": \"white\", \"ticks\": \"\", \"title\": {\"standoff\": 15}, \"zerolinecolor\": \"white\", \"zerolinewidth\": 2}, \"yaxis\": {\"automargin\": true, \"gridcolor\": \"white\", \"linecolor\": \"white\", \"ticks\": \"\", \"title\": {\"standoff\": 15}, \"zerolinecolor\": \"white\", \"zerolinewidth\": 2}}}},                        {\"responsive\": true}                    ).then(function(){\n",
       "                            \n",
       "var gd = document.getElementById('4a055ade-6987-4e2e-8521-3c9f73ed6f4b');\n",
       "var x = new MutationObserver(function (mutations, observer) {{\n",
       "        var display = window.getComputedStyle(gd).display;\n",
       "        if (!display || display === 'none') {{\n",
       "            console.log([gd, 'removed!']);\n",
       "            Plotly.purge(gd);\n",
       "            observer.disconnect();\n",
       "        }}\n",
       "}});\n",
       "\n",
       "// Listen for the removal of the full notebook cells\n",
       "var notebookContainer = gd.closest('#notebook-container');\n",
       "if (notebookContainer) {{\n",
       "    x.observe(notebookContainer, {childList: true});\n",
       "}}\n",
       "\n",
       "// Listen for the clearing of the current output cell\n",
       "var outputEl = gd.closest('.output');\n",
       "if (outputEl) {{\n",
       "    x.observe(outputEl, {childList: true});\n",
       "}}\n",
       "\n",
       "                        })                };                });            </script>        </div>"
      ]
     },
     "metadata": {},
     "output_type": "display_data"
    }
   ],
   "source": [
    "empty_fig = go.Figure()\n",
    "empty_fig.show()"
   ]
  },
  {
   "cell_type": "markdown",
   "metadata": {},
   "source": [
    "<h3> Simple scatter and line plots with <code>add_trace</code> and <code>go.Scatter</code> </h3>"
   ]
  },
  {
   "cell_type": "code",
   "execution_count": 14,
   "metadata": {},
   "outputs": [
    {
     "name": "stdout",
     "output_type": "stream",
     "text": [
      "array([0.71376687, 0.6391869 , 0.39916115, 0.43176013, 0.6145277 ,\n",
      "       0.07004219, 0.82240674, 0.65342116, 0.72634246, 0.536923  ])\n"
     ]
    },
    {
     "data": {
      "application/vnd.plotly.v1+json": {
       "config": {
        "plotlyServerURL": "https://plot.ly"
       },
       "data": [
        {
         "mode": "markers",
         "type": "scatter",
         "y": [
          0.7137668684100164,
          0.6391868992253925,
          0.3991611452547731,
          0.43176012765431926,
          0.6145276998103207,
          0.07004219014464463,
          0.8224067383556903,
          0.6534211611136369,
          0.7263424644178352,
          0.5369230010823904
         ]
        }
       ],
       "layout": {
        "autosize": true,
        "template": {
         "data": {
          "bar": [
           {
            "error_x": {
             "color": "#2a3f5f"
            },
            "error_y": {
             "color": "#2a3f5f"
            },
            "marker": {
             "line": {
              "color": "#E5ECF6",
              "width": 0.5
             }
            },
            "type": "bar"
           }
          ],
          "barpolar": [
           {
            "marker": {
             "line": {
              "color": "#E5ECF6",
              "width": 0.5
             }
            },
            "type": "barpolar"
           }
          ],
          "carpet": [
           {
            "aaxis": {
             "endlinecolor": "#2a3f5f",
             "gridcolor": "white",
             "linecolor": "white",
             "minorgridcolor": "white",
             "startlinecolor": "#2a3f5f"
            },
            "baxis": {
             "endlinecolor": "#2a3f5f",
             "gridcolor": "white",
             "linecolor": "white",
             "minorgridcolor": "white",
             "startlinecolor": "#2a3f5f"
            },
            "type": "carpet"
           }
          ],
          "choropleth": [
           {
            "colorbar": {
             "outlinewidth": 0,
             "ticks": ""
            },
            "type": "choropleth"
           }
          ],
          "contour": [
           {
            "colorbar": {
             "outlinewidth": 0,
             "ticks": ""
            },
            "colorscale": [
             [
              0,
              "#0d0887"
             ],
             [
              0.1111111111111111,
              "#46039f"
             ],
             [
              0.2222222222222222,
              "#7201a8"
             ],
             [
              0.3333333333333333,
              "#9c179e"
             ],
             [
              0.4444444444444444,
              "#bd3786"
             ],
             [
              0.5555555555555556,
              "#d8576b"
             ],
             [
              0.6666666666666666,
              "#ed7953"
             ],
             [
              0.7777777777777778,
              "#fb9f3a"
             ],
             [
              0.8888888888888888,
              "#fdca26"
             ],
             [
              1,
              "#f0f921"
             ]
            ],
            "type": "contour"
           }
          ],
          "contourcarpet": [
           {
            "colorbar": {
             "outlinewidth": 0,
             "ticks": ""
            },
            "type": "contourcarpet"
           }
          ],
          "heatmap": [
           {
            "colorbar": {
             "outlinewidth": 0,
             "ticks": ""
            },
            "colorscale": [
             [
              0,
              "#0d0887"
             ],
             [
              0.1111111111111111,
              "#46039f"
             ],
             [
              0.2222222222222222,
              "#7201a8"
             ],
             [
              0.3333333333333333,
              "#9c179e"
             ],
             [
              0.4444444444444444,
              "#bd3786"
             ],
             [
              0.5555555555555556,
              "#d8576b"
             ],
             [
              0.6666666666666666,
              "#ed7953"
             ],
             [
              0.7777777777777778,
              "#fb9f3a"
             ],
             [
              0.8888888888888888,
              "#fdca26"
             ],
             [
              1,
              "#f0f921"
             ]
            ],
            "type": "heatmap"
           }
          ],
          "heatmapgl": [
           {
            "colorbar": {
             "outlinewidth": 0,
             "ticks": ""
            },
            "colorscale": [
             [
              0,
              "#0d0887"
             ],
             [
              0.1111111111111111,
              "#46039f"
             ],
             [
              0.2222222222222222,
              "#7201a8"
             ],
             [
              0.3333333333333333,
              "#9c179e"
             ],
             [
              0.4444444444444444,
              "#bd3786"
             ],
             [
              0.5555555555555556,
              "#d8576b"
             ],
             [
              0.6666666666666666,
              "#ed7953"
             ],
             [
              0.7777777777777778,
              "#fb9f3a"
             ],
             [
              0.8888888888888888,
              "#fdca26"
             ],
             [
              1,
              "#f0f921"
             ]
            ],
            "type": "heatmapgl"
           }
          ],
          "histogram": [
           {
            "marker": {
             "colorbar": {
              "outlinewidth": 0,
              "ticks": ""
             }
            },
            "type": "histogram"
           }
          ],
          "histogram2d": [
           {
            "colorbar": {
             "outlinewidth": 0,
             "ticks": ""
            },
            "colorscale": [
             [
              0,
              "#0d0887"
             ],
             [
              0.1111111111111111,
              "#46039f"
             ],
             [
              0.2222222222222222,
              "#7201a8"
             ],
             [
              0.3333333333333333,
              "#9c179e"
             ],
             [
              0.4444444444444444,
              "#bd3786"
             ],
             [
              0.5555555555555556,
              "#d8576b"
             ],
             [
              0.6666666666666666,
              "#ed7953"
             ],
             [
              0.7777777777777778,
              "#fb9f3a"
             ],
             [
              0.8888888888888888,
              "#fdca26"
             ],
             [
              1,
              "#f0f921"
             ]
            ],
            "type": "histogram2d"
           }
          ],
          "histogram2dcontour": [
           {
            "colorbar": {
             "outlinewidth": 0,
             "ticks": ""
            },
            "colorscale": [
             [
              0,
              "#0d0887"
             ],
             [
              0.1111111111111111,
              "#46039f"
             ],
             [
              0.2222222222222222,
              "#7201a8"
             ],
             [
              0.3333333333333333,
              "#9c179e"
             ],
             [
              0.4444444444444444,
              "#bd3786"
             ],
             [
              0.5555555555555556,
              "#d8576b"
             ],
             [
              0.6666666666666666,
              "#ed7953"
             ],
             [
              0.7777777777777778,
              "#fb9f3a"
             ],
             [
              0.8888888888888888,
              "#fdca26"
             ],
             [
              1,
              "#f0f921"
             ]
            ],
            "type": "histogram2dcontour"
           }
          ],
          "mesh3d": [
           {
            "colorbar": {
             "outlinewidth": 0,
             "ticks": ""
            },
            "type": "mesh3d"
           }
          ],
          "parcoords": [
           {
            "line": {
             "colorbar": {
              "outlinewidth": 0,
              "ticks": ""
             }
            },
            "type": "parcoords"
           }
          ],
          "pie": [
           {
            "automargin": true,
            "type": "pie"
           }
          ],
          "scatter": [
           {
            "marker": {
             "colorbar": {
              "outlinewidth": 0,
              "ticks": ""
             }
            },
            "type": "scatter"
           }
          ],
          "scatter3d": [
           {
            "line": {
             "colorbar": {
              "outlinewidth": 0,
              "ticks": ""
             }
            },
            "marker": {
             "colorbar": {
              "outlinewidth": 0,
              "ticks": ""
             }
            },
            "type": "scatter3d"
           }
          ],
          "scattercarpet": [
           {
            "marker": {
             "colorbar": {
              "outlinewidth": 0,
              "ticks": ""
             }
            },
            "type": "scattercarpet"
           }
          ],
          "scattergeo": [
           {
            "marker": {
             "colorbar": {
              "outlinewidth": 0,
              "ticks": ""
             }
            },
            "type": "scattergeo"
           }
          ],
          "scattergl": [
           {
            "marker": {
             "colorbar": {
              "outlinewidth": 0,
              "ticks": ""
             }
            },
            "type": "scattergl"
           }
          ],
          "scattermapbox": [
           {
            "marker": {
             "colorbar": {
              "outlinewidth": 0,
              "ticks": ""
             }
            },
            "type": "scattermapbox"
           }
          ],
          "scatterpolar": [
           {
            "marker": {
             "colorbar": {
              "outlinewidth": 0,
              "ticks": ""
             }
            },
            "type": "scatterpolar"
           }
          ],
          "scatterpolargl": [
           {
            "marker": {
             "colorbar": {
              "outlinewidth": 0,
              "ticks": ""
             }
            },
            "type": "scatterpolargl"
           }
          ],
          "scatterternary": [
           {
            "marker": {
             "colorbar": {
              "outlinewidth": 0,
              "ticks": ""
             }
            },
            "type": "scatterternary"
           }
          ],
          "surface": [
           {
            "colorbar": {
             "outlinewidth": 0,
             "ticks": ""
            },
            "colorscale": [
             [
              0,
              "#0d0887"
             ],
             [
              0.1111111111111111,
              "#46039f"
             ],
             [
              0.2222222222222222,
              "#7201a8"
             ],
             [
              0.3333333333333333,
              "#9c179e"
             ],
             [
              0.4444444444444444,
              "#bd3786"
             ],
             [
              0.5555555555555556,
              "#d8576b"
             ],
             [
              0.6666666666666666,
              "#ed7953"
             ],
             [
              0.7777777777777778,
              "#fb9f3a"
             ],
             [
              0.8888888888888888,
              "#fdca26"
             ],
             [
              1,
              "#f0f921"
             ]
            ],
            "type": "surface"
           }
          ],
          "table": [
           {
            "cells": {
             "fill": {
              "color": "#EBF0F8"
             },
             "line": {
              "color": "white"
             }
            },
            "header": {
             "fill": {
              "color": "#C8D4E3"
             },
             "line": {
              "color": "white"
             }
            },
            "type": "table"
           }
          ]
         },
         "layout": {
          "annotationdefaults": {
           "arrowcolor": "#2a3f5f",
           "arrowhead": 0,
           "arrowwidth": 1
          },
          "autotypenumbers": "strict",
          "coloraxis": {
           "colorbar": {
            "outlinewidth": 0,
            "ticks": ""
           }
          },
          "colorscale": {
           "diverging": [
            [
             0,
             "#8e0152"
            ],
            [
             0.1,
             "#c51b7d"
            ],
            [
             0.2,
             "#de77ae"
            ],
            [
             0.3,
             "#f1b6da"
            ],
            [
             0.4,
             "#fde0ef"
            ],
            [
             0.5,
             "#f7f7f7"
            ],
            [
             0.6,
             "#e6f5d0"
            ],
            [
             0.7,
             "#b8e186"
            ],
            [
             0.8,
             "#7fbc41"
            ],
            [
             0.9,
             "#4d9221"
            ],
            [
             1,
             "#276419"
            ]
           ],
           "sequential": [
            [
             0,
             "#0d0887"
            ],
            [
             0.1111111111111111,
             "#46039f"
            ],
            [
             0.2222222222222222,
             "#7201a8"
            ],
            [
             0.3333333333333333,
             "#9c179e"
            ],
            [
             0.4444444444444444,
             "#bd3786"
            ],
            [
             0.5555555555555556,
             "#d8576b"
            ],
            [
             0.6666666666666666,
             "#ed7953"
            ],
            [
             0.7777777777777778,
             "#fb9f3a"
            ],
            [
             0.8888888888888888,
             "#fdca26"
            ],
            [
             1,
             "#f0f921"
            ]
           ],
           "sequentialminus": [
            [
             0,
             "#0d0887"
            ],
            [
             0.1111111111111111,
             "#46039f"
            ],
            [
             0.2222222222222222,
             "#7201a8"
            ],
            [
             0.3333333333333333,
             "#9c179e"
            ],
            [
             0.4444444444444444,
             "#bd3786"
            ],
            [
             0.5555555555555556,
             "#d8576b"
            ],
            [
             0.6666666666666666,
             "#ed7953"
            ],
            [
             0.7777777777777778,
             "#fb9f3a"
            ],
            [
             0.8888888888888888,
             "#fdca26"
            ],
            [
             1,
             "#f0f921"
            ]
           ]
          },
          "colorway": [
           "#636efa",
           "#EF553B",
           "#00cc96",
           "#ab63fa",
           "#FFA15A",
           "#19d3f3",
           "#FF6692",
           "#B6E880",
           "#FF97FF",
           "#FECB52"
          ],
          "font": {
           "color": "#2a3f5f"
          },
          "geo": {
           "bgcolor": "white",
           "lakecolor": "white",
           "landcolor": "#E5ECF6",
           "showlakes": true,
           "showland": true,
           "subunitcolor": "white"
          },
          "hoverlabel": {
           "align": "left"
          },
          "hovermode": "closest",
          "mapbox": {
           "style": "light"
          },
          "paper_bgcolor": "white",
          "plot_bgcolor": "#E5ECF6",
          "polar": {
           "angularaxis": {
            "gridcolor": "white",
            "linecolor": "white",
            "ticks": ""
           },
           "bgcolor": "#E5ECF6",
           "radialaxis": {
            "gridcolor": "white",
            "linecolor": "white",
            "ticks": ""
           }
          },
          "scene": {
           "xaxis": {
            "backgroundcolor": "#E5ECF6",
            "gridcolor": "white",
            "gridwidth": 2,
            "linecolor": "white",
            "showbackground": true,
            "ticks": "",
            "zerolinecolor": "white"
           },
           "yaxis": {
            "backgroundcolor": "#E5ECF6",
            "gridcolor": "white",
            "gridwidth": 2,
            "linecolor": "white",
            "showbackground": true,
            "ticks": "",
            "zerolinecolor": "white"
           },
           "zaxis": {
            "backgroundcolor": "#E5ECF6",
            "gridcolor": "white",
            "gridwidth": 2,
            "linecolor": "white",
            "showbackground": true,
            "ticks": "",
            "zerolinecolor": "white"
           }
          },
          "shapedefaults": {
           "line": {
            "color": "#2a3f5f"
           }
          },
          "ternary": {
           "aaxis": {
            "gridcolor": "white",
            "linecolor": "white",
            "ticks": ""
           },
           "baxis": {
            "gridcolor": "white",
            "linecolor": "white",
            "ticks": ""
           },
           "bgcolor": "#E5ECF6",
           "caxis": {
            "gridcolor": "white",
            "linecolor": "white",
            "ticks": ""
           }
          },
          "title": {
           "x": 0.05
          },
          "xaxis": {
           "automargin": true,
           "gridcolor": "white",
           "linecolor": "white",
           "ticks": "",
           "title": {
            "standoff": 15
           },
           "zerolinecolor": "white",
           "zerolinewidth": 2
          },
          "yaxis": {
           "automargin": true,
           "gridcolor": "white",
           "linecolor": "white",
           "ticks": "",
           "title": {
            "standoff": 15
           },
           "zerolinecolor": "white",
           "zerolinewidth": 2
          }
         }
        },
        "xaxis": {
         "autorange": true,
         "range": [
          -0.5251965329570651,
          9.525196532957064
         ]
        },
        "yaxis": {
         "autorange": true,
         "range": [
          0.014932685020905619,
          0.8775162434794294
         ],
         "type": "linear"
        }
       }
      },
      "image/png": "[encoded data removed]",
      "text/html": [
       "<div>                            <div id=\"f5d77c7d-c558-4d1c-9a12-53be283d1893\" class=\"plotly-graph-div\" style=\"height:525px; width:100%;\"></div>            <script type=\"text/javascript\">                require([\"plotly\"], function(Plotly) {                    window.PLOTLYENV=window.PLOTLYENV || {};                                    if (document.getElementById(\"f5d77c7d-c558-4d1c-9a12-53be283d1893\")) {                    Plotly.newPlot(                        \"f5d77c7d-c558-4d1c-9a12-53be283d1893\",                        [{\"mode\": \"markers\", \"type\": \"scatter\", \"y\": [0.7137668684100164, 0.6391868992253925, 0.3991611452547731, 0.43176012765431926, 0.6145276998103207, 0.07004219014464463, 0.8224067383556903, 0.6534211611136369, 0.7263424644178352, 0.5369230010823904]}],                        {\"template\": {\"data\": {\"bar\": [{\"error_x\": {\"color\": \"#2a3f5f\"}, \"error_y\": {\"color\": \"#2a3f5f\"}, \"marker\": {\"line\": {\"color\": \"#E5ECF6\", \"width\": 0.5}}, \"type\": \"bar\"}], \"barpolar\": [{\"marker\": {\"line\": {\"color\": \"#E5ECF6\", \"width\": 0.5}}, \"type\": \"barpolar\"}], \"carpet\": [{\"aaxis\": {\"endlinecolor\": \"#2a3f5f\", \"gridcolor\": \"white\", \"linecolor\": \"white\", \"minorgridcolor\": \"white\", \"startlinecolor\": \"#2a3f5f\"}, \"baxis\": {\"endlinecolor\": \"#2a3f5f\", \"gridcolor\": \"white\", \"linecolor\": \"white\", \"minorgridcolor\": \"white\", \"startlinecolor\": \"#2a3f5f\"}, \"type\": \"carpet\"}], \"choropleth\": [{\"colorbar\": {\"outlinewidth\": 0, \"ticks\": \"\"}, \"type\": \"choropleth\"}], \"contour\": [{\"colorbar\": {\"outlinewidth\": 0, \"ticks\": \"\"}, \"colorscale\": [[0.0, \"#0d0887\"], [0.1111111111111111, \"#46039f\"], [0.2222222222222222, \"#7201a8\"], [0.3333333333333333, \"#9c179e\"], [0.4444444444444444, \"#bd3786\"], [0.5555555555555556, \"#d8576b\"], [0.6666666666666666, \"#ed7953\"], [0.7777777777777778, \"#fb9f3a\"], [0.8888888888888888, \"#fdca26\"], [1.0, \"#f0f921\"]], \"type\": \"contour\"}], \"contourcarpet\": [{\"colorbar\": {\"outlinewidth\": 0, \"ticks\": \"\"}, \"type\": \"contourcarpet\"}], \"heatmap\": [{\"colorbar\": {\"outlinewidth\": 0, \"ticks\": \"\"}, \"colorscale\": [[0.0, \"#0d0887\"], [0.1111111111111111, \"#46039f\"], [0.2222222222222222, \"#7201a8\"], [0.3333333333333333, \"#9c179e\"], [0.4444444444444444, \"#bd3786\"], [0.5555555555555556, \"#d8576b\"], [0.6666666666666666, \"#ed7953\"], [0.7777777777777778, \"#fb9f3a\"], [0.8888888888888888, \"#fdca26\"], [1.0, \"#f0f921\"]], \"type\": \"heatmap\"}], \"heatmapgl\": [{\"colorbar\": {\"outlinewidth\": 0, \"ticks\": \"\"}, \"colorscale\": [[0.0, \"#0d0887\"], [0.1111111111111111, \"#46039f\"], [0.2222222222222222, \"#7201a8\"], [0.3333333333333333, \"#9c179e\"], [0.4444444444444444, \"#bd3786\"], [0.5555555555555556, \"#d8576b\"], [0.6666666666666666, \"#ed7953\"], [0.7777777777777778, \"#fb9f3a\"], [0.8888888888888888, \"#fdca26\"], [1.0, \"#f0f921\"]], \"type\": \"heatmapgl\"}], \"histogram\": [{\"marker\": {\"colorbar\": {\"outlinewidth\": 0, \"ticks\": \"\"}}, \"type\": \"histogram\"}], \"histogram2d\": [{\"colorbar\": {\"outlinewidth\": 0, \"ticks\": \"\"}, \"colorscale\": [[0.0, \"#0d0887\"], [0.1111111111111111, \"#46039f\"], [0.2222222222222222, \"#7201a8\"], [0.3333333333333333, \"#9c179e\"], [0.4444444444444444, \"#bd3786\"], [0.5555555555555556, \"#d8576b\"], [0.6666666666666666, \"#ed7953\"], [0.7777777777777778, \"#fb9f3a\"], [0.8888888888888888, \"#fdca26\"], [1.0, \"#f0f921\"]], \"type\": \"histogram2d\"}], \"histogram2dcontour\": [{\"colorbar\": {\"outlinewidth\": 0, \"ticks\": \"\"}, \"colorscale\": [[0.0, \"#0d0887\"], [0.1111111111111111, \"#46039f\"], [0.2222222222222222, \"#7201a8\"], [0.3333333333333333, \"#9c179e\"], [0.4444444444444444, \"#bd3786\"], [0.5555555555555556, \"#d8576b\"], [0.6666666666666666, \"#ed7953\"], [0.7777777777777778, \"#fb9f3a\"], [0.8888888888888888, \"#fdca26\"], [1.0, \"#f0f921\"]], \"type\": \"histogram2dcontour\"}], \"mesh3d\": [{\"colorbar\": {\"outlinewidth\": 0, \"ticks\": \"\"}, \"type\": \"mesh3d\"}], \"parcoords\": [{\"line\": {\"colorbar\": {\"outlinewidth\": 0, \"ticks\": \"\"}}, \"type\": \"parcoords\"}], \"pie\": [{\"automargin\": true, \"type\": \"pie\"}], \"scatter\": [{\"marker\": {\"colorbar\": {\"outlinewidth\": 0, \"ticks\": \"\"}}, \"type\": \"scatter\"}], \"scatter3d\": [{\"line\": {\"colorbar\": {\"outlinewidth\": 0, \"ticks\": \"\"}}, \"marker\": {\"colorbar\": {\"outlinewidth\": 0, \"ticks\": \"\"}}, \"type\": \"scatter3d\"}], \"scattercarpet\": [{\"marker\": {\"colorbar\": {\"outlinewidth\": 0, \"ticks\": \"\"}}, \"type\": \"scattercarpet\"}], \"scattergeo\": [{\"marker\": {\"colorbar\": {\"outlinewidth\": 0, \"ticks\": \"\"}}, \"type\": \"scattergeo\"}], \"scattergl\": [{\"marker\": {\"colorbar\": {\"outlinewidth\": 0, \"ticks\": \"\"}}, \"type\": \"scattergl\"}], \"scattermapbox\": [{\"marker\": {\"colorbar\": {\"outlinewidth\": 0, \"ticks\": \"\"}}, \"type\": \"scattermapbox\"}], \"scatterpolar\": [{\"marker\": {\"colorbar\": {\"outlinewidth\": 0, \"ticks\": \"\"}}, \"type\": \"scatterpolar\"}], \"scatterpolargl\": [{\"marker\": {\"colorbar\": {\"outlinewidth\": 0, \"ticks\": \"\"}}, \"type\": \"scatterpolargl\"}], \"scatterternary\": [{\"marker\": {\"colorbar\": {\"outlinewidth\": 0, \"ticks\": \"\"}}, \"type\": \"scatterternary\"}], \"surface\": [{\"colorbar\": {\"outlinewidth\": 0, \"ticks\": \"\"}, \"colorscale\": [[0.0, \"#0d0887\"], [0.1111111111111111, \"#46039f\"], [0.2222222222222222, \"#7201a8\"], [0.3333333333333333, \"#9c179e\"], [0.4444444444444444, \"#bd3786\"], [0.5555555555555556, \"#d8576b\"], [0.6666666666666666, \"#ed7953\"], [0.7777777777777778, \"#fb9f3a\"], [0.8888888888888888, \"#fdca26\"], [1.0, \"#f0f921\"]], \"type\": \"surface\"}], \"table\": [{\"cells\": {\"fill\": {\"color\": \"#EBF0F8\"}, \"line\": {\"color\": \"white\"}}, \"header\": {\"fill\": {\"color\": \"#C8D4E3\"}, \"line\": {\"color\": \"white\"}}, \"type\": \"table\"}]}, \"layout\": {\"annotationdefaults\": {\"arrowcolor\": \"#2a3f5f\", \"arrowhead\": 0, \"arrowwidth\": 1}, \"autotypenumbers\": \"strict\", \"coloraxis\": {\"colorbar\": {\"outlinewidth\": 0, \"ticks\": \"\"}}, \"colorscale\": {\"diverging\": [[0, \"#8e0152\"], [0.1, \"#c51b7d\"], [0.2, \"#de77ae\"], [0.3, \"#f1b6da\"], [0.4, \"#fde0ef\"], [0.5, \"#f7f7f7\"], [0.6, \"#e6f5d0\"], [0.7, \"#b8e186\"], [0.8, \"#7fbc41\"], [0.9, \"#4d9221\"], [1, \"#276419\"]], \"sequential\": [[0.0, \"#0d0887\"], [0.1111111111111111, \"#46039f\"], [0.2222222222222222, \"#7201a8\"], [0.3333333333333333, \"#9c179e\"], [0.4444444444444444, \"#bd3786\"], [0.5555555555555556, \"#d8576b\"], [0.6666666666666666, \"#ed7953\"], [0.7777777777777778, \"#fb9f3a\"], [0.8888888888888888, \"#fdca26\"], [1.0, \"#f0f921\"]], \"sequentialminus\": [[0.0, \"#0d0887\"], [0.1111111111111111, \"#46039f\"], [0.2222222222222222, \"#7201a8\"], [0.3333333333333333, \"#9c179e\"], [0.4444444444444444, \"#bd3786\"], [0.5555555555555556, \"#d8576b\"], [0.6666666666666666, \"#ed7953\"], [0.7777777777777778, \"#fb9f3a\"], [0.8888888888888888, \"#fdca26\"], [1.0, \"#f0f921\"]]}, \"colorway\": [\"#636efa\", \"#EF553B\", \"#00cc96\", \"#ab63fa\", \"#FFA15A\", \"#19d3f3\", \"#FF6692\", \"#B6E880\", \"#FF97FF\", \"#FECB52\"], \"font\": {\"color\": \"#2a3f5f\"}, \"geo\": {\"bgcolor\": \"white\", \"lakecolor\": \"white\", \"landcolor\": \"#E5ECF6\", \"showlakes\": true, \"showland\": true, \"subunitcolor\": \"white\"}, \"hoverlabel\": {\"align\": \"left\"}, \"hovermode\": \"closest\", \"mapbox\": {\"style\": \"light\"}, \"paper_bgcolor\": \"white\", \"plot_bgcolor\": \"#E5ECF6\", \"polar\": {\"angularaxis\": {\"gridcolor\": \"white\", \"linecolor\": \"white\", \"ticks\": \"\"}, \"bgcolor\": \"#E5ECF6\", \"radialaxis\": {\"gridcolor\": \"white\", \"linecolor\": \"white\", \"ticks\": \"\"}}, \"scene\": {\"xaxis\": {\"backgroundcolor\": \"#E5ECF6\", \"gridcolor\": \"white\", \"gridwidth\": 2, \"linecolor\": \"white\", \"showbackground\": true, \"ticks\": \"\", \"zerolinecolor\": \"white\"}, \"yaxis\": {\"backgroundcolor\": \"#E5ECF6\", \"gridcolor\": \"white\", \"gridwidth\": 2, \"linecolor\": \"white\", \"showbackground\": true, \"ticks\": \"\", \"zerolinecolor\": \"white\"}, \"zaxis\": {\"backgroundcolor\": \"#E5ECF6\", \"gridcolor\": \"white\", \"gridwidth\": 2, \"linecolor\": \"white\", \"showbackground\": true, \"ticks\": \"\", \"zerolinecolor\": \"white\"}}, \"shapedefaults\": {\"line\": {\"color\": \"#2a3f5f\"}}, \"ternary\": {\"aaxis\": {\"gridcolor\": \"white\", \"linecolor\": \"white\", \"ticks\": \"\"}, \"baxis\": {\"gridcolor\": \"white\", \"linecolor\": \"white\", \"ticks\": \"\"}, \"bgcolor\": \"#E5ECF6\", \"caxis\": {\"gridcolor\": \"white\", \"linecolor\": \"white\", \"ticks\": \"\"}}, \"title\": {\"x\": 0.05}, \"xaxis\": {\"automargin\": true, \"gridcolor\": \"white\", \"linecolor\": \"white\", \"ticks\": \"\", \"title\": {\"standoff\": 15}, \"zerolinecolor\": \"white\", \"zerolinewidth\": 2}, \"yaxis\": {\"automargin\": true, \"gridcolor\": \"white\", \"linecolor\": \"white\", \"ticks\": \"\", \"title\": {\"standoff\": 15}, \"zerolinecolor\": \"white\", \"zerolinewidth\": 2}}}},                        {\"responsive\": true}                    ).then(function(){\n",
       "                            \n",
       "var gd = document.getElementById('f5d77c7d-c558-4d1c-9a12-53be283d1893');\n",
       "var x = new MutationObserver(function (mutations, observer) {{\n",
       "        var display = window.getComputedStyle(gd).display;\n",
       "        if (!display || display === 'none') {{\n",
       "            console.log([gd, 'removed!']);\n",
       "            Plotly.purge(gd);\n",
       "            observer.disconnect();\n",
       "        }}\n",
       "}});\n",
       "\n",
       "// Listen for the removal of the full notebook cells\n",
       "var notebookContainer = gd.closest('#notebook-container');\n",
       "if (notebookContainer) {{\n",
       "    x.observe(notebookContainer, {childList: true});\n",
       "}}\n",
       "\n",
       "// Listen for the clearing of the current output cell\n",
       "var outputEl = gd.closest('.output');\n",
       "if (outputEl) {{\n",
       "    x.observe(outputEl, {childList: true});\n",
       "}}\n",
       "\n",
       "                        })                };                });            </script>        </div>"
      ]
     },
     "metadata": {},
     "output_type": "display_data"
    }
   ],
   "source": [
    "scatter_data = np.random.rand(10)\n",
    "pprint(scatter_data)\n",
    "\n",
    "scatter_fig = go.Figure()\n",
    "\n",
    "_ = scatter_fig.add_trace(\n",
    "    go.Scatter(\n",
    "#         x = list(range(len(scatter_data))),\n",
    "        y = scatter_data,\n",
    "        mode = 'markers',\n",
    "    )\n",
    ")\n",
    "\n",
    "scatter_fig.show()"
   ]
  },
  {
   "cell_type": "code",
   "execution_count": 15,
   "metadata": {},
   "outputs": [
    {
     "data": {
      "application/vnd.plotly.v1+json": {
       "config": {
        "plotlyServerURL": "https://plot.ly"
       },
       "data": [
        {
         "mode": "lines",
         "type": "scatter",
         "x": [
          0,
          0.031415926535897934,
          0.06283185307179587,
          0.0942477796076938,
          0.12566370614359174,
          0.15707963267948966,
          0.1884955592153876,
          0.21991148575128555,
          0.25132741228718347,
          0.2827433388230814,
          0.3141592653589793,
          0.3455751918948773,
          0.3769911184307752,
          0.4084070449666731,
          0.4398229715025711,
          0.471238898038469,
          0.5026548245743669,
          0.5340707511102649,
          0.5654866776461628,
          0.5969026041820608,
          0.6283185307179586,
          0.6597344572538566,
          0.6911503837897546,
          0.7225663103256524,
          0.7539822368615504,
          0.7853981633974484,
          0.8168140899333463,
          0.8482300164692442,
          0.8796459430051422,
          0.9110618695410401,
          0.942477796076938,
          0.9738937226128359,
          1.0053096491487339,
          1.0367255756846319,
          1.0681415022205298,
          1.0995574287564276,
          1.1309733552923256,
          1.1623892818282235,
          1.1938052083641215,
          1.2252211349000195,
          1.2566370614359172,
          1.2880529879718152,
          1.3194689145077132,
          1.3508848410436112,
          1.3823007675795091,
          1.4137166941154071,
          1.4451326206513049,
          1.4765485471872029,
          1.5079644737231008,
          1.5393804002589988,
          1.5707963267948968,
          1.6022122533307945,
          1.6336281798666925,
          1.6650441064025905,
          1.6964600329384885,
          1.7278759594743864,
          1.7592918860102844,
          1.7907078125461822,
          1.8221237390820801,
          1.8535396656179781,
          1.884955592153876,
          1.916371518689774,
          1.9477874452256718,
          1.9792033717615698,
          2.0106192982974678,
          2.0420352248333655,
          2.0734511513692637,
          2.1048670779051615,
          2.1362830044410597,
          2.1676989309769574,
          2.199114857512855,
          2.2305307840487534,
          2.261946710584651,
          2.2933626371205493,
          2.324778563656447,
          2.356194490192345,
          2.387610416728243,
          2.419026343264141,
          2.450442269800039,
          2.4818581963359367,
          2.5132741228718345,
          2.5446900494077327,
          2.5761059759436304,
          2.6075219024795286,
          2.6389378290154264,
          2.6703537555513246,
          2.7017696820872223,
          2.73318560862312,
          2.7646015351590183,
          2.796017461694916,
          2.8274333882308142,
          2.858849314766712,
          2.8902652413026098,
          2.921681167838508,
          2.9530970943744057,
          2.984513020910304,
          3.0159289474462017,
          3.0473448739820994,
          3.0787608005179976,
          3.1101767270538954,
          3.1415926535897936,
          3.1730085801256913,
          3.204424506661589,
          3.2358404331974873,
          3.267256359733385,
          3.298672286269283,
          3.330088212805181,
          3.3615041393410787,
          3.392920065876977,
          3.4243359924128747,
          3.455751918948773,
          3.4871678454846706,
          3.518583772020569,
          3.5499996985564666,
          3.5814156250923643,
          3.6128315516282625,
          3.6442474781641603,
          3.6756634047000585,
          3.7070793312359562,
          3.738495257771854,
          3.769911184307752,
          3.80132711084365,
          3.832743037379548,
          3.864158963915446,
          3.8955748904513436,
          3.926990816987242,
          3.9584067435231396,
          3.989822670059038,
          4.0212385965949355,
          4.052654523130833,
          4.084070449666731,
          4.11548637620263,
          4.1469023027385274,
          4.178318229274425,
          4.209734155810323,
          4.241150082346221,
          4.272566008882119,
          4.303981935418017,
          4.335397861953915,
          4.366813788489813,
          4.39822971502571,
          4.429645641561609,
          4.461061568097507,
          4.4924774946334045,
          4.523893421169302,
          4.5553093477052,
          4.586725274241099,
          4.618141200776996,
          4.649557127312894,
          4.680973053848792,
          4.71238898038469,
          4.743804906920588,
          4.775220833456486,
          4.806636759992384,
          4.838052686528282,
          4.869468613064179,
          4.900884539600078,
          4.932300466135976,
          4.9637163926718735,
          4.995132319207771,
          5.026548245743669,
          5.057964172279568,
          5.089380098815465,
          5.120796025351363,
          5.152211951887261,
          5.1836278784231595,
          5.215043804959057,
          5.246459731494955,
          5.277875658030853,
          5.3092915845667505,
          5.340707511102649,
          5.372123437638547,
          5.403539364174445,
          5.4349552907103424,
          5.46637121724624,
          5.497787143782139,
          5.529203070318037,
          5.560618996853934,
          5.592034923389832,
          5.62345084992573,
          5.6548667764616285,
          5.686282702997526,
          5.717698629533424,
          5.749114556069322,
          5.7805304826052195,
          5.811946409141118,
          5.843362335677016,
          5.874778262212914,
          5.906194188748811,
          5.937610115284709,
          5.969026041820608,
          6.000441968356506,
          6.031857894892403,
          6.063273821428301,
          6.094689747964199,
          6.1261056745000975,
          6.157521601035995,
          6.188937527571893,
          6.220353454107791,
          6.2517693806436885,
          6.283185307179587,
          6.314601233715485,
          6.346017160251383,
          6.37743308678728,
          6.408849013323178,
          6.440264939859077,
          6.4716808663949745,
          6.503096792930872,
          6.53451271946677,
          6.565928646002668,
          6.597344572538566,
          6.628760499074464,
          6.660176425610362,
          6.69159235214626,
          6.7230082786821574,
          6.754424205218056,
          6.785840131753954,
          6.817256058289852,
          6.848671984825749,
          6.880087911361647,
          6.911503837897546,
          6.9429197644334435,
          6.974335690969341,
          7.005751617505239,
          7.037167544041138,
          7.068583470577035,
          7.099999397112933,
          7.131415323648831,
          7.162831250184729,
          7.194247176720627,
          7.225663103256525,
          7.257079029792423,
          7.288494956328321,
          7.319910882864218,
          7.351326809400117,
          7.382742735936015,
          7.4141586624719125,
          7.44557458900781,
          7.476990515543708,
          7.508406442079607,
          7.539822368615504,
          7.571238295151402,
          7.6026542216873,
          7.634070148223198,
          7.665486074759096,
          7.696902001294994,
          7.728317927830892,
          7.7597338543667895,
          7.791149780902687,
          7.822565707438586,
          7.853981633974484,
          7.885397560510381,
          7.916813487046279,
          7.948229413582177,
          7.979645340118076,
          8.011061266653973,
          8.042477193189871,
          8.073893119725769,
          8.105309046261667,
          8.136724972797564,
          8.168140899333462,
          8.199556825869362,
          8.23097275240526,
          8.262388678941157,
          8.293804605477055,
          8.325220532012953,
          8.35663645854885,
          8.388052385084748,
          8.419468311620646,
          8.450884238156544,
          8.482300164692441,
          8.513716091228341,
          8.545132017764239,
          8.576547944300136,
          8.607963870836034,
          8.639379797371932,
          8.67079572390783,
          8.702211650443727,
          8.733627576979625,
          8.765043503515523,
          8.79645943005142,
          8.82787535658732,
          8.859291283123218,
          8.890707209659116,
          8.922123136195014,
          8.953539062730911,
          8.984954989266809,
          9.016370915802707,
          9.047786842338605,
          9.079202768874502,
          9.1106186954104,
          9.1420346219463,
          9.173450548482197,
          9.204866475018095,
          9.236282401553993,
          9.26769832808989,
          9.299114254625788,
          9.330530181161686,
          9.361946107697584,
          9.393362034233482,
          9.42477796076938,
          9.456193887305279,
          9.487609813841177,
          9.519025740377074,
          9.550441666912972,
          9.58185759344887,
          9.613273519984768,
          9.644689446520665,
          9.676105373056563,
          9.707521299592461,
          9.738937226128359,
          9.770353152664258,
          9.801769079200156,
          9.833185005736054,
          9.864600932271951,
          9.89601685880785,
          9.927432785343747,
          9.958848711879645,
          9.990264638415542,
          10.02168056495144,
          10.053096491487338,
          10.084512418023238,
          10.115928344559135,
          10.147344271095033,
          10.17876019763093,
          10.210176124166829,
          10.241592050702726,
          10.273007977238624,
          10.304423903774522,
          10.33583983031042,
          10.367255756846319,
          10.398671683382217,
          10.430087609918115,
          10.461503536454012,
          10.49291946298991,
          10.524335389525808,
          10.555751316061706,
          10.587167242597603,
          10.618583169133501,
          10.649999095669399,
          10.681415022205298,
          10.712830948741196,
          10.744246875277094,
          10.775662801812992,
          10.80707872834889,
          10.838494654884787,
          10.869910581420685,
          10.901326507956583,
          10.93274243449248,
          10.964158361028378,
          10.995574287564278,
          11.026990214100175,
          11.058406140636073,
          11.089822067171971,
          11.121237993707869,
          11.152653920243766,
          11.184069846779664,
          11.215485773315562,
          11.24690169985146,
          11.278317626387357,
          11.309733552923257,
          11.341149479459155,
          11.372565405995053,
          11.40398133253095,
          11.435397259066848,
          11.466813185602746,
          11.498229112138644,
          11.529645038674541,
          11.561060965210439,
          11.592476891746337,
          11.623892818282236,
          11.655308744818134,
          11.686724671354032,
          11.71814059788993,
          11.749556524425827,
          11.780972450961725,
          11.812388377497623,
          11.84380430403352,
          11.875220230569418,
          11.906636157105316,
          11.938052083641216,
          11.969468010177113,
          12.000883936713011,
          12.032299863248909,
          12.063715789784807,
          12.095131716320704,
          12.126547642856602,
          12.1579635693925,
          12.189379495928398,
          12.220795422464297,
          12.252211349000195,
          12.283627275536093,
          12.31504320207199,
          12.346459128607888,
          12.377875055143786,
          12.409290981679684,
          12.440706908215581,
          12.47212283475148,
          12.503538761287377,
          12.534954687823276
         ],
         "y": [
          0,
          0.03141075907812829,
          0.06279051952931337,
          0.09410831331851433,
          0.12533323356430426,
          0.15643446504023087,
          0.18738131458572463,
          0.21814324139654256,
          0.2486898871648548,
          0.2789911060392293,
          0.3090169943749474,
          0.3387379202452914,
          0.368124552684678,
          0.3971478906347806,
          0.4257792915650727,
          0.4539904997395468,
          0.4817536741017153,
          0.5090414157503713,
          0.5358267949789967,
          0.5620833778521306,
          0.5877852522924731,
          0.6129070536529765,
          0.6374239897486897,
          0.6613118653236518,
          0.6845471059286887,
          0.7071067811865476,
          0.7289686274214116,
          0.7501110696304596,
          0.7705132427757893,
          0.7901550123756904,
          0.8090169943749475,
          0.8270805742745618,
          0.8443279255020151,
          0.8607420270039436,
          0.8763066800438637,
          0.8910065241883678,
          0.9048270524660196,
          0.9177546256839811,
          0.9297764858882515,
          0.9408807689542256,
          0.9510565162951535,
          0.9602936856769431,
          0.9685831611286311,
          0.9759167619387474,
          0.9822872507286887,
          0.9876883405951378,
          0.9921147013144779,
          0.99556196460308,
          0.9980267284282716,
          0.9995065603657316,
          1,
          0.9995065603657316,
          0.9980267284282716,
          0.99556196460308,
          0.9921147013144778,
          0.9876883405951377,
          0.9822872507286886,
          0.9759167619387474,
          0.9685831611286311,
          0.9602936856769431,
          0.9510565162951535,
          0.9408807689542255,
          0.9297764858882513,
          0.9177546256839811,
          0.9048270524660195,
          0.8910065241883679,
          0.8763066800438635,
          0.8607420270039436,
          0.844327925502015,
          0.8270805742745617,
          0.8090169943749475,
          0.7901550123756903,
          0.7705132427757893,
          0.7501110696304594,
          0.7289686274214114,
          0.7071067811865476,
          0.6845471059286885,
          0.6613118653236518,
          0.6374239897486895,
          0.6129070536529764,
          0.5877852522924732,
          0.5620833778521305,
          0.5358267949789967,
          0.5090414157503711,
          0.4817536741017152,
          0.45399049973954647,
          0.4257792915650725,
          0.3971478906347806,
          0.36812455268467775,
          0.3387379202452913,
          0.3090169943749471,
          0.2789911060392291,
          0.24868988716485482,
          0.21814324139654231,
          0.18738131458572457,
          0.15643446504023054,
          0.1253332335643041,
          0.09410831331851435,
          0.06279051952931314,
          0.031410759078128236,
          -3.216245299353273e-16,
          -0.03141075907812844,
          -0.06279051952931335,
          -0.09410831331851455,
          -0.12533323356430429,
          -0.15643446504023117,
          -0.18738131458572477,
          -0.2181432413965425,
          -0.24868988716485502,
          -0.2789911060392293,
          -0.30901699437494773,
          -0.3387379202452915,
          -0.3681245526846783,
          -0.3971478906347808,
          -0.42577929156507266,
          -0.4539904997395471,
          -0.4817536741017154,
          -0.5090414157503717,
          -0.5358267949789968,
          -0.5620833778521306,
          -0.5877852522924734,
          -0.6129070536529766,
          -0.63742398974869,
          -0.661311865323652,
          -0.6845471059286887,
          -0.7071067811865477,
          -0.7289686274214116,
          -0.7501110696304598,
          -0.7705132427757894,
          -0.7901550123756904,
          -0.8090169943749473,
          -0.8270805742745622,
          -0.8443279255020153,
          -0.8607420270039438,
          -0.8763066800438636,
          -0.8910065241883678,
          -0.9048270524660198,
          -0.9177546256839813,
          -0.9297764858882515,
          -0.9408807689542255,
          -0.9510565162951535,
          -0.9602936856769432,
          -0.9685831611286312,
          -0.9759167619387474,
          -0.9822872507286887,
          -0.9876883405951377,
          -0.9921147013144779,
          -0.99556196460308,
          -0.9980267284282716,
          -0.9995065603657316,
          -1,
          -0.9995065603657315,
          -0.9980267284282716,
          -0.99556196460308,
          -0.9921147013144779,
          -0.9876883405951378,
          -0.9822872507286886,
          -0.9759167619387473,
          -0.9685831611286311,
          -0.9602936856769431,
          -0.9510565162951536,
          -0.9408807689542253,
          -0.9297764858882512,
          -0.917754625683981,
          -0.9048270524660196,
          -0.8910065241883676,
          -0.8763066800438634,
          -0.8607420270039434,
          -0.844327925502015,
          -0.8270805742745618,
          -0.809016994374947,
          -0.7901550123756901,
          -0.770513242775789,
          -0.7501110696304595,
          -0.7289686274214116,
          -0.707106781186547,
          -0.6845471059286883,
          -0.6613118653236516,
          -0.6374239897486896,
          -0.6129070536529765,
          -0.5877852522924726,
          -0.5620833778521303,
          -0.5358267949789963,
          -0.5090414157503712,
          -0.4817536741017153,
          -0.4539904997395462,
          -0.4257792915650722,
          -0.39714789063478034,
          -0.36812455268467786,
          -0.3387379202452914,
          -0.3090169943749468,
          -0.2789911060392288,
          -0.2486898871648545,
          -0.21814324139654243,
          -0.18738131458572468,
          -0.15643446504023023,
          -0.1253332335643038,
          -0.09410831331851403,
          -0.06279051952931326,
          -0.03141075907812836,
          6.432490598706546e-16,
          0.03141075907812876,
          0.06279051952931367,
          0.09410831331851442,
          0.12533323356430418,
          0.1564344650402315,
          0.18738131458572507,
          0.21814324139654281,
          0.24868988716485488,
          0.27899110603922916,
          0.309016994374948,
          0.3387379202452918,
          0.3681245526846782,
          0.3971478906347807,
          0.42577929156507255,
          0.45399049973954736,
          0.48175367410171566,
          0.5090414157503715,
          0.5358267949789967,
          0.5620833778521305,
          0.5877852522924736,
          0.6129070536529768,
          0.6374239897486899,
          0.6613118653236519,
          0.6845471059286893,
          0.7071067811865479,
          0.7289686274214118,
          0.7501110696304597,
          0.7705132427757893,
          0.7901550123756909,
          0.8090169943749478,
          0.827080574274562,
          0.8443279255020152,
          0.8607420270039436,
          0.8763066800438639,
          0.8910065241883681,
          0.9048270524660197,
          0.9177546256839813,
          0.9297764858882515,
          0.9408807689542258,
          0.9510565162951538,
          0.9602936856769432,
          0.9685831611286312,
          0.9759167619387474,
          0.9822872507286888,
          0.9876883405951378,
          0.9921147013144779,
          0.99556196460308,
          0.9980267284282716,
          0.9995065603657316,
          1,
          0.9995065603657315,
          0.9980267284282716,
          0.99556196460308,
          0.9921147013144778,
          0.9876883405951377,
          0.9822872507286886,
          0.9759167619387473,
          0.9685831611286311,
          0.9602936856769431,
          0.9510565162951536,
          0.940880768954225,
          0.929776485888251,
          0.9177546256839808,
          0.9048270524660192,
          0.8910065241883676,
          0.8763066800438634,
          0.8607420270039435,
          0.8443279255020151,
          0.8270805742745619,
          0.8090169943749477,
          0.7901550123756896,
          0.7705132427757886,
          0.7501110696304589,
          0.728968627421411,
          0.7071067811865471,
          0.6845471059286884,
          0.6613118653236517,
          0.6374239897486897,
          0.6129070536529766,
          0.5877852522924734,
          0.5620833778521296,
          0.5358267949789957,
          0.5090414157503705,
          0.48175367410171466,
          0.4539904997395463,
          0.4257792915650723,
          0.39714789063478045,
          0.368124552684678,
          0.33873792024529153,
          0.3090169943749478,
          0.27899110603922805,
          0.24868988716485377,
          0.21814324139654168,
          0.18738131458572393,
          0.15643446504023034,
          0.1253332335643039,
          0.09410831331851414,
          0.06279051952931339,
          0.03141075907812848,
          3.6739403974420594e-16,
          -0.03141075907812952,
          -0.06279051952931443,
          -0.09410831331851519,
          -0.12533323356430492,
          -0.15643446504023137,
          -0.18738131458572496,
          -0.2181432413965427,
          -0.24868988716485477,
          -0.27899110603922905,
          -0.30901699437494706,
          -0.33873792024529253,
          -0.3681245526846789,
          -0.3971478906347814,
          -0.42577929156507327,
          -0.45399049973954725,
          -0.48175367410171555,
          -0.5090414157503714,
          -0.5358267949789965,
          -0.5620833778521305,
          -0.5877852522924728,
          -0.6129070536529775,
          -0.6374239897486905,
          -0.6613118653236525,
          -0.6845471059286892,
          -0.7071067811865479,
          -0.7289686274214118,
          -0.7501110696304596,
          -0.7705132427757893,
          -0.7901550123756902,
          -0.8090169943749482,
          -0.8270805742745625,
          -0.8443279255020156,
          -0.8607420270039441,
          -0.8763066800438639,
          -0.8910065241883681,
          -0.9048270524660197,
          -0.9177546256839811,
          -0.9297764858882513,
          -0.9408807689542253,
          -0.951056516295154,
          -0.9602936856769434,
          -0.9685831611286314,
          -0.9759167619387475,
          -0.9822872507286888,
          -0.9876883405951378,
          -0.9921147013144779,
          -0.99556196460308,
          -0.9980267284282716,
          -0.9995065603657316,
          -1,
          -0.9995065603657315,
          -0.9980267284282714,
          -0.9955619646030799,
          -0.9921147013144778,
          -0.9876883405951377,
          -0.9822872507286886,
          -0.9759167619387473,
          -0.9685831611286312,
          -0.9602936856769432,
          -0.9510565162951532,
          -0.9408807689542251,
          -0.929776485888251,
          -0.9177546256839808,
          -0.9048270524660192,
          -0.8910065241883677,
          -0.8763066800438635,
          -0.8607420270039436,
          -0.8443279255020151,
          -0.8270805742745619,
          -0.8090169943749467,
          -0.7901550123756896,
          -0.7705132427757886,
          -0.750111069630459,
          -0.7289686274214111,
          -0.7071067811865472,
          -0.6845471059286885,
          -0.6613118653236518,
          -0.6374239897486897,
          -0.6129070536529767,
          -0.587785252292472,
          -0.5620833778521297,
          -0.5358267949789958,
          -0.5090414157503707,
          -0.48175367410171477,
          -0.4539904997395464,
          -0.42577929156507244,
          -0.39714789063478056,
          -0.3681245526846781,
          -0.33873792024529,
          -0.3090169943749462,
          -0.27899110603922816,
          -0.24868988716485388,
          -0.21814324139654181,
          -0.18738131458572405,
          -0.15643446504023048,
          -0.125333233564304,
          -0.09410831331851427,
          -0.06279051952931351,
          -0.03141075907812683
         ]
        }
       ],
       "layout": {
        "autosize": true,
        "template": {
         "data": {
          "bar": [
           {
            "error_x": {
             "color": "#2a3f5f"
            },
            "error_y": {
             "color": "#2a3f5f"
            },
            "marker": {
             "line": {
              "color": "#E5ECF6",
              "width": 0.5
             }
            },
            "type": "bar"
           }
          ],
          "barpolar": [
           {
            "marker": {
             "line": {
              "color": "#E5ECF6",
              "width": 0.5
             }
            },
            "type": "barpolar"
           }
          ],
          "carpet": [
           {
            "aaxis": {
             "endlinecolor": "#2a3f5f",
             "gridcolor": "white",
             "linecolor": "white",
             "minorgridcolor": "white",
             "startlinecolor": "#2a3f5f"
            },
            "baxis": {
             "endlinecolor": "#2a3f5f",
             "gridcolor": "white",
             "linecolor": "white",
             "minorgridcolor": "white",
             "startlinecolor": "#2a3f5f"
            },
            "type": "carpet"
           }
          ],
          "choropleth": [
           {
            "colorbar": {
             "outlinewidth": 0,
             "ticks": ""
            },
            "type": "choropleth"
           }
          ],
          "contour": [
           {
            "colorbar": {
             "outlinewidth": 0,
             "ticks": ""
            },
            "colorscale": [
             [
              0,
              "#0d0887"
             ],
             [
              0.1111111111111111,
              "#46039f"
             ],
             [
              0.2222222222222222,
              "#7201a8"
             ],
             [
              0.3333333333333333,
              "#9c179e"
             ],
             [
              0.4444444444444444,
              "#bd3786"
             ],
             [
              0.5555555555555556,
              "#d8576b"
             ],
             [
              0.6666666666666666,
              "#ed7953"
             ],
             [
              0.7777777777777778,
              "#fb9f3a"
             ],
             [
              0.8888888888888888,
              "#fdca26"
             ],
             [
              1,
              "#f0f921"
             ]
            ],
            "type": "contour"
           }
          ],
          "contourcarpet": [
           {
            "colorbar": {
             "outlinewidth": 0,
             "ticks": ""
            },
            "type": "contourcarpet"
           }
          ],
          "heatmap": [
           {
            "colorbar": {
             "outlinewidth": 0,
             "ticks": ""
            },
            "colorscale": [
             [
              0,
              "#0d0887"
             ],
             [
              0.1111111111111111,
              "#46039f"
             ],
             [
              0.2222222222222222,
              "#7201a8"
             ],
             [
              0.3333333333333333,
              "#9c179e"
             ],
             [
              0.4444444444444444,
              "#bd3786"
             ],
             [
              0.5555555555555556,
              "#d8576b"
             ],
             [
              0.6666666666666666,
              "#ed7953"
             ],
             [
              0.7777777777777778,
              "#fb9f3a"
             ],
             [
              0.8888888888888888,
              "#fdca26"
             ],
             [
              1,
              "#f0f921"
             ]
            ],
            "type": "heatmap"
           }
          ],
          "heatmapgl": [
           {
            "colorbar": {
             "outlinewidth": 0,
             "ticks": ""
            },
            "colorscale": [
             [
              0,
              "#0d0887"
             ],
             [
              0.1111111111111111,
              "#46039f"
             ],
             [
              0.2222222222222222,
              "#7201a8"
             ],
             [
              0.3333333333333333,
              "#9c179e"
             ],
             [
              0.4444444444444444,
              "#bd3786"
             ],
             [
              0.5555555555555556,
              "#d8576b"
             ],
             [
              0.6666666666666666,
              "#ed7953"
             ],
             [
              0.7777777777777778,
              "#fb9f3a"
             ],
             [
              0.8888888888888888,
              "#fdca26"
             ],
             [
              1,
              "#f0f921"
             ]
            ],
            "type": "heatmapgl"
           }
          ],
          "histogram": [
           {
            "marker": {
             "colorbar": {
              "outlinewidth": 0,
              "ticks": ""
             }
            },
            "type": "histogram"
           }
          ],
          "histogram2d": [
           {
            "colorbar": {
             "outlinewidth": 0,
             "ticks": ""
            },
            "colorscale": [
             [
              0,
              "#0d0887"
             ],
             [
              0.1111111111111111,
              "#46039f"
             ],
             [
              0.2222222222222222,
              "#7201a8"
             ],
             [
              0.3333333333333333,
              "#9c179e"
             ],
             [
              0.4444444444444444,
              "#bd3786"
             ],
             [
              0.5555555555555556,
              "#d8576b"
             ],
             [
              0.6666666666666666,
              "#ed7953"
             ],
             [
              0.7777777777777778,
              "#fb9f3a"
             ],
             [
              0.8888888888888888,
              "#fdca26"
             ],
             [
              1,
              "#f0f921"
             ]
            ],
            "type": "histogram2d"
           }
          ],
          "histogram2dcontour": [
           {
            "colorbar": {
             "outlinewidth": 0,
             "ticks": ""
            },
            "colorscale": [
             [
              0,
              "#0d0887"
             ],
             [
              0.1111111111111111,
              "#46039f"
             ],
             [
              0.2222222222222222,
              "#7201a8"
             ],
             [
              0.3333333333333333,
              "#9c179e"
             ],
             [
              0.4444444444444444,
              "#bd3786"
             ],
             [
              0.5555555555555556,
              "#d8576b"
             ],
             [
              0.6666666666666666,
              "#ed7953"
             ],
             [
              0.7777777777777778,
              "#fb9f3a"
             ],
             [
              0.8888888888888888,
              "#fdca26"
             ],
             [
              1,
              "#f0f921"
             ]
            ],
            "type": "histogram2dcontour"
           }
          ],
          "mesh3d": [
           {
            "colorbar": {
             "outlinewidth": 0,
             "ticks": ""
            },
            "type": "mesh3d"
           }
          ],
          "parcoords": [
           {
            "line": {
             "colorbar": {
              "outlinewidth": 0,
              "ticks": ""
             }
            },
            "type": "parcoords"
           }
          ],
          "pie": [
           {
            "automargin": true,
            "type": "pie"
           }
          ],
          "scatter": [
           {
            "marker": {
             "colorbar": {
              "outlinewidth": 0,
              "ticks": ""
             }
            },
            "type": "scatter"
           }
          ],
          "scatter3d": [
           {
            "line": {
             "colorbar": {
              "outlinewidth": 0,
              "ticks": ""
             }
            },
            "marker": {
             "colorbar": {
              "outlinewidth": 0,
              "ticks": ""
             }
            },
            "type": "scatter3d"
           }
          ],
          "scattercarpet": [
           {
            "marker": {
             "colorbar": {
              "outlinewidth": 0,
              "ticks": ""
             }
            },
            "type": "scattercarpet"
           }
          ],
          "scattergeo": [
           {
            "marker": {
             "colorbar": {
              "outlinewidth": 0,
              "ticks": ""
             }
            },
            "type": "scattergeo"
           }
          ],
          "scattergl": [
           {
            "marker": {
             "colorbar": {
              "outlinewidth": 0,
              "ticks": ""
             }
            },
            "type": "scattergl"
           }
          ],
          "scattermapbox": [
           {
            "marker": {
             "colorbar": {
              "outlinewidth": 0,
              "ticks": ""
             }
            },
            "type": "scattermapbox"
           }
          ],
          "scatterpolar": [
           {
            "marker": {
             "colorbar": {
              "outlinewidth": 0,
              "ticks": ""
             }
            },
            "type": "scatterpolar"
           }
          ],
          "scatterpolargl": [
           {
            "marker": {
             "colorbar": {
              "outlinewidth": 0,
              "ticks": ""
             }
            },
            "type": "scatterpolargl"
           }
          ],
          "scatterternary": [
           {
            "marker": {
             "colorbar": {
              "outlinewidth": 0,
              "ticks": ""
             }
            },
            "type": "scatterternary"
           }
          ],
          "surface": [
           {
            "colorbar": {
             "outlinewidth": 0,
             "ticks": ""
            },
            "colorscale": [
             [
              0,
              "#0d0887"
             ],
             [
              0.1111111111111111,
              "#46039f"
             ],
             [
              0.2222222222222222,
              "#7201a8"
             ],
             [
              0.3333333333333333,
              "#9c179e"
             ],
             [
              0.4444444444444444,
              "#bd3786"
             ],
             [
              0.5555555555555556,
              "#d8576b"
             ],
             [
              0.6666666666666666,
              "#ed7953"
             ],
             [
              0.7777777777777778,
              "#fb9f3a"
             ],
             [
              0.8888888888888888,
              "#fdca26"
             ],
             [
              1,
              "#f0f921"
             ]
            ],
            "type": "surface"
           }
          ],
          "table": [
           {
            "cells": {
             "fill": {
              "color": "#EBF0F8"
             },
             "line": {
              "color": "white"
             }
            },
            "header": {
             "fill": {
              "color": "#C8D4E3"
             },
             "line": {
              "color": "white"
             }
            },
            "type": "table"
           }
          ]
         },
         "layout": {
          "annotationdefaults": {
           "arrowcolor": "#2a3f5f",
           "arrowhead": 0,
           "arrowwidth": 1
          },
          "autotypenumbers": "strict",
          "coloraxis": {
           "colorbar": {
            "outlinewidth": 0,
            "ticks": ""
           }
          },
          "colorscale": {
           "diverging": [
            [
             0,
             "#8e0152"
            ],
            [
             0.1,
             "#c51b7d"
            ],
            [
             0.2,
             "#de77ae"
            ],
            [
             0.3,
             "#f1b6da"
            ],
            [
             0.4,
             "#fde0ef"
            ],
            [
             0.5,
             "#f7f7f7"
            ],
            [
             0.6,
             "#e6f5d0"
            ],
            [
             0.7,
             "#b8e186"
            ],
            [
             0.8,
             "#7fbc41"
            ],
            [
             0.9,
             "#4d9221"
            ],
            [
             1,
             "#276419"
            ]
           ],
           "sequential": [
            [
             0,
             "#0d0887"
            ],
            [
             0.1111111111111111,
             "#46039f"
            ],
            [
             0.2222222222222222,
             "#7201a8"
            ],
            [
             0.3333333333333333,
             "#9c179e"
            ],
            [
             0.4444444444444444,
             "#bd3786"
            ],
            [
             0.5555555555555556,
             "#d8576b"
            ],
            [
             0.6666666666666666,
             "#ed7953"
            ],
            [
             0.7777777777777778,
             "#fb9f3a"
            ],
            [
             0.8888888888888888,
             "#fdca26"
            ],
            [
             1,
             "#f0f921"
            ]
           ],
           "sequentialminus": [
            [
             0,
             "#0d0887"
            ],
            [
             0.1111111111111111,
             "#46039f"
            ],
            [
             0.2222222222222222,
             "#7201a8"
            ],
            [
             0.3333333333333333,
             "#9c179e"
            ],
            [
             0.4444444444444444,
             "#bd3786"
            ],
            [
             0.5555555555555556,
             "#d8576b"
            ],
            [
             0.6666666666666666,
             "#ed7953"
            ],
            [
             0.7777777777777778,
             "#fb9f3a"
            ],
            [
             0.8888888888888888,
             "#fdca26"
            ],
            [
             1,
             "#f0f921"
            ]
           ]
          },
          "colorway": [
           "#636efa",
           "#EF553B",
           "#00cc96",
           "#ab63fa",
           "#FFA15A",
           "#19d3f3",
           "#FF6692",
           "#B6E880",
           "#FF97FF",
           "#FECB52"
          ],
          "font": {
           "color": "#2a3f5f"
          },
          "geo": {
           "bgcolor": "white",
           "lakecolor": "white",
           "landcolor": "#E5ECF6",
           "showlakes": true,
           "showland": true,
           "subunitcolor": "white"
          },
          "hoverlabel": {
           "align": "left"
          },
          "hovermode": "closest",
          "mapbox": {
           "style": "light"
          },
          "paper_bgcolor": "white",
          "plot_bgcolor": "#E5ECF6",
          "polar": {
           "angularaxis": {
            "gridcolor": "white",
            "linecolor": "white",
            "ticks": ""
           },
           "bgcolor": "#E5ECF6",
           "radialaxis": {
            "gridcolor": "white",
            "linecolor": "white",
            "ticks": ""
           }
          },
          "scene": {
           "xaxis": {
            "backgroundcolor": "#E5ECF6",
            "gridcolor": "white",
            "gridwidth": 2,
            "linecolor": "white",
            "showbackground": true,
            "ticks": "",
            "zerolinecolor": "white"
           },
           "yaxis": {
            "backgroundcolor": "#E5ECF6",
            "gridcolor": "white",
            "gridwidth": 2,
            "linecolor": "white",
            "showbackground": true,
            "ticks": "",
            "zerolinecolor": "white"
           },
           "zaxis": {
            "backgroundcolor": "#E5ECF6",
            "gridcolor": "white",
            "gridwidth": 2,
            "linecolor": "white",
            "showbackground": true,
            "ticks": "",
            "zerolinecolor": "white"
           }
          },
          "shapedefaults": {
           "line": {
            "color": "#2a3f5f"
           }
          },
          "ternary": {
           "aaxis": {
            "gridcolor": "white",
            "linecolor": "white",
            "ticks": ""
           },
           "baxis": {
            "gridcolor": "white",
            "linecolor": "white",
            "ticks": ""
           },
           "bgcolor": "#E5ECF6",
           "caxis": {
            "gridcolor": "white",
            "linecolor": "white",
            "ticks": ""
           }
          },
          "title": {
           "x": 0.05
          },
          "xaxis": {
           "automargin": true,
           "gridcolor": "white",
           "linecolor": "white",
           "ticks": "",
           "title": {
            "standoff": 15
           },
           "zerolinecolor": "white",
           "zerolinewidth": 2
          },
          "yaxis": {
           "automargin": true,
           "gridcolor": "white",
           "linecolor": "white",
           "ticks": "",
           "title": {
            "standoff": 15
           },
           "zerolinecolor": "white",
           "zerolinewidth": 2
          }
         }
        },
        "xaxis": {
         "autorange": true,
         "range": [
          0,
          12.534954687823276
         ],
         "type": "linear"
        },
        "yaxis": {
         "autorange": true,
         "range": [
          -1.1111111111111112,
          1.1111111111111112
         ],
         "type": "linear"
        }
       }
      },
      "image/png": "[encoded data removed]",
      "text/html": [
       "<div>                            <div id=\"fa4bd416-bb28-4d03-b31d-9ddebb917d81\" class=\"plotly-graph-div\" style=\"height:525px; width:100%;\"></div>            <script type=\"text/javascript\">                require([\"plotly\"], function(Plotly) {                    window.PLOTLYENV=window.PLOTLYENV || {};                                    if (document.getElementById(\"fa4bd416-bb28-4d03-b31d-9ddebb917d81\")) {                    Plotly.newPlot(                        \"fa4bd416-bb28-4d03-b31d-9ddebb917d81\",                        [{\"mode\": \"lines\", \"type\": \"scatter\", \"x\": [0.0, 0.031415926535897934, 0.06283185307179587, 0.0942477796076938, 0.12566370614359174, 0.15707963267948966, 0.1884955592153876, 0.21991148575128555, 0.25132741228718347, 0.2827433388230814, 0.3141592653589793, 0.3455751918948773, 0.3769911184307752, 0.4084070449666731, 0.4398229715025711, 0.471238898038469, 0.5026548245743669, 0.5340707511102649, 0.5654866776461628, 0.5969026041820608, 0.6283185307179586, 0.6597344572538566, 0.6911503837897546, 0.7225663103256524, 0.7539822368615504, 0.7853981633974484, 0.8168140899333463, 0.8482300164692442, 0.8796459430051422, 0.9110618695410401, 0.942477796076938, 0.9738937226128359, 1.0053096491487339, 1.0367255756846319, 1.0681415022205298, 1.0995574287564276, 1.1309733552923256, 1.1623892818282235, 1.1938052083641215, 1.2252211349000195, 1.2566370614359172, 1.2880529879718152, 1.3194689145077132, 1.3508848410436112, 1.3823007675795091, 1.4137166941154071, 1.4451326206513049, 1.4765485471872029, 1.5079644737231008, 1.5393804002589988, 1.5707963267948968, 1.6022122533307945, 1.6336281798666925, 1.6650441064025905, 1.6964600329384885, 1.7278759594743864, 1.7592918860102844, 1.7907078125461822, 1.8221237390820801, 1.8535396656179781, 1.884955592153876, 1.916371518689774, 1.9477874452256718, 1.9792033717615698, 2.0106192982974678, 2.0420352248333655, 2.0734511513692637, 2.1048670779051615, 2.1362830044410597, 2.1676989309769574, 2.199114857512855, 2.2305307840487534, 2.261946710584651, 2.2933626371205493, 2.324778563656447, 2.356194490192345, 2.387610416728243, 2.419026343264141, 2.450442269800039, 2.4818581963359367, 2.5132741228718345, 2.5446900494077327, 2.5761059759436304, 2.6075219024795286, 2.6389378290154264, 2.6703537555513246, 2.7017696820872223, 2.73318560862312, 2.7646015351590183, 2.796017461694916, 2.8274333882308142, 2.858849314766712, 2.8902652413026098, 2.921681167838508, 2.9530970943744057, 2.984513020910304, 3.0159289474462017, 3.0473448739820994, 3.0787608005179976, 3.1101767270538954, 3.1415926535897936, 3.1730085801256913, 3.204424506661589, 3.2358404331974873, 3.267256359733385, 3.298672286269283, 3.330088212805181, 3.3615041393410787, 3.392920065876977, 3.4243359924128747, 3.455751918948773, 3.4871678454846706, 3.518583772020569, 3.5499996985564666, 3.5814156250923643, 3.6128315516282625, 3.6442474781641603, 3.6756634047000585, 3.7070793312359562, 3.738495257771854, 3.769911184307752, 3.80132711084365, 3.832743037379548, 3.864158963915446, 3.8955748904513436, 3.926990816987242, 3.9584067435231396, 3.989822670059038, 4.0212385965949355, 4.052654523130833, 4.084070449666731, 4.11548637620263, 4.1469023027385274, 4.178318229274425, 4.209734155810323, 4.241150082346221, 4.272566008882119, 4.303981935418017, 4.335397861953915, 4.366813788489813, 4.39822971502571, 4.429645641561609, 4.461061568097507, 4.4924774946334045, 4.523893421169302, 4.5553093477052, 4.586725274241099, 4.618141200776996, 4.649557127312894, 4.680973053848792, 4.71238898038469, 4.743804906920588, 4.775220833456486, 4.806636759992384, 4.838052686528282, 4.869468613064179, 4.900884539600078, 4.932300466135976, 4.9637163926718735, 4.995132319207771, 5.026548245743669, 5.057964172279568, 5.089380098815465, 5.120796025351363, 5.152211951887261, 5.1836278784231595, 5.215043804959057, 5.246459731494955, 5.277875658030853, 5.3092915845667505, 5.340707511102649, 5.372123437638547, 5.403539364174445, 5.4349552907103424, 5.46637121724624, 5.497787143782139, 5.529203070318037, 5.560618996853934, 5.592034923389832, 5.62345084992573, 5.6548667764616285, 5.686282702997526, 5.717698629533424, 5.749114556069322, 5.7805304826052195, 5.811946409141118, 5.843362335677016, 5.874778262212914, 5.906194188748811, 5.937610115284709, 5.969026041820608, 6.000441968356506, 6.031857894892403, 6.063273821428301, 6.094689747964199, 6.1261056745000975, 6.157521601035995, 6.188937527571893, 6.220353454107791, 6.2517693806436885, 6.283185307179587, 6.314601233715485, 6.346017160251383, 6.37743308678728, 6.408849013323178, 6.440264939859077, 6.4716808663949745, 6.503096792930872, 6.53451271946677, 6.565928646002668, 6.597344572538566, 6.628760499074464, 6.660176425610362, 6.69159235214626, 6.7230082786821574, 6.754424205218056, 6.785840131753954, 6.817256058289852, 6.848671984825749, 6.880087911361647, 6.911503837897546, 6.9429197644334435, 6.974335690969341, 7.005751617505239, 7.037167544041138, 7.068583470577035, 7.099999397112933, 7.131415323648831, 7.162831250184729, 7.194247176720627, 7.225663103256525, 7.257079029792423, 7.288494956328321, 7.319910882864218, 7.351326809400117, 7.382742735936015, 7.4141586624719125, 7.44557458900781, 7.476990515543708, 7.508406442079607, 7.539822368615504, 7.571238295151402, 7.6026542216873, 7.634070148223198, 7.665486074759096, 7.696902001294994, 7.728317927830892, 7.7597338543667895, 7.791149780902687, 7.822565707438586, 7.853981633974484, 7.885397560510381, 7.916813487046279, 7.948229413582177, 7.979645340118076, 8.011061266653973, 8.042477193189871, 8.073893119725769, 8.105309046261667, 8.136724972797564, 8.168140899333462, 8.199556825869362, 8.23097275240526, 8.262388678941157, 8.293804605477055, 8.325220532012953, 8.35663645854885, 8.388052385084748, 8.419468311620646, 8.450884238156544, 8.482300164692441, 8.513716091228341, 8.545132017764239, 8.576547944300136, 8.607963870836034, 8.639379797371932, 8.67079572390783, 8.702211650443727, 8.733627576979625, 8.765043503515523, 8.79645943005142, 8.82787535658732, 8.859291283123218, 8.890707209659116, 8.922123136195014, 8.953539062730911, 8.984954989266809, 9.016370915802707, 9.047786842338605, 9.079202768874502, 9.1106186954104, 9.1420346219463, 9.173450548482197, 9.204866475018095, 9.236282401553993, 9.26769832808989, 9.299114254625788, 9.330530181161686, 9.361946107697584, 9.393362034233482, 9.42477796076938, 9.456193887305279, 9.487609813841177, 9.519025740377074, 9.550441666912972, 9.58185759344887, 9.613273519984768, 9.644689446520665, 9.676105373056563, 9.707521299592461, 9.738937226128359, 9.770353152664258, 9.801769079200156, 9.833185005736054, 9.864600932271951, 9.89601685880785, 9.927432785343747, 9.958848711879645, 9.990264638415542, 10.02168056495144, 10.053096491487338, 10.084512418023238, 10.115928344559135, 10.147344271095033, 10.17876019763093, 10.210176124166829, 10.241592050702726, 10.273007977238624, 10.304423903774522, 10.33583983031042, 10.367255756846319, 10.398671683382217, 10.430087609918115, 10.461503536454012, 10.49291946298991, 10.524335389525808, 10.555751316061706, 10.587167242597603, 10.618583169133501, 10.649999095669399, 10.681415022205298, 10.712830948741196, 10.744246875277094, 10.775662801812992, 10.80707872834889, 10.838494654884787, 10.869910581420685, 10.901326507956583, 10.93274243449248, 10.964158361028378, 10.995574287564278, 11.026990214100175, 11.058406140636073, 11.089822067171971, 11.121237993707869, 11.152653920243766, 11.184069846779664, 11.215485773315562, 11.24690169985146, 11.278317626387357, 11.309733552923257, 11.341149479459155, 11.372565405995053, 11.40398133253095, 11.435397259066848, 11.466813185602746, 11.498229112138644, 11.529645038674541, 11.561060965210439, 11.592476891746337, 11.623892818282236, 11.655308744818134, 11.686724671354032, 11.71814059788993, 11.749556524425827, 11.780972450961725, 11.812388377497623, 11.84380430403352, 11.875220230569418, 11.906636157105316, 11.938052083641216, 11.969468010177113, 12.000883936713011, 12.032299863248909, 12.063715789784807, 12.095131716320704, 12.126547642856602, 12.1579635693925, 12.189379495928398, 12.220795422464297, 12.252211349000195, 12.283627275536093, 12.31504320207199, 12.346459128607888, 12.377875055143786, 12.409290981679684, 12.440706908215581, 12.47212283475148, 12.503538761287377, 12.534954687823276], \"y\": [0.0, 0.03141075907812829, 0.06279051952931337, 0.09410831331851433, 0.12533323356430426, 0.15643446504023087, 0.18738131458572463, 0.21814324139654256, 0.2486898871648548, 0.2789911060392293, 0.3090169943749474, 0.3387379202452914, 0.368124552684678, 0.3971478906347806, 0.4257792915650727, 0.4539904997395468, 0.4817536741017153, 0.5090414157503713, 0.5358267949789967, 0.5620833778521306, 0.5877852522924731, 0.6129070536529765, 0.6374239897486897, 0.6613118653236518, 0.6845471059286887, 0.7071067811865476, 0.7289686274214116, 0.7501110696304596, 0.7705132427757893, 0.7901550123756904, 0.8090169943749475, 0.8270805742745618, 0.8443279255020151, 0.8607420270039436, 0.8763066800438637, 0.8910065241883678, 0.9048270524660196, 0.9177546256839811, 0.9297764858882515, 0.9408807689542256, 0.9510565162951535, 0.9602936856769431, 0.9685831611286311, 0.9759167619387474, 0.9822872507286887, 0.9876883405951378, 0.9921147013144779, 0.99556196460308, 0.9980267284282716, 0.9995065603657316, 1.0, 0.9995065603657316, 0.9980267284282716, 0.99556196460308, 0.9921147013144778, 0.9876883405951377, 0.9822872507286886, 0.9759167619387474, 0.9685831611286311, 0.9602936856769431, 0.9510565162951535, 0.9408807689542255, 0.9297764858882513, 0.9177546256839811, 0.9048270524660195, 0.8910065241883679, 0.8763066800438635, 0.8607420270039436, 0.844327925502015, 0.8270805742745617, 0.8090169943749475, 0.7901550123756903, 0.7705132427757893, 0.7501110696304594, 0.7289686274214114, 0.7071067811865476, 0.6845471059286885, 0.6613118653236518, 0.6374239897486895, 0.6129070536529764, 0.5877852522924732, 0.5620833778521305, 0.5358267949789967, 0.5090414157503711, 0.4817536741017152, 0.45399049973954647, 0.4257792915650725, 0.3971478906347806, 0.36812455268467775, 0.3387379202452913, 0.3090169943749471, 0.2789911060392291, 0.24868988716485482, 0.21814324139654231, 0.18738131458572457, 0.15643446504023054, 0.1253332335643041, 0.09410831331851435, 0.06279051952931314, 0.031410759078128236, -3.216245299353273e-16, -0.03141075907812844, -0.06279051952931335, -0.09410831331851455, -0.12533323356430429, -0.15643446504023117, -0.18738131458572477, -0.2181432413965425, -0.24868988716485502, -0.2789911060392293, -0.30901699437494773, -0.3387379202452915, -0.3681245526846783, -0.3971478906347808, -0.42577929156507266, -0.4539904997395471, -0.4817536741017154, -0.5090414157503717, -0.5358267949789968, -0.5620833778521306, -0.5877852522924734, -0.6129070536529766, -0.63742398974869, -0.661311865323652, -0.6845471059286887, -0.7071067811865477, -0.7289686274214116, -0.7501110696304598, -0.7705132427757894, -0.7901550123756904, -0.8090169943749473, -0.8270805742745622, -0.8443279255020153, -0.8607420270039438, -0.8763066800438636, -0.8910065241883678, -0.9048270524660198, -0.9177546256839813, -0.9297764858882515, -0.9408807689542255, -0.9510565162951535, -0.9602936856769432, -0.9685831611286312, -0.9759167619387474, -0.9822872507286887, -0.9876883405951377, -0.9921147013144779, -0.99556196460308, -0.9980267284282716, -0.9995065603657316, -1.0, -0.9995065603657315, -0.9980267284282716, -0.99556196460308, -0.9921147013144779, -0.9876883405951378, -0.9822872507286886, -0.9759167619387473, -0.9685831611286311, -0.9602936856769431, -0.9510565162951536, -0.9408807689542253, -0.9297764858882512, -0.917754625683981, -0.9048270524660196, -0.8910065241883676, -0.8763066800438634, -0.8607420270039434, -0.844327925502015, -0.8270805742745618, -0.809016994374947, -0.7901550123756901, -0.770513242775789, -0.7501110696304595, -0.7289686274214116, -0.707106781186547, -0.6845471059286883, -0.6613118653236516, -0.6374239897486896, -0.6129070536529765, -0.5877852522924726, -0.5620833778521303, -0.5358267949789963, -0.5090414157503712, -0.4817536741017153, -0.4539904997395462, -0.4257792915650722, -0.39714789063478034, -0.36812455268467786, -0.3387379202452914, -0.3090169943749468, -0.2789911060392288, -0.2486898871648545, -0.21814324139654243, -0.18738131458572468, -0.15643446504023023, -0.1253332335643038, -0.09410831331851403, -0.06279051952931326, -0.03141075907812836, 6.432490598706546e-16, 0.03141075907812876, 0.06279051952931367, 0.09410831331851442, 0.12533323356430418, 0.1564344650402315, 0.18738131458572507, 0.21814324139654281, 0.24868988716485488, 0.27899110603922916, 0.309016994374948, 0.3387379202452918, 0.3681245526846782, 0.3971478906347807, 0.42577929156507255, 0.45399049973954736, 0.48175367410171566, 0.5090414157503715, 0.5358267949789967, 0.5620833778521305, 0.5877852522924736, 0.6129070536529768, 0.6374239897486899, 0.6613118653236519, 0.6845471059286893, 0.7071067811865479, 0.7289686274214118, 0.7501110696304597, 0.7705132427757893, 0.7901550123756909, 0.8090169943749478, 0.827080574274562, 0.8443279255020152, 0.8607420270039436, 0.8763066800438639, 0.8910065241883681, 0.9048270524660197, 0.9177546256839813, 0.9297764858882515, 0.9408807689542258, 0.9510565162951538, 0.9602936856769432, 0.9685831611286312, 0.9759167619387474, 0.9822872507286888, 0.9876883405951378, 0.9921147013144779, 0.99556196460308, 0.9980267284282716, 0.9995065603657316, 1.0, 0.9995065603657315, 0.9980267284282716, 0.99556196460308, 0.9921147013144778, 0.9876883405951377, 0.9822872507286886, 0.9759167619387473, 0.9685831611286311, 0.9602936856769431, 0.9510565162951536, 0.940880768954225, 0.929776485888251, 0.9177546256839808, 0.9048270524660192, 0.8910065241883676, 0.8763066800438634, 0.8607420270039435, 0.8443279255020151, 0.8270805742745619, 0.8090169943749477, 0.7901550123756896, 0.7705132427757886, 0.7501110696304589, 0.728968627421411, 0.7071067811865471, 0.6845471059286884, 0.6613118653236517, 0.6374239897486897, 0.6129070536529766, 0.5877852522924734, 0.5620833778521296, 0.5358267949789957, 0.5090414157503705, 0.48175367410171466, 0.4539904997395463, 0.4257792915650723, 0.39714789063478045, 0.368124552684678, 0.33873792024529153, 0.3090169943749478, 0.27899110603922805, 0.24868988716485377, 0.21814324139654168, 0.18738131458572393, 0.15643446504023034, 0.1253332335643039, 0.09410831331851414, 0.06279051952931339, 0.03141075907812848, 3.6739403974420594e-16, -0.03141075907812952, -0.06279051952931443, -0.09410831331851519, -0.12533323356430492, -0.15643446504023137, -0.18738131458572496, -0.2181432413965427, -0.24868988716485477, -0.27899110603922905, -0.30901699437494706, -0.33873792024529253, -0.3681245526846789, -0.3971478906347814, -0.42577929156507327, -0.45399049973954725, -0.48175367410171555, -0.5090414157503714, -0.5358267949789965, -0.5620833778521305, -0.5877852522924728, -0.6129070536529775, -0.6374239897486905, -0.6613118653236525, -0.6845471059286892, -0.7071067811865479, -0.7289686274214118, -0.7501110696304596, -0.7705132427757893, -0.7901550123756902, -0.8090169943749482, -0.8270805742745625, -0.8443279255020156, -0.8607420270039441, -0.8763066800438639, -0.8910065241883681, -0.9048270524660197, -0.9177546256839811, -0.9297764858882513, -0.9408807689542253, -0.951056516295154, -0.9602936856769434, -0.9685831611286314, -0.9759167619387475, -0.9822872507286888, -0.9876883405951378, -0.9921147013144779, -0.99556196460308, -0.9980267284282716, -0.9995065603657316, -1.0, -0.9995065603657315, -0.9980267284282714, -0.9955619646030799, -0.9921147013144778, -0.9876883405951377, -0.9822872507286886, -0.9759167619387473, -0.9685831611286312, -0.9602936856769432, -0.9510565162951532, -0.9408807689542251, -0.929776485888251, -0.9177546256839808, -0.9048270524660192, -0.8910065241883677, -0.8763066800438635, -0.8607420270039436, -0.8443279255020151, -0.8270805742745619, -0.8090169943749467, -0.7901550123756896, -0.7705132427757886, -0.750111069630459, -0.7289686274214111, -0.7071067811865472, -0.6845471059286885, -0.6613118653236518, -0.6374239897486897, -0.6129070536529767, -0.587785252292472, -0.5620833778521297, -0.5358267949789958, -0.5090414157503707, -0.48175367410171477, -0.4539904997395464, -0.42577929156507244, -0.39714789063478056, -0.3681245526846781, -0.33873792024529, -0.3090169943749462, -0.27899110603922816, -0.24868988716485388, -0.21814324139654181, -0.18738131458572405, -0.15643446504023048, -0.125333233564304, -0.09410831331851427, -0.06279051952931351, -0.03141075907812683]}],                        {\"template\": {\"data\": {\"bar\": [{\"error_x\": {\"color\": \"#2a3f5f\"}, \"error_y\": {\"color\": \"#2a3f5f\"}, \"marker\": {\"line\": {\"color\": \"#E5ECF6\", \"width\": 0.5}}, \"type\": \"bar\"}], \"barpolar\": [{\"marker\": {\"line\": {\"color\": \"#E5ECF6\", \"width\": 0.5}}, \"type\": \"barpolar\"}], \"carpet\": [{\"aaxis\": {\"endlinecolor\": \"#2a3f5f\", \"gridcolor\": \"white\", \"linecolor\": \"white\", \"minorgridcolor\": \"white\", \"startlinecolor\": \"#2a3f5f\"}, \"baxis\": {\"endlinecolor\": \"#2a3f5f\", \"gridcolor\": \"white\", \"linecolor\": \"white\", \"minorgridcolor\": \"white\", \"startlinecolor\": \"#2a3f5f\"}, \"type\": \"carpet\"}], \"choropleth\": [{\"colorbar\": {\"outlinewidth\": 0, \"ticks\": \"\"}, \"type\": \"choropleth\"}], \"contour\": [{\"colorbar\": {\"outlinewidth\": 0, \"ticks\": \"\"}, \"colorscale\": [[0.0, \"#0d0887\"], [0.1111111111111111, \"#46039f\"], [0.2222222222222222, \"#7201a8\"], [0.3333333333333333, \"#9c179e\"], [0.4444444444444444, \"#bd3786\"], [0.5555555555555556, \"#d8576b\"], [0.6666666666666666, \"#ed7953\"], [0.7777777777777778, \"#fb9f3a\"], [0.8888888888888888, \"#fdca26\"], [1.0, \"#f0f921\"]], \"type\": \"contour\"}], \"contourcarpet\": [{\"colorbar\": {\"outlinewidth\": 0, \"ticks\": \"\"}, \"type\": \"contourcarpet\"}], \"heatmap\": [{\"colorbar\": {\"outlinewidth\": 0, \"ticks\": \"\"}, \"colorscale\": [[0.0, \"#0d0887\"], [0.1111111111111111, \"#46039f\"], [0.2222222222222222, \"#7201a8\"], [0.3333333333333333, \"#9c179e\"], [0.4444444444444444, \"#bd3786\"], [0.5555555555555556, \"#d8576b\"], [0.6666666666666666, \"#ed7953\"], [0.7777777777777778, \"#fb9f3a\"], [0.8888888888888888, \"#fdca26\"], [1.0, \"#f0f921\"]], \"type\": \"heatmap\"}], \"heatmapgl\": [{\"colorbar\": {\"outlinewidth\": 0, \"ticks\": \"\"}, \"colorscale\": [[0.0, \"#0d0887\"], [0.1111111111111111, \"#46039f\"], [0.2222222222222222, \"#7201a8\"], [0.3333333333333333, \"#9c179e\"], [0.4444444444444444, \"#bd3786\"], [0.5555555555555556, \"#d8576b\"], [0.6666666666666666, \"#ed7953\"], [0.7777777777777778, \"#fb9f3a\"], [0.8888888888888888, \"#fdca26\"], [1.0, \"#f0f921\"]], \"type\": \"heatmapgl\"}], \"histogram\": [{\"marker\": {\"colorbar\": {\"outlinewidth\": 0, \"ticks\": \"\"}}, \"type\": \"histogram\"}], \"histogram2d\": [{\"colorbar\": {\"outlinewidth\": 0, \"ticks\": \"\"}, \"colorscale\": [[0.0, \"#0d0887\"], [0.1111111111111111, \"#46039f\"], [0.2222222222222222, \"#7201a8\"], [0.3333333333333333, \"#9c179e\"], [0.4444444444444444, \"#bd3786\"], [0.5555555555555556, \"#d8576b\"], [0.6666666666666666, \"#ed7953\"], [0.7777777777777778, \"#fb9f3a\"], [0.8888888888888888, \"#fdca26\"], [1.0, \"#f0f921\"]], \"type\": \"histogram2d\"}], \"histogram2dcontour\": [{\"colorbar\": {\"outlinewidth\": 0, \"ticks\": \"\"}, \"colorscale\": [[0.0, \"#0d0887\"], [0.1111111111111111, \"#46039f\"], [0.2222222222222222, \"#7201a8\"], [0.3333333333333333, \"#9c179e\"], [0.4444444444444444, \"#bd3786\"], [0.5555555555555556, \"#d8576b\"], [0.6666666666666666, \"#ed7953\"], [0.7777777777777778, \"#fb9f3a\"], [0.8888888888888888, \"#fdca26\"], [1.0, \"#f0f921\"]], \"type\": \"histogram2dcontour\"}], \"mesh3d\": [{\"colorbar\": {\"outlinewidth\": 0, \"ticks\": \"\"}, \"type\": \"mesh3d\"}], \"parcoords\": [{\"line\": {\"colorbar\": {\"outlinewidth\": 0, \"ticks\": \"\"}}, \"type\": \"parcoords\"}], \"pie\": [{\"automargin\": true, \"type\": \"pie\"}], \"scatter\": [{\"marker\": {\"colorbar\": {\"outlinewidth\": 0, \"ticks\": \"\"}}, \"type\": \"scatter\"}], \"scatter3d\": [{\"line\": {\"colorbar\": {\"outlinewidth\": 0, \"ticks\": \"\"}}, \"marker\": {\"colorbar\": {\"outlinewidth\": 0, \"ticks\": \"\"}}, \"type\": \"scatter3d\"}], \"scattercarpet\": [{\"marker\": {\"colorbar\": {\"outlinewidth\": 0, \"ticks\": \"\"}}, \"type\": \"scattercarpet\"}], \"scattergeo\": [{\"marker\": {\"colorbar\": {\"outlinewidth\": 0, \"ticks\": \"\"}}, \"type\": \"scattergeo\"}], \"scattergl\": [{\"marker\": {\"colorbar\": {\"outlinewidth\": 0, \"ticks\": \"\"}}, \"type\": \"scattergl\"}], \"scattermapbox\": [{\"marker\": {\"colorbar\": {\"outlinewidth\": 0, \"ticks\": \"\"}}, \"type\": \"scattermapbox\"}], \"scatterpolar\": [{\"marker\": {\"colorbar\": {\"outlinewidth\": 0, \"ticks\": \"\"}}, \"type\": \"scatterpolar\"}], \"scatterpolargl\": [{\"marker\": {\"colorbar\": {\"outlinewidth\": 0, \"ticks\": \"\"}}, \"type\": \"scatterpolargl\"}], \"scatterternary\": [{\"marker\": {\"colorbar\": {\"outlinewidth\": 0, \"ticks\": \"\"}}, \"type\": \"scatterternary\"}], \"surface\": [{\"colorbar\": {\"outlinewidth\": 0, \"ticks\": \"\"}, \"colorscale\": [[0.0, \"#0d0887\"], [0.1111111111111111, \"#46039f\"], [0.2222222222222222, \"#7201a8\"], [0.3333333333333333, \"#9c179e\"], [0.4444444444444444, \"#bd3786\"], [0.5555555555555556, \"#d8576b\"], [0.6666666666666666, \"#ed7953\"], [0.7777777777777778, \"#fb9f3a\"], [0.8888888888888888, \"#fdca26\"], [1.0, \"#f0f921\"]], \"type\": \"surface\"}], \"table\": [{\"cells\": {\"fill\": {\"color\": \"#EBF0F8\"}, \"line\": {\"color\": \"white\"}}, \"header\": {\"fill\": {\"color\": \"#C8D4E3\"}, \"line\": {\"color\": \"white\"}}, \"type\": \"table\"}]}, \"layout\": {\"annotationdefaults\": {\"arrowcolor\": \"#2a3f5f\", \"arrowhead\": 0, \"arrowwidth\": 1}, \"autotypenumbers\": \"strict\", \"coloraxis\": {\"colorbar\": {\"outlinewidth\": 0, \"ticks\": \"\"}}, \"colorscale\": {\"diverging\": [[0, \"#8e0152\"], [0.1, \"#c51b7d\"], [0.2, \"#de77ae\"], [0.3, \"#f1b6da\"], [0.4, \"#fde0ef\"], [0.5, \"#f7f7f7\"], [0.6, \"#e6f5d0\"], [0.7, \"#b8e186\"], [0.8, \"#7fbc41\"], [0.9, \"#4d9221\"], [1, \"#276419\"]], \"sequential\": [[0.0, \"#0d0887\"], [0.1111111111111111, \"#46039f\"], [0.2222222222222222, \"#7201a8\"], [0.3333333333333333, \"#9c179e\"], [0.4444444444444444, \"#bd3786\"], [0.5555555555555556, \"#d8576b\"], [0.6666666666666666, \"#ed7953\"], [0.7777777777777778, \"#fb9f3a\"], [0.8888888888888888, \"#fdca26\"], [1.0, \"#f0f921\"]], \"sequentialminus\": [[0.0, \"#0d0887\"], [0.1111111111111111, \"#46039f\"], [0.2222222222222222, \"#7201a8\"], [0.3333333333333333, \"#9c179e\"], [0.4444444444444444, \"#bd3786\"], [0.5555555555555556, \"#d8576b\"], [0.6666666666666666, \"#ed7953\"], [0.7777777777777778, \"#fb9f3a\"], [0.8888888888888888, \"#fdca26\"], [1.0, \"#f0f921\"]]}, \"colorway\": [\"#636efa\", \"#EF553B\", \"#00cc96\", \"#ab63fa\", \"#FFA15A\", \"#19d3f3\", \"#FF6692\", \"#B6E880\", \"#FF97FF\", \"#FECB52\"], \"font\": {\"color\": \"#2a3f5f\"}, \"geo\": {\"bgcolor\": \"white\", \"lakecolor\": \"white\", \"landcolor\": \"#E5ECF6\", \"showlakes\": true, \"showland\": true, \"subunitcolor\": \"white\"}, \"hoverlabel\": {\"align\": \"left\"}, \"hovermode\": \"closest\", \"mapbox\": {\"style\": \"light\"}, \"paper_bgcolor\": \"white\", \"plot_bgcolor\": \"#E5ECF6\", \"polar\": {\"angularaxis\": {\"gridcolor\": \"white\", \"linecolor\": \"white\", \"ticks\": \"\"}, \"bgcolor\": \"#E5ECF6\", \"radialaxis\": {\"gridcolor\": \"white\", \"linecolor\": \"white\", \"ticks\": \"\"}}, \"scene\": {\"xaxis\": {\"backgroundcolor\": \"#E5ECF6\", \"gridcolor\": \"white\", \"gridwidth\": 2, \"linecolor\": \"white\", \"showbackground\": true, \"ticks\": \"\", \"zerolinecolor\": \"white\"}, \"yaxis\": {\"backgroundcolor\": \"#E5ECF6\", \"gridcolor\": \"white\", \"gridwidth\": 2, \"linecolor\": \"white\", \"showbackground\": true, \"ticks\": \"\", \"zerolinecolor\": \"white\"}, \"zaxis\": {\"backgroundcolor\": \"#E5ECF6\", \"gridcolor\": \"white\", \"gridwidth\": 2, \"linecolor\": \"white\", \"showbackground\": true, \"ticks\": \"\", \"zerolinecolor\": \"white\"}}, \"shapedefaults\": {\"line\": {\"color\": \"#2a3f5f\"}}, \"ternary\": {\"aaxis\": {\"gridcolor\": \"white\", \"linecolor\": \"white\", \"ticks\": \"\"}, \"baxis\": {\"gridcolor\": \"white\", \"linecolor\": \"white\", \"ticks\": \"\"}, \"bgcolor\": \"#E5ECF6\", \"caxis\": {\"gridcolor\": \"white\", \"linecolor\": \"white\", \"ticks\": \"\"}}, \"title\": {\"x\": 0.05}, \"xaxis\": {\"automargin\": true, \"gridcolor\": \"white\", \"linecolor\": \"white\", \"ticks\": \"\", \"title\": {\"standoff\": 15}, \"zerolinecolor\": \"white\", \"zerolinewidth\": 2}, \"yaxis\": {\"automargin\": true, \"gridcolor\": \"white\", \"linecolor\": \"white\", \"ticks\": \"\", \"title\": {\"standoff\": 15}, \"zerolinecolor\": \"white\", \"zerolinewidth\": 2}}}},                        {\"responsive\": true}                    ).then(function(){\n",
       "                            \n",
       "var gd = document.getElementById('fa4bd416-bb28-4d03-b31d-9ddebb917d81');\n",
       "var x = new MutationObserver(function (mutations, observer) {{\n",
       "        var display = window.getComputedStyle(gd).display;\n",
       "        if (!display || display === 'none') {{\n",
       "            console.log([gd, 'removed!']);\n",
       "            Plotly.purge(gd);\n",
       "            observer.disconnect();\n",
       "        }}\n",
       "}});\n",
       "\n",
       "// Listen for the removal of the full notebook cells\n",
       "var notebookContainer = gd.closest('#notebook-container');\n",
       "if (notebookContainer) {{\n",
       "    x.observe(notebookContainer, {childList: true});\n",
       "}}\n",
       "\n",
       "// Listen for the clearing of the current output cell\n",
       "var outputEl = gd.closest('.output');\n",
       "if (outputEl) {{\n",
       "    x.observe(outputEl, {childList: true});\n",
       "}}\n",
       "\n",
       "                        })                };                });            </script>        </div>"
      ]
     },
     "metadata": {},
     "output_type": "display_data"
    }
   ],
   "source": [
    "x = np.arange(0,4*np.pi, np.pi/100)   # start,stop,step\n",
    "y = np.sin(x)\n",
    "\n",
    "sine_fig = go.Figure()\n",
    "\n",
    "_ = sine_fig.add_trace(\n",
    "    go.Scatter(\n",
    "        x = x,\n",
    "        y = y,\n",
    "        mode = 'lines',\n",
    "    )\n",
    ")\n",
    "\n",
    "sine_fig.show()"
   ]
  },
  {
   "cell_type": "markdown",
   "metadata": {},
   "source": [
    "<h3> Customization of figure layout with <code>go.layout</code> </h3>"
   ]
  },
  {
   "cell_type": "code",
   "execution_count": 5,
   "metadata": {},
   "outputs": [
    {
     "data": {
      "application/vnd.plotly.v1+json": {
       "config": {
        "plotlyServerURL": "https://plot.ly"
       },
       "data": [
        {
         "mode": "lines",
         "type": "scatter",
         "x": [
          0,
          0.031415926535897934,
          0.06283185307179587,
          0.0942477796076938,
          0.12566370614359174,
          0.15707963267948966,
          0.1884955592153876,
          0.21991148575128555,
          0.25132741228718347,
          0.2827433388230814,
          0.3141592653589793,
          0.3455751918948773,
          0.3769911184307752,
          0.4084070449666731,
          0.4398229715025711,
          0.471238898038469,
          0.5026548245743669,
          0.5340707511102649,
          0.5654866776461628,
          0.5969026041820608,
          0.6283185307179586,
          0.6597344572538566,
          0.6911503837897546,
          0.7225663103256524,
          0.7539822368615504,
          0.7853981633974484,
          0.8168140899333463,
          0.8482300164692442,
          0.8796459430051422,
          0.9110618695410401,
          0.942477796076938,
          0.9738937226128359,
          1.0053096491487339,
          1.0367255756846319,
          1.0681415022205298,
          1.0995574287564276,
          1.1309733552923256,
          1.1623892818282235,
          1.1938052083641215,
          1.2252211349000195,
          1.2566370614359172,
          1.2880529879718152,
          1.3194689145077132,
          1.3508848410436112,
          1.3823007675795091,
          1.4137166941154071,
          1.4451326206513049,
          1.4765485471872029,
          1.5079644737231008,
          1.5393804002589988,
          1.5707963267948968,
          1.6022122533307945,
          1.6336281798666925,
          1.6650441064025905,
          1.6964600329384885,
          1.7278759594743864,
          1.7592918860102844,
          1.7907078125461822,
          1.8221237390820801,
          1.8535396656179781,
          1.884955592153876,
          1.916371518689774,
          1.9477874452256718,
          1.9792033717615698,
          2.0106192982974678,
          2.0420352248333655,
          2.0734511513692637,
          2.1048670779051615,
          2.1362830044410597,
          2.1676989309769574,
          2.199114857512855,
          2.2305307840487534,
          2.261946710584651,
          2.2933626371205493,
          2.324778563656447,
          2.356194490192345,
          2.387610416728243,
          2.419026343264141,
          2.450442269800039,
          2.4818581963359367,
          2.5132741228718345,
          2.5446900494077327,
          2.5761059759436304,
          2.6075219024795286,
          2.6389378290154264,
          2.6703537555513246,
          2.7017696820872223,
          2.73318560862312,
          2.7646015351590183,
          2.796017461694916,
          2.8274333882308142,
          2.858849314766712,
          2.8902652413026098,
          2.921681167838508,
          2.9530970943744057,
          2.984513020910304,
          3.0159289474462017,
          3.0473448739820994,
          3.0787608005179976,
          3.1101767270538954,
          3.1415926535897936,
          3.1730085801256913,
          3.204424506661589,
          3.2358404331974873,
          3.267256359733385,
          3.298672286269283,
          3.330088212805181,
          3.3615041393410787,
          3.392920065876977,
          3.4243359924128747,
          3.455751918948773,
          3.4871678454846706,
          3.518583772020569,
          3.5499996985564666,
          3.5814156250923643,
          3.6128315516282625,
          3.6442474781641603,
          3.6756634047000585,
          3.7070793312359562,
          3.738495257771854,
          3.769911184307752,
          3.80132711084365,
          3.832743037379548,
          3.864158963915446,
          3.8955748904513436,
          3.926990816987242,
          3.9584067435231396,
          3.989822670059038,
          4.0212385965949355,
          4.052654523130833,
          4.084070449666731,
          4.11548637620263,
          4.1469023027385274,
          4.178318229274425,
          4.209734155810323,
          4.241150082346221,
          4.272566008882119,
          4.303981935418017,
          4.335397861953915,
          4.366813788489813,
          4.39822971502571,
          4.429645641561609,
          4.461061568097507,
          4.4924774946334045,
          4.523893421169302,
          4.5553093477052,
          4.586725274241099,
          4.618141200776996,
          4.649557127312894,
          4.680973053848792,
          4.71238898038469,
          4.743804906920588,
          4.775220833456486,
          4.806636759992384,
          4.838052686528282,
          4.869468613064179,
          4.900884539600078,
          4.932300466135976,
          4.9637163926718735,
          4.995132319207771,
          5.026548245743669,
          5.057964172279568,
          5.089380098815465,
          5.120796025351363,
          5.152211951887261,
          5.1836278784231595,
          5.215043804959057,
          5.246459731494955,
          5.277875658030853,
          5.3092915845667505,
          5.340707511102649,
          5.372123437638547,
          5.403539364174445,
          5.4349552907103424,
          5.46637121724624,
          5.497787143782139,
          5.529203070318037,
          5.560618996853934,
          5.592034923389832,
          5.62345084992573,
          5.6548667764616285,
          5.686282702997526,
          5.717698629533424,
          5.749114556069322,
          5.7805304826052195,
          5.811946409141118,
          5.843362335677016,
          5.874778262212914,
          5.906194188748811,
          5.937610115284709,
          5.969026041820608,
          6.000441968356506,
          6.031857894892403,
          6.063273821428301,
          6.094689747964199,
          6.1261056745000975,
          6.157521601035995,
          6.188937527571893,
          6.220353454107791,
          6.2517693806436885,
          6.283185307179587,
          6.314601233715485,
          6.346017160251383,
          6.37743308678728,
          6.408849013323178,
          6.440264939859077,
          6.4716808663949745,
          6.503096792930872,
          6.53451271946677,
          6.565928646002668,
          6.597344572538566,
          6.628760499074464,
          6.660176425610362,
          6.69159235214626,
          6.7230082786821574,
          6.754424205218056,
          6.785840131753954,
          6.817256058289852,
          6.848671984825749,
          6.880087911361647,
          6.911503837897546,
          6.9429197644334435,
          6.974335690969341,
          7.005751617505239,
          7.037167544041138,
          7.068583470577035,
          7.099999397112933,
          7.131415323648831,
          7.162831250184729,
          7.194247176720627,
          7.225663103256525,
          7.257079029792423,
          7.288494956328321,
          7.319910882864218,
          7.351326809400117,
          7.382742735936015,
          7.4141586624719125,
          7.44557458900781,
          7.476990515543708,
          7.508406442079607,
          7.539822368615504,
          7.571238295151402,
          7.6026542216873,
          7.634070148223198,
          7.665486074759096,
          7.696902001294994,
          7.728317927830892,
          7.7597338543667895,
          7.791149780902687,
          7.822565707438586,
          7.853981633974484,
          7.885397560510381,
          7.916813487046279,
          7.948229413582177,
          7.979645340118076,
          8.011061266653973,
          8.042477193189871,
          8.073893119725769,
          8.105309046261667,
          8.136724972797564,
          8.168140899333462,
          8.199556825869362,
          8.23097275240526,
          8.262388678941157,
          8.293804605477055,
          8.325220532012953,
          8.35663645854885,
          8.388052385084748,
          8.419468311620646,
          8.450884238156544,
          8.482300164692441,
          8.513716091228341,
          8.545132017764239,
          8.576547944300136,
          8.607963870836034,
          8.639379797371932,
          8.67079572390783,
          8.702211650443727,
          8.733627576979625,
          8.765043503515523,
          8.79645943005142,
          8.82787535658732,
          8.859291283123218,
          8.890707209659116,
          8.922123136195014,
          8.953539062730911,
          8.984954989266809,
          9.016370915802707,
          9.047786842338605,
          9.079202768874502,
          9.1106186954104,
          9.1420346219463,
          9.173450548482197,
          9.204866475018095,
          9.236282401553993,
          9.26769832808989,
          9.299114254625788,
          9.330530181161686,
          9.361946107697584,
          9.393362034233482,
          9.42477796076938,
          9.456193887305279,
          9.487609813841177,
          9.519025740377074,
          9.550441666912972,
          9.58185759344887,
          9.613273519984768,
          9.644689446520665,
          9.676105373056563,
          9.707521299592461,
          9.738937226128359,
          9.770353152664258,
          9.801769079200156,
          9.833185005736054,
          9.864600932271951,
          9.89601685880785,
          9.927432785343747,
          9.958848711879645,
          9.990264638415542,
          10.02168056495144,
          10.053096491487338,
          10.084512418023238,
          10.115928344559135,
          10.147344271095033,
          10.17876019763093,
          10.210176124166829,
          10.241592050702726,
          10.273007977238624,
          10.304423903774522,
          10.33583983031042,
          10.367255756846319,
          10.398671683382217,
          10.430087609918115,
          10.461503536454012,
          10.49291946298991,
          10.524335389525808,
          10.555751316061706,
          10.587167242597603,
          10.618583169133501,
          10.649999095669399,
          10.681415022205298,
          10.712830948741196,
          10.744246875277094,
          10.775662801812992,
          10.80707872834889,
          10.838494654884787,
          10.869910581420685,
          10.901326507956583,
          10.93274243449248,
          10.964158361028378,
          10.995574287564278,
          11.026990214100175,
          11.058406140636073,
          11.089822067171971,
          11.121237993707869,
          11.152653920243766,
          11.184069846779664,
          11.215485773315562,
          11.24690169985146,
          11.278317626387357,
          11.309733552923257,
          11.341149479459155,
          11.372565405995053,
          11.40398133253095,
          11.435397259066848,
          11.466813185602746,
          11.498229112138644,
          11.529645038674541,
          11.561060965210439,
          11.592476891746337,
          11.623892818282236,
          11.655308744818134,
          11.686724671354032,
          11.71814059788993,
          11.749556524425827,
          11.780972450961725,
          11.812388377497623,
          11.84380430403352,
          11.875220230569418,
          11.906636157105316,
          11.938052083641216,
          11.969468010177113,
          12.000883936713011,
          12.032299863248909,
          12.063715789784807,
          12.095131716320704,
          12.126547642856602,
          12.1579635693925,
          12.189379495928398,
          12.220795422464297,
          12.252211349000195,
          12.283627275536093,
          12.31504320207199,
          12.346459128607888,
          12.377875055143786,
          12.409290981679684,
          12.440706908215581,
          12.47212283475148,
          12.503538761287377,
          12.534954687823276
         ],
         "y": [
          0,
          0.03141075907812829,
          0.06279051952931337,
          0.09410831331851433,
          0.12533323356430426,
          0.15643446504023087,
          0.18738131458572463,
          0.21814324139654256,
          0.2486898871648548,
          0.2789911060392293,
          0.3090169943749474,
          0.3387379202452914,
          0.368124552684678,
          0.3971478906347806,
          0.4257792915650727,
          0.4539904997395468,
          0.4817536741017153,
          0.5090414157503713,
          0.5358267949789967,
          0.5620833778521306,
          0.5877852522924731,
          0.6129070536529765,
          0.6374239897486897,
          0.6613118653236518,
          0.6845471059286887,
          0.7071067811865476,
          0.7289686274214116,
          0.7501110696304596,
          0.7705132427757893,
          0.7901550123756904,
          0.8090169943749475,
          0.8270805742745618,
          0.8443279255020151,
          0.8607420270039436,
          0.8763066800438637,
          0.8910065241883678,
          0.9048270524660196,
          0.9177546256839811,
          0.9297764858882515,
          0.9408807689542256,
          0.9510565162951535,
          0.9602936856769431,
          0.9685831611286311,
          0.9759167619387474,
          0.9822872507286887,
          0.9876883405951378,
          0.9921147013144779,
          0.99556196460308,
          0.9980267284282716,
          0.9995065603657316,
          1,
          0.9995065603657316,
          0.9980267284282716,
          0.99556196460308,
          0.9921147013144778,
          0.9876883405951377,
          0.9822872507286886,
          0.9759167619387474,
          0.9685831611286311,
          0.9602936856769431,
          0.9510565162951535,
          0.9408807689542255,
          0.9297764858882513,
          0.9177546256839811,
          0.9048270524660195,
          0.8910065241883679,
          0.8763066800438635,
          0.8607420270039436,
          0.844327925502015,
          0.8270805742745617,
          0.8090169943749475,
          0.7901550123756903,
          0.7705132427757893,
          0.7501110696304594,
          0.7289686274214114,
          0.7071067811865476,
          0.6845471059286885,
          0.6613118653236518,
          0.6374239897486895,
          0.6129070536529764,
          0.5877852522924732,
          0.5620833778521305,
          0.5358267949789967,
          0.5090414157503711,
          0.4817536741017152,
          0.45399049973954647,
          0.4257792915650725,
          0.3971478906347806,
          0.36812455268467775,
          0.3387379202452913,
          0.3090169943749471,
          0.2789911060392291,
          0.24868988716485482,
          0.21814324139654231,
          0.18738131458572457,
          0.15643446504023054,
          0.1253332335643041,
          0.09410831331851435,
          0.06279051952931314,
          0.031410759078128236,
          -3.216245299353273e-16,
          -0.03141075907812844,
          -0.06279051952931335,
          -0.09410831331851455,
          -0.12533323356430429,
          -0.15643446504023117,
          -0.18738131458572477,
          -0.2181432413965425,
          -0.24868988716485502,
          -0.2789911060392293,
          -0.30901699437494773,
          -0.3387379202452915,
          -0.3681245526846783,
          -0.3971478906347808,
          -0.42577929156507266,
          -0.4539904997395471,
          -0.4817536741017154,
          -0.5090414157503717,
          -0.5358267949789968,
          -0.5620833778521306,
          -0.5877852522924734,
          -0.6129070536529766,
          -0.63742398974869,
          -0.661311865323652,
          -0.6845471059286887,
          -0.7071067811865477,
          -0.7289686274214116,
          -0.7501110696304598,
          -0.7705132427757894,
          -0.7901550123756904,
          -0.8090169943749473,
          -0.8270805742745622,
          -0.8443279255020153,
          -0.8607420270039438,
          -0.8763066800438636,
          -0.8910065241883678,
          -0.9048270524660198,
          -0.9177546256839813,
          -0.9297764858882515,
          -0.9408807689542255,
          -0.9510565162951535,
          -0.9602936856769432,
          -0.9685831611286312,
          -0.9759167619387474,
          -0.9822872507286887,
          -0.9876883405951377,
          -0.9921147013144779,
          -0.99556196460308,
          -0.9980267284282716,
          -0.9995065603657316,
          -1,
          -0.9995065603657315,
          -0.9980267284282716,
          -0.99556196460308,
          -0.9921147013144779,
          -0.9876883405951378,
          -0.9822872507286886,
          -0.9759167619387473,
          -0.9685831611286311,
          -0.9602936856769431,
          -0.9510565162951536,
          -0.9408807689542253,
          -0.9297764858882512,
          -0.917754625683981,
          -0.9048270524660196,
          -0.8910065241883676,
          -0.8763066800438634,
          -0.8607420270039434,
          -0.844327925502015,
          -0.8270805742745618,
          -0.809016994374947,
          -0.7901550123756901,
          -0.770513242775789,
          -0.7501110696304595,
          -0.7289686274214116,
          -0.707106781186547,
          -0.6845471059286883,
          -0.6613118653236516,
          -0.6374239897486896,
          -0.6129070536529765,
          -0.5877852522924726,
          -0.5620833778521303,
          -0.5358267949789963,
          -0.5090414157503712,
          -0.4817536741017153,
          -0.4539904997395462,
          -0.4257792915650722,
          -0.39714789063478034,
          -0.36812455268467786,
          -0.3387379202452914,
          -0.3090169943749468,
          -0.2789911060392288,
          -0.2486898871648545,
          -0.21814324139654243,
          -0.18738131458572468,
          -0.15643446504023023,
          -0.1253332335643038,
          -0.09410831331851403,
          -0.06279051952931326,
          -0.03141075907812836,
          6.432490598706546e-16,
          0.03141075907812876,
          0.06279051952931367,
          0.09410831331851442,
          0.12533323356430418,
          0.1564344650402315,
          0.18738131458572507,
          0.21814324139654281,
          0.24868988716485488,
          0.27899110603922916,
          0.309016994374948,
          0.3387379202452918,
          0.3681245526846782,
          0.3971478906347807,
          0.42577929156507255,
          0.45399049973954736,
          0.48175367410171566,
          0.5090414157503715,
          0.5358267949789967,
          0.5620833778521305,
          0.5877852522924736,
          0.6129070536529768,
          0.6374239897486899,
          0.6613118653236519,
          0.6845471059286893,
          0.7071067811865479,
          0.7289686274214118,
          0.7501110696304597,
          0.7705132427757893,
          0.7901550123756909,
          0.8090169943749478,
          0.827080574274562,
          0.8443279255020152,
          0.8607420270039436,
          0.8763066800438639,
          0.8910065241883681,
          0.9048270524660197,
          0.9177546256839813,
          0.9297764858882515,
          0.9408807689542258,
          0.9510565162951538,
          0.9602936856769432,
          0.9685831611286312,
          0.9759167619387474,
          0.9822872507286888,
          0.9876883405951378,
          0.9921147013144779,
          0.99556196460308,
          0.9980267284282716,
          0.9995065603657316,
          1,
          0.9995065603657315,
          0.9980267284282716,
          0.99556196460308,
          0.9921147013144778,
          0.9876883405951377,
          0.9822872507286886,
          0.9759167619387473,
          0.9685831611286311,
          0.9602936856769431,
          0.9510565162951536,
          0.940880768954225,
          0.929776485888251,
          0.9177546256839808,
          0.9048270524660192,
          0.8910065241883676,
          0.8763066800438634,
          0.8607420270039435,
          0.8443279255020151,
          0.8270805742745619,
          0.8090169943749477,
          0.7901550123756896,
          0.7705132427757886,
          0.7501110696304589,
          0.728968627421411,
          0.7071067811865471,
          0.6845471059286884,
          0.6613118653236517,
          0.6374239897486897,
          0.6129070536529766,
          0.5877852522924734,
          0.5620833778521296,
          0.5358267949789957,
          0.5090414157503705,
          0.48175367410171466,
          0.4539904997395463,
          0.4257792915650723,
          0.39714789063478045,
          0.368124552684678,
          0.33873792024529153,
          0.3090169943749478,
          0.27899110603922805,
          0.24868988716485377,
          0.21814324139654168,
          0.18738131458572393,
          0.15643446504023034,
          0.1253332335643039,
          0.09410831331851414,
          0.06279051952931339,
          0.03141075907812848,
          3.6739403974420594e-16,
          -0.03141075907812952,
          -0.06279051952931443,
          -0.09410831331851519,
          -0.12533323356430492,
          -0.15643446504023137,
          -0.18738131458572496,
          -0.2181432413965427,
          -0.24868988716485477,
          -0.27899110603922905,
          -0.30901699437494706,
          -0.33873792024529253,
          -0.3681245526846789,
          -0.3971478906347814,
          -0.42577929156507327,
          -0.45399049973954725,
          -0.48175367410171555,
          -0.5090414157503714,
          -0.5358267949789965,
          -0.5620833778521305,
          -0.5877852522924728,
          -0.6129070536529775,
          -0.6374239897486905,
          -0.6613118653236525,
          -0.6845471059286892,
          -0.7071067811865479,
          -0.7289686274214118,
          -0.7501110696304596,
          -0.7705132427757893,
          -0.7901550123756902,
          -0.8090169943749482,
          -0.8270805742745625,
          -0.8443279255020156,
          -0.8607420270039441,
          -0.8763066800438639,
          -0.8910065241883681,
          -0.9048270524660197,
          -0.9177546256839811,
          -0.9297764858882513,
          -0.9408807689542253,
          -0.951056516295154,
          -0.9602936856769434,
          -0.9685831611286314,
          -0.9759167619387475,
          -0.9822872507286888,
          -0.9876883405951378,
          -0.9921147013144779,
          -0.99556196460308,
          -0.9980267284282716,
          -0.9995065603657316,
          -1,
          -0.9995065603657315,
          -0.9980267284282714,
          -0.9955619646030799,
          -0.9921147013144778,
          -0.9876883405951377,
          -0.9822872507286886,
          -0.9759167619387473,
          -0.9685831611286312,
          -0.9602936856769432,
          -0.9510565162951532,
          -0.9408807689542251,
          -0.929776485888251,
          -0.9177546256839808,
          -0.9048270524660192,
          -0.8910065241883677,
          -0.8763066800438635,
          -0.8607420270039436,
          -0.8443279255020151,
          -0.8270805742745619,
          -0.8090169943749467,
          -0.7901550123756896,
          -0.7705132427757886,
          -0.750111069630459,
          -0.7289686274214111,
          -0.7071067811865472,
          -0.6845471059286885,
          -0.6613118653236518,
          -0.6374239897486897,
          -0.6129070536529767,
          -0.587785252292472,
          -0.5620833778521297,
          -0.5358267949789958,
          -0.5090414157503707,
          -0.48175367410171477,
          -0.4539904997395464,
          -0.42577929156507244,
          -0.39714789063478056,
          -0.3681245526846781,
          -0.33873792024529,
          -0.3090169943749462,
          -0.27899110603922816,
          -0.24868988716485388,
          -0.21814324139654181,
          -0.18738131458572405,
          -0.15643446504023048,
          -0.125333233564304,
          -0.09410831331851427,
          -0.06279051952931351,
          -0.03141075907812683
         ]
        }
       ],
       "layout": {
        "font": {
         "size": 10
        },
        "height": 400,
        "margin": {
         "b": 0,
         "l": 80,
         "r": 0,
         "t": 50
        },
        "template": {
         "data": {
          "bar": [
           {
            "error_x": {
             "color": "#2a3f5f"
            },
            "error_y": {
             "color": "#2a3f5f"
            },
            "marker": {
             "line": {
              "color": "#E5ECF6",
              "width": 0.5
             }
            },
            "type": "bar"
           }
          ],
          "barpolar": [
           {
            "marker": {
             "line": {
              "color": "#E5ECF6",
              "width": 0.5
             }
            },
            "type": "barpolar"
           }
          ],
          "carpet": [
           {
            "aaxis": {
             "endlinecolor": "#2a3f5f",
             "gridcolor": "white",
             "linecolor": "white",
             "minorgridcolor": "white",
             "startlinecolor": "#2a3f5f"
            },
            "baxis": {
             "endlinecolor": "#2a3f5f",
             "gridcolor": "white",
             "linecolor": "white",
             "minorgridcolor": "white",
             "startlinecolor": "#2a3f5f"
            },
            "type": "carpet"
           }
          ],
          "choropleth": [
           {
            "colorbar": {
             "outlinewidth": 0,
             "ticks": ""
            },
            "type": "choropleth"
           }
          ],
          "contour": [
           {
            "colorbar": {
             "outlinewidth": 0,
             "ticks": ""
            },
            "colorscale": [
             [
              0,
              "#0d0887"
             ],
             [
              0.1111111111111111,
              "#46039f"
             ],
             [
              0.2222222222222222,
              "#7201a8"
             ],
             [
              0.3333333333333333,
              "#9c179e"
             ],
             [
              0.4444444444444444,
              "#bd3786"
             ],
             [
              0.5555555555555556,
              "#d8576b"
             ],
             [
              0.6666666666666666,
              "#ed7953"
             ],
             [
              0.7777777777777778,
              "#fb9f3a"
             ],
             [
              0.8888888888888888,
              "#fdca26"
             ],
             [
              1,
              "#f0f921"
             ]
            ],
            "type": "contour"
           }
          ],
          "contourcarpet": [
           {
            "colorbar": {
             "outlinewidth": 0,
             "ticks": ""
            },
            "type": "contourcarpet"
           }
          ],
          "heatmap": [
           {
            "colorbar": {
             "outlinewidth": 0,
             "ticks": ""
            },
            "colorscale": [
             [
              0,
              "#0d0887"
             ],
             [
              0.1111111111111111,
              "#46039f"
             ],
             [
              0.2222222222222222,
              "#7201a8"
             ],
             [
              0.3333333333333333,
              "#9c179e"
             ],
             [
              0.4444444444444444,
              "#bd3786"
             ],
             [
              0.5555555555555556,
              "#d8576b"
             ],
             [
              0.6666666666666666,
              "#ed7953"
             ],
             [
              0.7777777777777778,
              "#fb9f3a"
             ],
             [
              0.8888888888888888,
              "#fdca26"
             ],
             [
              1,
              "#f0f921"
             ]
            ],
            "type": "heatmap"
           }
          ],
          "heatmapgl": [
           {
            "colorbar": {
             "outlinewidth": 0,
             "ticks": ""
            },
            "colorscale": [
             [
              0,
              "#0d0887"
             ],
             [
              0.1111111111111111,
              "#46039f"
             ],
             [
              0.2222222222222222,
              "#7201a8"
             ],
             [
              0.3333333333333333,
              "#9c179e"
             ],
             [
              0.4444444444444444,
              "#bd3786"
             ],
             [
              0.5555555555555556,
              "#d8576b"
             ],
             [
              0.6666666666666666,
              "#ed7953"
             ],
             [
              0.7777777777777778,
              "#fb9f3a"
             ],
             [
              0.8888888888888888,
              "#fdca26"
             ],
             [
              1,
              "#f0f921"
             ]
            ],
            "type": "heatmapgl"
           }
          ],
          "histogram": [
           {
            "marker": {
             "colorbar": {
              "outlinewidth": 0,
              "ticks": ""
             }
            },
            "type": "histogram"
           }
          ],
          "histogram2d": [
           {
            "colorbar": {
             "outlinewidth": 0,
             "ticks": ""
            },
            "colorscale": [
             [
              0,
              "#0d0887"
             ],
             [
              0.1111111111111111,
              "#46039f"
             ],
             [
              0.2222222222222222,
              "#7201a8"
             ],
             [
              0.3333333333333333,
              "#9c179e"
             ],
             [
              0.4444444444444444,
              "#bd3786"
             ],
             [
              0.5555555555555556,
              "#d8576b"
             ],
             [
              0.6666666666666666,
              "#ed7953"
             ],
             [
              0.7777777777777778,
              "#fb9f3a"
             ],
             [
              0.8888888888888888,
              "#fdca26"
             ],
             [
              1,
              "#f0f921"
             ]
            ],
            "type": "histogram2d"
           }
          ],
          "histogram2dcontour": [
           {
            "colorbar": {
             "outlinewidth": 0,
             "ticks": ""
            },
            "colorscale": [
             [
              0,
              "#0d0887"
             ],
             [
              0.1111111111111111,
              "#46039f"
             ],
             [
              0.2222222222222222,
              "#7201a8"
             ],
             [
              0.3333333333333333,
              "#9c179e"
             ],
             [
              0.4444444444444444,
              "#bd3786"
             ],
             [
              0.5555555555555556,
              "#d8576b"
             ],
             [
              0.6666666666666666,
              "#ed7953"
             ],
             [
              0.7777777777777778,
              "#fb9f3a"
             ],
             [
              0.8888888888888888,
              "#fdca26"
             ],
             [
              1,
              "#f0f921"
             ]
            ],
            "type": "histogram2dcontour"
           }
          ],
          "mesh3d": [
           {
            "colorbar": {
             "outlinewidth": 0,
             "ticks": ""
            },
            "type": "mesh3d"
           }
          ],
          "parcoords": [
           {
            "line": {
             "colorbar": {
              "outlinewidth": 0,
              "ticks": ""
             }
            },
            "type": "parcoords"
           }
          ],
          "pie": [
           {
            "automargin": true,
            "type": "pie"
           }
          ],
          "scatter": [
           {
            "marker": {
             "colorbar": {
              "outlinewidth": 0,
              "ticks": ""
             }
            },
            "type": "scatter"
           }
          ],
          "scatter3d": [
           {
            "line": {
             "colorbar": {
              "outlinewidth": 0,
              "ticks": ""
             }
            },
            "marker": {
             "colorbar": {
              "outlinewidth": 0,
              "ticks": ""
             }
            },
            "type": "scatter3d"
           }
          ],
          "scattercarpet": [
           {
            "marker": {
             "colorbar": {
              "outlinewidth": 0,
              "ticks": ""
             }
            },
            "type": "scattercarpet"
           }
          ],
          "scattergeo": [
           {
            "marker": {
             "colorbar": {
              "outlinewidth": 0,
              "ticks": ""
             }
            },
            "type": "scattergeo"
           }
          ],
          "scattergl": [
           {
            "marker": {
             "colorbar": {
              "outlinewidth": 0,
              "ticks": ""
             }
            },
            "type": "scattergl"
           }
          ],
          "scattermapbox": [
           {
            "marker": {
             "colorbar": {
              "outlinewidth": 0,
              "ticks": ""
             }
            },
            "type": "scattermapbox"
           }
          ],
          "scatterpolar": [
           {
            "marker": {
             "colorbar": {
              "outlinewidth": 0,
              "ticks": ""
             }
            },
            "type": "scatterpolar"
           }
          ],
          "scatterpolargl": [
           {
            "marker": {
             "colorbar": {
              "outlinewidth": 0,
              "ticks": ""
             }
            },
            "type": "scatterpolargl"
           }
          ],
          "scatterternary": [
           {
            "marker": {
             "colorbar": {
              "outlinewidth": 0,
              "ticks": ""
             }
            },
            "type": "scatterternary"
           }
          ],
          "surface": [
           {
            "colorbar": {
             "outlinewidth": 0,
             "ticks": ""
            },
            "colorscale": [
             [
              0,
              "#0d0887"
             ],
             [
              0.1111111111111111,
              "#46039f"
             ],
             [
              0.2222222222222222,
              "#7201a8"
             ],
             [
              0.3333333333333333,
              "#9c179e"
             ],
             [
              0.4444444444444444,
              "#bd3786"
             ],
             [
              0.5555555555555556,
              "#d8576b"
             ],
             [
              0.6666666666666666,
              "#ed7953"
             ],
             [
              0.7777777777777778,
              "#fb9f3a"
             ],
             [
              0.8888888888888888,
              "#fdca26"
             ],
             [
              1,
              "#f0f921"
             ]
            ],
            "type": "surface"
           }
          ],
          "table": [
           {
            "cells": {
             "fill": {
              "color": "#EBF0F8"
             },
             "line": {
              "color": "white"
             }
            },
            "header": {
             "fill": {
              "color": "#C8D4E3"
             },
             "line": {
              "color": "white"
             }
            },
            "type": "table"
           }
          ]
         },
         "layout": {
          "annotationdefaults": {
           "arrowcolor": "#2a3f5f",
           "arrowhead": 0,
           "arrowwidth": 1
          },
          "autotypenumbers": "strict",
          "coloraxis": {
           "colorbar": {
            "outlinewidth": 0,
            "ticks": ""
           }
          },
          "colorscale": {
           "diverging": [
            [
             0,
             "#8e0152"
            ],
            [
             0.1,
             "#c51b7d"
            ],
            [
             0.2,
             "#de77ae"
            ],
            [
             0.3,
             "#f1b6da"
            ],
            [
             0.4,
             "#fde0ef"
            ],
            [
             0.5,
             "#f7f7f7"
            ],
            [
             0.6,
             "#e6f5d0"
            ],
            [
             0.7,
             "#b8e186"
            ],
            [
             0.8,
             "#7fbc41"
            ],
            [
             0.9,
             "#4d9221"
            ],
            [
             1,
             "#276419"
            ]
           ],
           "sequential": [
            [
             0,
             "#0d0887"
            ],
            [
             0.1111111111111111,
             "#46039f"
            ],
            [
             0.2222222222222222,
             "#7201a8"
            ],
            [
             0.3333333333333333,
             "#9c179e"
            ],
            [
             0.4444444444444444,
             "#bd3786"
            ],
            [
             0.5555555555555556,
             "#d8576b"
            ],
            [
             0.6666666666666666,
             "#ed7953"
            ],
            [
             0.7777777777777778,
             "#fb9f3a"
            ],
            [
             0.8888888888888888,
             "#fdca26"
            ],
            [
             1,
             "#f0f921"
            ]
           ],
           "sequentialminus": [
            [
             0,
             "#0d0887"
            ],
            [
             0.1111111111111111,
             "#46039f"
            ],
            [
             0.2222222222222222,
             "#7201a8"
            ],
            [
             0.3333333333333333,
             "#9c179e"
            ],
            [
             0.4444444444444444,
             "#bd3786"
            ],
            [
             0.5555555555555556,
             "#d8576b"
            ],
            [
             0.6666666666666666,
             "#ed7953"
            ],
            [
             0.7777777777777778,
             "#fb9f3a"
            ],
            [
             0.8888888888888888,
             "#fdca26"
            ],
            [
             1,
             "#f0f921"
            ]
           ]
          },
          "colorway": [
           "#636efa",
           "#EF553B",
           "#00cc96",
           "#ab63fa",
           "#FFA15A",
           "#19d3f3",
           "#FF6692",
           "#B6E880",
           "#FF97FF",
           "#FECB52"
          ],
          "font": {
           "color": "#2a3f5f"
          },
          "geo": {
           "bgcolor": "white",
           "lakecolor": "white",
           "landcolor": "#E5ECF6",
           "showlakes": true,
           "showland": true,
           "subunitcolor": "white"
          },
          "hoverlabel": {
           "align": "left"
          },
          "hovermode": "closest",
          "mapbox": {
           "style": "light"
          },
          "paper_bgcolor": "white",
          "plot_bgcolor": "#E5ECF6",
          "polar": {
           "angularaxis": {
            "gridcolor": "white",
            "linecolor": "white",
            "ticks": ""
           },
           "bgcolor": "#E5ECF6",
           "radialaxis": {
            "gridcolor": "white",
            "linecolor": "white",
            "ticks": ""
           }
          },
          "scene": {
           "xaxis": {
            "backgroundcolor": "#E5ECF6",
            "gridcolor": "white",
            "gridwidth": 2,
            "linecolor": "white",
            "showbackground": true,
            "ticks": "",
            "zerolinecolor": "white"
           },
           "yaxis": {
            "backgroundcolor": "#E5ECF6",
            "gridcolor": "white",
            "gridwidth": 2,
            "linecolor": "white",
            "showbackground": true,
            "ticks": "",
            "zerolinecolor": "white"
           },
           "zaxis": {
            "backgroundcolor": "#E5ECF6",
            "gridcolor": "white",
            "gridwidth": 2,
            "linecolor": "white",
            "showbackground": true,
            "ticks": "",
            "zerolinecolor": "white"
           }
          },
          "shapedefaults": {
           "line": {
            "color": "#2a3f5f"
           }
          },
          "ternary": {
           "aaxis": {
            "gridcolor": "white",
            "linecolor": "white",
            "ticks": ""
           },
           "baxis": {
            "gridcolor": "white",
            "linecolor": "white",
            "ticks": ""
           },
           "bgcolor": "#E5ECF6",
           "caxis": {
            "gridcolor": "white",
            "linecolor": "white",
            "ticks": ""
           }
          },
          "title": {
           "x": 0.05
          },
          "xaxis": {
           "automargin": true,
           "gridcolor": "white",
           "linecolor": "white",
           "ticks": "",
           "title": {
            "standoff": 15
           },
           "zerolinecolor": "white",
           "zerolinewidth": 2
          },
          "yaxis": {
           "automargin": true,
           "gridcolor": "white",
           "linecolor": "white",
           "ticks": "",
           "title": {
            "standoff": 15
           },
           "zerolinecolor": "white",
           "zerolinewidth": 2
          }
         }
        },
        "title": {
         "font": {
          "size": 20
         },
         "text": "Simple sine function",
         "x": 0.55
        },
        "width": 800,
        "xaxis": {
         "autorange": true,
         "range": [
          0,
          12.534954687823276
         ],
         "type": "linear"
        },
        "yaxis": {
         "autorange": true,
         "range": [
          -1.1111111111111112,
          1.1111111111111112
         ],
         "type": "linear"
        }
       }
      },
      "image/png": "[encoded data removed]",
      "text/html": [
       "<div>                            <div id=\"6c76465e-3eb3-41a8-b3a2-80351443b287\" class=\"plotly-graph-div\" style=\"height:400px; width:800px;\"></div>            <script type=\"text/javascript\">                require([\"plotly\"], function(Plotly) {                    window.PLOTLYENV=window.PLOTLYENV || {};                                    if (document.getElementById(\"6c76465e-3eb3-41a8-b3a2-80351443b287\")) {                    Plotly.newPlot(                        \"6c76465e-3eb3-41a8-b3a2-80351443b287\",                        [{\"mode\": \"lines\", \"type\": \"scatter\", \"x\": [0.0, 0.031415926535897934, 0.06283185307179587, 0.0942477796076938, 0.12566370614359174, 0.15707963267948966, 0.1884955592153876, 0.21991148575128555, 0.25132741228718347, 0.2827433388230814, 0.3141592653589793, 0.3455751918948773, 0.3769911184307752, 0.4084070449666731, 0.4398229715025711, 0.471238898038469, 0.5026548245743669, 0.5340707511102649, 0.5654866776461628, 0.5969026041820608, 0.6283185307179586, 0.6597344572538566, 0.6911503837897546, 0.7225663103256524, 0.7539822368615504, 0.7853981633974484, 0.8168140899333463, 0.8482300164692442, 0.8796459430051422, 0.9110618695410401, 0.942477796076938, 0.9738937226128359, 1.0053096491487339, 1.0367255756846319, 1.0681415022205298, 1.0995574287564276, 1.1309733552923256, 1.1623892818282235, 1.1938052083641215, 1.2252211349000195, 1.2566370614359172, 1.2880529879718152, 1.3194689145077132, 1.3508848410436112, 1.3823007675795091, 1.4137166941154071, 1.4451326206513049, 1.4765485471872029, 1.5079644737231008, 1.5393804002589988, 1.5707963267948968, 1.6022122533307945, 1.6336281798666925, 1.6650441064025905, 1.6964600329384885, 1.7278759594743864, 1.7592918860102844, 1.7907078125461822, 1.8221237390820801, 1.8535396656179781, 1.884955592153876, 1.916371518689774, 1.9477874452256718, 1.9792033717615698, 2.0106192982974678, 2.0420352248333655, 2.0734511513692637, 2.1048670779051615, 2.1362830044410597, 2.1676989309769574, 2.199114857512855, 2.2305307840487534, 2.261946710584651, 2.2933626371205493, 2.324778563656447, 2.356194490192345, 2.387610416728243, 2.419026343264141, 2.450442269800039, 2.4818581963359367, 2.5132741228718345, 2.5446900494077327, 2.5761059759436304, 2.6075219024795286, 2.6389378290154264, 2.6703537555513246, 2.7017696820872223, 2.73318560862312, 2.7646015351590183, 2.796017461694916, 2.8274333882308142, 2.858849314766712, 2.8902652413026098, 2.921681167838508, 2.9530970943744057, 2.984513020910304, 3.0159289474462017, 3.0473448739820994, 3.0787608005179976, 3.1101767270538954, 3.1415926535897936, 3.1730085801256913, 3.204424506661589, 3.2358404331974873, 3.267256359733385, 3.298672286269283, 3.330088212805181, 3.3615041393410787, 3.392920065876977, 3.4243359924128747, 3.455751918948773, 3.4871678454846706, 3.518583772020569, 3.5499996985564666, 3.5814156250923643, 3.6128315516282625, 3.6442474781641603, 3.6756634047000585, 3.7070793312359562, 3.738495257771854, 3.769911184307752, 3.80132711084365, 3.832743037379548, 3.864158963915446, 3.8955748904513436, 3.926990816987242, 3.9584067435231396, 3.989822670059038, 4.0212385965949355, 4.052654523130833, 4.084070449666731, 4.11548637620263, 4.1469023027385274, 4.178318229274425, 4.209734155810323, 4.241150082346221, 4.272566008882119, 4.303981935418017, 4.335397861953915, 4.366813788489813, 4.39822971502571, 4.429645641561609, 4.461061568097507, 4.4924774946334045, 4.523893421169302, 4.5553093477052, 4.586725274241099, 4.618141200776996, 4.649557127312894, 4.680973053848792, 4.71238898038469, 4.743804906920588, 4.775220833456486, 4.806636759992384, 4.838052686528282, 4.869468613064179, 4.900884539600078, 4.932300466135976, 4.9637163926718735, 4.995132319207771, 5.026548245743669, 5.057964172279568, 5.089380098815465, 5.120796025351363, 5.152211951887261, 5.1836278784231595, 5.215043804959057, 5.246459731494955, 5.277875658030853, 5.3092915845667505, 5.340707511102649, 5.372123437638547, 5.403539364174445, 5.4349552907103424, 5.46637121724624, 5.497787143782139, 5.529203070318037, 5.560618996853934, 5.592034923389832, 5.62345084992573, 5.6548667764616285, 5.686282702997526, 5.717698629533424, 5.749114556069322, 5.7805304826052195, 5.811946409141118, 5.843362335677016, 5.874778262212914, 5.906194188748811, 5.937610115284709, 5.969026041820608, 6.000441968356506, 6.031857894892403, 6.063273821428301, 6.094689747964199, 6.1261056745000975, 6.157521601035995, 6.188937527571893, 6.220353454107791, 6.2517693806436885, 6.283185307179587, 6.314601233715485, 6.346017160251383, 6.37743308678728, 6.408849013323178, 6.440264939859077, 6.4716808663949745, 6.503096792930872, 6.53451271946677, 6.565928646002668, 6.597344572538566, 6.628760499074464, 6.660176425610362, 6.69159235214626, 6.7230082786821574, 6.754424205218056, 6.785840131753954, 6.817256058289852, 6.848671984825749, 6.880087911361647, 6.911503837897546, 6.9429197644334435, 6.974335690969341, 7.005751617505239, 7.037167544041138, 7.068583470577035, 7.099999397112933, 7.131415323648831, 7.162831250184729, 7.194247176720627, 7.225663103256525, 7.257079029792423, 7.288494956328321, 7.319910882864218, 7.351326809400117, 7.382742735936015, 7.4141586624719125, 7.44557458900781, 7.476990515543708, 7.508406442079607, 7.539822368615504, 7.571238295151402, 7.6026542216873, 7.634070148223198, 7.665486074759096, 7.696902001294994, 7.728317927830892, 7.7597338543667895, 7.791149780902687, 7.822565707438586, 7.853981633974484, 7.885397560510381, 7.916813487046279, 7.948229413582177, 7.979645340118076, 8.011061266653973, 8.042477193189871, 8.073893119725769, 8.105309046261667, 8.136724972797564, 8.168140899333462, 8.199556825869362, 8.23097275240526, 8.262388678941157, 8.293804605477055, 8.325220532012953, 8.35663645854885, 8.388052385084748, 8.419468311620646, 8.450884238156544, 8.482300164692441, 8.513716091228341, 8.545132017764239, 8.576547944300136, 8.607963870836034, 8.639379797371932, 8.67079572390783, 8.702211650443727, 8.733627576979625, 8.765043503515523, 8.79645943005142, 8.82787535658732, 8.859291283123218, 8.890707209659116, 8.922123136195014, 8.953539062730911, 8.984954989266809, 9.016370915802707, 9.047786842338605, 9.079202768874502, 9.1106186954104, 9.1420346219463, 9.173450548482197, 9.204866475018095, 9.236282401553993, 9.26769832808989, 9.299114254625788, 9.330530181161686, 9.361946107697584, 9.393362034233482, 9.42477796076938, 9.456193887305279, 9.487609813841177, 9.519025740377074, 9.550441666912972, 9.58185759344887, 9.613273519984768, 9.644689446520665, 9.676105373056563, 9.707521299592461, 9.738937226128359, 9.770353152664258, 9.801769079200156, 9.833185005736054, 9.864600932271951, 9.89601685880785, 9.927432785343747, 9.958848711879645, 9.990264638415542, 10.02168056495144, 10.053096491487338, 10.084512418023238, 10.115928344559135, 10.147344271095033, 10.17876019763093, 10.210176124166829, 10.241592050702726, 10.273007977238624, 10.304423903774522, 10.33583983031042, 10.367255756846319, 10.398671683382217, 10.430087609918115, 10.461503536454012, 10.49291946298991, 10.524335389525808, 10.555751316061706, 10.587167242597603, 10.618583169133501, 10.649999095669399, 10.681415022205298, 10.712830948741196, 10.744246875277094, 10.775662801812992, 10.80707872834889, 10.838494654884787, 10.869910581420685, 10.901326507956583, 10.93274243449248, 10.964158361028378, 10.995574287564278, 11.026990214100175, 11.058406140636073, 11.089822067171971, 11.121237993707869, 11.152653920243766, 11.184069846779664, 11.215485773315562, 11.24690169985146, 11.278317626387357, 11.309733552923257, 11.341149479459155, 11.372565405995053, 11.40398133253095, 11.435397259066848, 11.466813185602746, 11.498229112138644, 11.529645038674541, 11.561060965210439, 11.592476891746337, 11.623892818282236, 11.655308744818134, 11.686724671354032, 11.71814059788993, 11.749556524425827, 11.780972450961725, 11.812388377497623, 11.84380430403352, 11.875220230569418, 11.906636157105316, 11.938052083641216, 11.969468010177113, 12.000883936713011, 12.032299863248909, 12.063715789784807, 12.095131716320704, 12.126547642856602, 12.1579635693925, 12.189379495928398, 12.220795422464297, 12.252211349000195, 12.283627275536093, 12.31504320207199, 12.346459128607888, 12.377875055143786, 12.409290981679684, 12.440706908215581, 12.47212283475148, 12.503538761287377, 12.534954687823276], \"y\": [0.0, 0.03141075907812829, 0.06279051952931337, 0.09410831331851433, 0.12533323356430426, 0.15643446504023087, 0.18738131458572463, 0.21814324139654256, 0.2486898871648548, 0.2789911060392293, 0.3090169943749474, 0.3387379202452914, 0.368124552684678, 0.3971478906347806, 0.4257792915650727, 0.4539904997395468, 0.4817536741017153, 0.5090414157503713, 0.5358267949789967, 0.5620833778521306, 0.5877852522924731, 0.6129070536529765, 0.6374239897486897, 0.6613118653236518, 0.6845471059286887, 0.7071067811865476, 0.7289686274214116, 0.7501110696304596, 0.7705132427757893, 0.7901550123756904, 0.8090169943749475, 0.8270805742745618, 0.8443279255020151, 0.8607420270039436, 0.8763066800438637, 0.8910065241883678, 0.9048270524660196, 0.9177546256839811, 0.9297764858882515, 0.9408807689542256, 0.9510565162951535, 0.9602936856769431, 0.9685831611286311, 0.9759167619387474, 0.9822872507286887, 0.9876883405951378, 0.9921147013144779, 0.99556196460308, 0.9980267284282716, 0.9995065603657316, 1.0, 0.9995065603657316, 0.9980267284282716, 0.99556196460308, 0.9921147013144778, 0.9876883405951377, 0.9822872507286886, 0.9759167619387474, 0.9685831611286311, 0.9602936856769431, 0.9510565162951535, 0.9408807689542255, 0.9297764858882513, 0.9177546256839811, 0.9048270524660195, 0.8910065241883679, 0.8763066800438635, 0.8607420270039436, 0.844327925502015, 0.8270805742745617, 0.8090169943749475, 0.7901550123756903, 0.7705132427757893, 0.7501110696304594, 0.7289686274214114, 0.7071067811865476, 0.6845471059286885, 0.6613118653236518, 0.6374239897486895, 0.6129070536529764, 0.5877852522924732, 0.5620833778521305, 0.5358267949789967, 0.5090414157503711, 0.4817536741017152, 0.45399049973954647, 0.4257792915650725, 0.3971478906347806, 0.36812455268467775, 0.3387379202452913, 0.3090169943749471, 0.2789911060392291, 0.24868988716485482, 0.21814324139654231, 0.18738131458572457, 0.15643446504023054, 0.1253332335643041, 0.09410831331851435, 0.06279051952931314, 0.031410759078128236, -3.216245299353273e-16, -0.03141075907812844, -0.06279051952931335, -0.09410831331851455, -0.12533323356430429, -0.15643446504023117, -0.18738131458572477, -0.2181432413965425, -0.24868988716485502, -0.2789911060392293, -0.30901699437494773, -0.3387379202452915, -0.3681245526846783, -0.3971478906347808, -0.42577929156507266, -0.4539904997395471, -0.4817536741017154, -0.5090414157503717, -0.5358267949789968, -0.5620833778521306, -0.5877852522924734, -0.6129070536529766, -0.63742398974869, -0.661311865323652, -0.6845471059286887, -0.7071067811865477, -0.7289686274214116, -0.7501110696304598, -0.7705132427757894, -0.7901550123756904, -0.8090169943749473, -0.8270805742745622, -0.8443279255020153, -0.8607420270039438, -0.8763066800438636, -0.8910065241883678, -0.9048270524660198, -0.9177546256839813, -0.9297764858882515, -0.9408807689542255, -0.9510565162951535, -0.9602936856769432, -0.9685831611286312, -0.9759167619387474, -0.9822872507286887, -0.9876883405951377, -0.9921147013144779, -0.99556196460308, -0.9980267284282716, -0.9995065603657316, -1.0, -0.9995065603657315, -0.9980267284282716, -0.99556196460308, -0.9921147013144779, -0.9876883405951378, -0.9822872507286886, -0.9759167619387473, -0.9685831611286311, -0.9602936856769431, -0.9510565162951536, -0.9408807689542253, -0.9297764858882512, -0.917754625683981, -0.9048270524660196, -0.8910065241883676, -0.8763066800438634, -0.8607420270039434, -0.844327925502015, -0.8270805742745618, -0.809016994374947, -0.7901550123756901, -0.770513242775789, -0.7501110696304595, -0.7289686274214116, -0.707106781186547, -0.6845471059286883, -0.6613118653236516, -0.6374239897486896, -0.6129070536529765, -0.5877852522924726, -0.5620833778521303, -0.5358267949789963, -0.5090414157503712, -0.4817536741017153, -0.4539904997395462, -0.4257792915650722, -0.39714789063478034, -0.36812455268467786, -0.3387379202452914, -0.3090169943749468, -0.2789911060392288, -0.2486898871648545, -0.21814324139654243, -0.18738131458572468, -0.15643446504023023, -0.1253332335643038, -0.09410831331851403, -0.06279051952931326, -0.03141075907812836, 6.432490598706546e-16, 0.03141075907812876, 0.06279051952931367, 0.09410831331851442, 0.12533323356430418, 0.1564344650402315, 0.18738131458572507, 0.21814324139654281, 0.24868988716485488, 0.27899110603922916, 0.309016994374948, 0.3387379202452918, 0.3681245526846782, 0.3971478906347807, 0.42577929156507255, 0.45399049973954736, 0.48175367410171566, 0.5090414157503715, 0.5358267949789967, 0.5620833778521305, 0.5877852522924736, 0.6129070536529768, 0.6374239897486899, 0.6613118653236519, 0.6845471059286893, 0.7071067811865479, 0.7289686274214118, 0.7501110696304597, 0.7705132427757893, 0.7901550123756909, 0.8090169943749478, 0.827080574274562, 0.8443279255020152, 0.8607420270039436, 0.8763066800438639, 0.8910065241883681, 0.9048270524660197, 0.9177546256839813, 0.9297764858882515, 0.9408807689542258, 0.9510565162951538, 0.9602936856769432, 0.9685831611286312, 0.9759167619387474, 0.9822872507286888, 0.9876883405951378, 0.9921147013144779, 0.99556196460308, 0.9980267284282716, 0.9995065603657316, 1.0, 0.9995065603657315, 0.9980267284282716, 0.99556196460308, 0.9921147013144778, 0.9876883405951377, 0.9822872507286886, 0.9759167619387473, 0.9685831611286311, 0.9602936856769431, 0.9510565162951536, 0.940880768954225, 0.929776485888251, 0.9177546256839808, 0.9048270524660192, 0.8910065241883676, 0.8763066800438634, 0.8607420270039435, 0.8443279255020151, 0.8270805742745619, 0.8090169943749477, 0.7901550123756896, 0.7705132427757886, 0.7501110696304589, 0.728968627421411, 0.7071067811865471, 0.6845471059286884, 0.6613118653236517, 0.6374239897486897, 0.6129070536529766, 0.5877852522924734, 0.5620833778521296, 0.5358267949789957, 0.5090414157503705, 0.48175367410171466, 0.4539904997395463, 0.4257792915650723, 0.39714789063478045, 0.368124552684678, 0.33873792024529153, 0.3090169943749478, 0.27899110603922805, 0.24868988716485377, 0.21814324139654168, 0.18738131458572393, 0.15643446504023034, 0.1253332335643039, 0.09410831331851414, 0.06279051952931339, 0.03141075907812848, 3.6739403974420594e-16, -0.03141075907812952, -0.06279051952931443, -0.09410831331851519, -0.12533323356430492, -0.15643446504023137, -0.18738131458572496, -0.2181432413965427, -0.24868988716485477, -0.27899110603922905, -0.30901699437494706, -0.33873792024529253, -0.3681245526846789, -0.3971478906347814, -0.42577929156507327, -0.45399049973954725, -0.48175367410171555, -0.5090414157503714, -0.5358267949789965, -0.5620833778521305, -0.5877852522924728, -0.6129070536529775, -0.6374239897486905, -0.6613118653236525, -0.6845471059286892, -0.7071067811865479, -0.7289686274214118, -0.7501110696304596, -0.7705132427757893, -0.7901550123756902, -0.8090169943749482, -0.8270805742745625, -0.8443279255020156, -0.8607420270039441, -0.8763066800438639, -0.8910065241883681, -0.9048270524660197, -0.9177546256839811, -0.9297764858882513, -0.9408807689542253, -0.951056516295154, -0.9602936856769434, -0.9685831611286314, -0.9759167619387475, -0.9822872507286888, -0.9876883405951378, -0.9921147013144779, -0.99556196460308, -0.9980267284282716, -0.9995065603657316, -1.0, -0.9995065603657315, -0.9980267284282714, -0.9955619646030799, -0.9921147013144778, -0.9876883405951377, -0.9822872507286886, -0.9759167619387473, -0.9685831611286312, -0.9602936856769432, -0.9510565162951532, -0.9408807689542251, -0.929776485888251, -0.9177546256839808, -0.9048270524660192, -0.8910065241883677, -0.8763066800438635, -0.8607420270039436, -0.8443279255020151, -0.8270805742745619, -0.8090169943749467, -0.7901550123756896, -0.7705132427757886, -0.750111069630459, -0.7289686274214111, -0.7071067811865472, -0.6845471059286885, -0.6613118653236518, -0.6374239897486897, -0.6129070536529767, -0.587785252292472, -0.5620833778521297, -0.5358267949789958, -0.5090414157503707, -0.48175367410171477, -0.4539904997395464, -0.42577929156507244, -0.39714789063478056, -0.3681245526846781, -0.33873792024529, -0.3090169943749462, -0.27899110603922816, -0.24868988716485388, -0.21814324139654181, -0.18738131458572405, -0.15643446504023048, -0.125333233564304, -0.09410831331851427, -0.06279051952931351, -0.03141075907812683]}],                        {\"font\": {\"size\": 10}, \"height\": 400, \"margin\": {\"b\": 0, \"l\": 80, \"r\": 0, \"t\": 50}, \"template\": {\"data\": {\"bar\": [{\"error_x\": {\"color\": \"#2a3f5f\"}, \"error_y\": {\"color\": \"#2a3f5f\"}, \"marker\": {\"line\": {\"color\": \"#E5ECF6\", \"width\": 0.5}}, \"type\": \"bar\"}], \"barpolar\": [{\"marker\": {\"line\": {\"color\": \"#E5ECF6\", \"width\": 0.5}}, \"type\": \"barpolar\"}], \"carpet\": [{\"aaxis\": {\"endlinecolor\": \"#2a3f5f\", \"gridcolor\": \"white\", \"linecolor\": \"white\", \"minorgridcolor\": \"white\", \"startlinecolor\": \"#2a3f5f\"}, \"baxis\": {\"endlinecolor\": \"#2a3f5f\", \"gridcolor\": \"white\", \"linecolor\": \"white\", \"minorgridcolor\": \"white\", \"startlinecolor\": \"#2a3f5f\"}, \"type\": \"carpet\"}], \"choropleth\": [{\"colorbar\": {\"outlinewidth\": 0, \"ticks\": \"\"}, \"type\": \"choropleth\"}], \"contour\": [{\"colorbar\": {\"outlinewidth\": 0, \"ticks\": \"\"}, \"colorscale\": [[0.0, \"#0d0887\"], [0.1111111111111111, \"#46039f\"], [0.2222222222222222, \"#7201a8\"], [0.3333333333333333, \"#9c179e\"], [0.4444444444444444, \"#bd3786\"], [0.5555555555555556, \"#d8576b\"], [0.6666666666666666, \"#ed7953\"], [0.7777777777777778, \"#fb9f3a\"], [0.8888888888888888, \"#fdca26\"], [1.0, \"#f0f921\"]], \"type\": \"contour\"}], \"contourcarpet\": [{\"colorbar\": {\"outlinewidth\": 0, \"ticks\": \"\"}, \"type\": \"contourcarpet\"}], \"heatmap\": [{\"colorbar\": {\"outlinewidth\": 0, \"ticks\": \"\"}, \"colorscale\": [[0.0, \"#0d0887\"], [0.1111111111111111, \"#46039f\"], [0.2222222222222222, \"#7201a8\"], [0.3333333333333333, \"#9c179e\"], [0.4444444444444444, \"#bd3786\"], [0.5555555555555556, \"#d8576b\"], [0.6666666666666666, \"#ed7953\"], [0.7777777777777778, \"#fb9f3a\"], [0.8888888888888888, \"#fdca26\"], [1.0, \"#f0f921\"]], \"type\": \"heatmap\"}], \"heatmapgl\": [{\"colorbar\": {\"outlinewidth\": 0, \"ticks\": \"\"}, \"colorscale\": [[0.0, \"#0d0887\"], [0.1111111111111111, \"#46039f\"], [0.2222222222222222, \"#7201a8\"], [0.3333333333333333, \"#9c179e\"], [0.4444444444444444, \"#bd3786\"], [0.5555555555555556, \"#d8576b\"], [0.6666666666666666, \"#ed7953\"], [0.7777777777777778, \"#fb9f3a\"], [0.8888888888888888, \"#fdca26\"], [1.0, \"#f0f921\"]], \"type\": \"heatmapgl\"}], \"histogram\": [{\"marker\": {\"colorbar\": {\"outlinewidth\": 0, \"ticks\": \"\"}}, \"type\": \"histogram\"}], \"histogram2d\": [{\"colorbar\": {\"outlinewidth\": 0, \"ticks\": \"\"}, \"colorscale\": [[0.0, \"#0d0887\"], [0.1111111111111111, \"#46039f\"], [0.2222222222222222, \"#7201a8\"], [0.3333333333333333, \"#9c179e\"], [0.4444444444444444, \"#bd3786\"], [0.5555555555555556, \"#d8576b\"], [0.6666666666666666, \"#ed7953\"], [0.7777777777777778, \"#fb9f3a\"], [0.8888888888888888, \"#fdca26\"], [1.0, \"#f0f921\"]], \"type\": \"histogram2d\"}], \"histogram2dcontour\": [{\"colorbar\": {\"outlinewidth\": 0, \"ticks\": \"\"}, \"colorscale\": [[0.0, \"#0d0887\"], [0.1111111111111111, \"#46039f\"], [0.2222222222222222, \"#7201a8\"], [0.3333333333333333, \"#9c179e\"], [0.4444444444444444, \"#bd3786\"], [0.5555555555555556, \"#d8576b\"], [0.6666666666666666, \"#ed7953\"], [0.7777777777777778, \"#fb9f3a\"], [0.8888888888888888, \"#fdca26\"], [1.0, \"#f0f921\"]], \"type\": \"histogram2dcontour\"}], \"mesh3d\": [{\"colorbar\": {\"outlinewidth\": 0, \"ticks\": \"\"}, \"type\": \"mesh3d\"}], \"parcoords\": [{\"line\": {\"colorbar\": {\"outlinewidth\": 0, \"ticks\": \"\"}}, \"type\": \"parcoords\"}], \"pie\": [{\"automargin\": true, \"type\": \"pie\"}], \"scatter\": [{\"marker\": {\"colorbar\": {\"outlinewidth\": 0, \"ticks\": \"\"}}, \"type\": \"scatter\"}], \"scatter3d\": [{\"line\": {\"colorbar\": {\"outlinewidth\": 0, \"ticks\": \"\"}}, \"marker\": {\"colorbar\": {\"outlinewidth\": 0, \"ticks\": \"\"}}, \"type\": \"scatter3d\"}], \"scattercarpet\": [{\"marker\": {\"colorbar\": {\"outlinewidth\": 0, \"ticks\": \"\"}}, \"type\": \"scattercarpet\"}], \"scattergeo\": [{\"marker\": {\"colorbar\": {\"outlinewidth\": 0, \"ticks\": \"\"}}, \"type\": \"scattergeo\"}], \"scattergl\": [{\"marker\": {\"colorbar\": {\"outlinewidth\": 0, \"ticks\": \"\"}}, \"type\": \"scattergl\"}], \"scattermapbox\": [{\"marker\": {\"colorbar\": {\"outlinewidth\": 0, \"ticks\": \"\"}}, \"type\": \"scattermapbox\"}], \"scatterpolar\": [{\"marker\": {\"colorbar\": {\"outlinewidth\": 0, \"ticks\": \"\"}}, \"type\": \"scatterpolar\"}], \"scatterpolargl\": [{\"marker\": {\"colorbar\": {\"outlinewidth\": 0, \"ticks\": \"\"}}, \"type\": \"scatterpolargl\"}], \"scatterternary\": [{\"marker\": {\"colorbar\": {\"outlinewidth\": 0, \"ticks\": \"\"}}, \"type\": \"scatterternary\"}], \"surface\": [{\"colorbar\": {\"outlinewidth\": 0, \"ticks\": \"\"}, \"colorscale\": [[0.0, \"#0d0887\"], [0.1111111111111111, \"#46039f\"], [0.2222222222222222, \"#7201a8\"], [0.3333333333333333, \"#9c179e\"], [0.4444444444444444, \"#bd3786\"], [0.5555555555555556, \"#d8576b\"], [0.6666666666666666, \"#ed7953\"], [0.7777777777777778, \"#fb9f3a\"], [0.8888888888888888, \"#fdca26\"], [1.0, \"#f0f921\"]], \"type\": \"surface\"}], \"table\": [{\"cells\": {\"fill\": {\"color\": \"#EBF0F8\"}, \"line\": {\"color\": \"white\"}}, \"header\": {\"fill\": {\"color\": \"#C8D4E3\"}, \"line\": {\"color\": \"white\"}}, \"type\": \"table\"}]}, \"layout\": {\"annotationdefaults\": {\"arrowcolor\": \"#2a3f5f\", \"arrowhead\": 0, \"arrowwidth\": 1}, \"autotypenumbers\": \"strict\", \"coloraxis\": {\"colorbar\": {\"outlinewidth\": 0, \"ticks\": \"\"}}, \"colorscale\": {\"diverging\": [[0, \"#8e0152\"], [0.1, \"#c51b7d\"], [0.2, \"#de77ae\"], [0.3, \"#f1b6da\"], [0.4, \"#fde0ef\"], [0.5, \"#f7f7f7\"], [0.6, \"#e6f5d0\"], [0.7, \"#b8e186\"], [0.8, \"#7fbc41\"], [0.9, \"#4d9221\"], [1, \"#276419\"]], \"sequential\": [[0.0, \"#0d0887\"], [0.1111111111111111, \"#46039f\"], [0.2222222222222222, \"#7201a8\"], [0.3333333333333333, \"#9c179e\"], [0.4444444444444444, \"#bd3786\"], [0.5555555555555556, \"#d8576b\"], [0.6666666666666666, \"#ed7953\"], [0.7777777777777778, \"#fb9f3a\"], [0.8888888888888888, \"#fdca26\"], [1.0, \"#f0f921\"]], \"sequentialminus\": [[0.0, \"#0d0887\"], [0.1111111111111111, \"#46039f\"], [0.2222222222222222, \"#7201a8\"], [0.3333333333333333, \"#9c179e\"], [0.4444444444444444, \"#bd3786\"], [0.5555555555555556, \"#d8576b\"], [0.6666666666666666, \"#ed7953\"], [0.7777777777777778, \"#fb9f3a\"], [0.8888888888888888, \"#fdca26\"], [1.0, \"#f0f921\"]]}, \"colorway\": [\"#636efa\", \"#EF553B\", \"#00cc96\", \"#ab63fa\", \"#FFA15A\", \"#19d3f3\", \"#FF6692\", \"#B6E880\", \"#FF97FF\", \"#FECB52\"], \"font\": {\"color\": \"#2a3f5f\"}, \"geo\": {\"bgcolor\": \"white\", \"lakecolor\": \"white\", \"landcolor\": \"#E5ECF6\", \"showlakes\": true, \"showland\": true, \"subunitcolor\": \"white\"}, \"hoverlabel\": {\"align\": \"left\"}, \"hovermode\": \"closest\", \"mapbox\": {\"style\": \"light\"}, \"paper_bgcolor\": \"white\", \"plot_bgcolor\": \"#E5ECF6\", \"polar\": {\"angularaxis\": {\"gridcolor\": \"white\", \"linecolor\": \"white\", \"ticks\": \"\"}, \"bgcolor\": \"#E5ECF6\", \"radialaxis\": {\"gridcolor\": \"white\", \"linecolor\": \"white\", \"ticks\": \"\"}}, \"scene\": {\"xaxis\": {\"backgroundcolor\": \"#E5ECF6\", \"gridcolor\": \"white\", \"gridwidth\": 2, \"linecolor\": \"white\", \"showbackground\": true, \"ticks\": \"\", \"zerolinecolor\": \"white\"}, \"yaxis\": {\"backgroundcolor\": \"#E5ECF6\", \"gridcolor\": \"white\", \"gridwidth\": 2, \"linecolor\": \"white\", \"showbackground\": true, \"ticks\": \"\", \"zerolinecolor\": \"white\"}, \"zaxis\": {\"backgroundcolor\": \"#E5ECF6\", \"gridcolor\": \"white\", \"gridwidth\": 2, \"linecolor\": \"white\", \"showbackground\": true, \"ticks\": \"\", \"zerolinecolor\": \"white\"}}, \"shapedefaults\": {\"line\": {\"color\": \"#2a3f5f\"}}, \"ternary\": {\"aaxis\": {\"gridcolor\": \"white\", \"linecolor\": \"white\", \"ticks\": \"\"}, \"baxis\": {\"gridcolor\": \"white\", \"linecolor\": \"white\", \"ticks\": \"\"}, \"bgcolor\": \"#E5ECF6\", \"caxis\": {\"gridcolor\": \"white\", \"linecolor\": \"white\", \"ticks\": \"\"}}, \"title\": {\"x\": 0.05}, \"xaxis\": {\"automargin\": true, \"gridcolor\": \"white\", \"linecolor\": \"white\", \"ticks\": \"\", \"title\": {\"standoff\": 15}, \"zerolinecolor\": \"white\", \"zerolinewidth\": 2}, \"yaxis\": {\"automargin\": true, \"gridcolor\": \"white\", \"linecolor\": \"white\", \"ticks\": \"\", \"title\": {\"standoff\": 15}, \"zerolinecolor\": \"white\", \"zerolinewidth\": 2}}}, \"title\": {\"font\": {\"size\": 20}, \"text\": \"Simple sine function\", \"x\": 0.55}, \"width\": 800},                        {\"responsive\": true}                    ).then(function(){\n",
       "                            \n",
       "var gd = document.getElementById('6c76465e-3eb3-41a8-b3a2-80351443b287');\n",
       "var x = new MutationObserver(function (mutations, observer) {{\n",
       "        var display = window.getComputedStyle(gd).display;\n",
       "        if (!display || display === 'none') {{\n",
       "            console.log([gd, 'removed!']);\n",
       "            Plotly.purge(gd);\n",
       "            observer.disconnect();\n",
       "        }}\n",
       "}});\n",
       "\n",
       "// Listen for the removal of the full notebook cells\n",
       "var notebookContainer = gd.closest('#notebook-container');\n",
       "if (notebookContainer) {{\n",
       "    x.observe(notebookContainer, {childList: true});\n",
       "}}\n",
       "\n",
       "// Listen for the clearing of the current output cell\n",
       "var outputEl = gd.closest('.output');\n",
       "if (outputEl) {{\n",
       "    x.observe(outputEl, {childList: true});\n",
       "}}\n",
       "\n",
       "                        })                };                });            </script>        </div>"
      ]
     },
     "metadata": {},
     "output_type": "display_data"
    }
   ],
   "source": [
    "sine_layout = go.Layout(\n",
    "    width=800, height=400,\n",
    "    font=dict(size=10),\n",
    "    title=dict(text='Simple sine function', x=0.55,\n",
    "               font=dict(size=20)\n",
    "              ),\n",
    "    margin=go.layout.Margin(l=80, r=0, b=0, t=50,),\n",
    ")\n",
    "\n",
    "_ = sine_fig.update_layout(sine_layout)\n",
    "sine_fig.show()"
   ]
  },
  {
   "cell_type": "markdown",
   "metadata": {},
   "source": [
    "<h3> Simple bar chart with <code>go.Bar</code> </h3>"
   ]
  },
  {
   "cell_type": "code",
   "execution_count": 6,
   "metadata": {},
   "outputs": [
    {
     "data": {
      "text/html": [
       "<div>\n",
       "<style scoped>\n",
       "    .dataframe tbody tr th:only-of-type {\n",
       "        vertical-align: middle;\n",
       "    }\n",
       "\n",
       "    .dataframe tbody tr th {\n",
       "        vertical-align: top;\n",
       "    }\n",
       "\n",
       "    .dataframe thead th {\n",
       "        text-align: right;\n",
       "    }\n",
       "</style>\n",
       "<table border=\"1\" class=\"dataframe\">\n",
       "  <thead>\n",
       "    <tr style=\"text-align: right;\">\n",
       "      <th></th>\n",
       "      <th>alcohol</th>\n",
       "      <th>malic_acid</th>\n",
       "      <th>ash</th>\n",
       "      <th>alcalinity_of_ash</th>\n",
       "      <th>magnesium</th>\n",
       "      <th>total_phenols</th>\n",
       "      <th>flavanoids</th>\n",
       "      <th>nonflavanoid_phenols</th>\n",
       "      <th>proanthocyanins</th>\n",
       "      <th>color_intensity</th>\n",
       "      <th>hue</th>\n",
       "      <th>od280/od315_of_diluted_wines</th>\n",
       "      <th>proline</th>\n",
       "    </tr>\n",
       "  </thead>\n",
       "  <tbody>\n",
       "    <tr>\n",
       "      <th>0</th>\n",
       "      <td>14.23</td>\n",
       "      <td>1.71</td>\n",
       "      <td>2.43</td>\n",
       "      <td>15.6</td>\n",
       "      <td>127.0</td>\n",
       "      <td>2.80</td>\n",
       "      <td>3.06</td>\n",
       "      <td>0.28</td>\n",
       "      <td>2.29</td>\n",
       "      <td>5.64</td>\n",
       "      <td>1.04</td>\n",
       "      <td>3.92</td>\n",
       "      <td>1065.0</td>\n",
       "    </tr>\n",
       "    <tr>\n",
       "      <th>1</th>\n",
       "      <td>13.20</td>\n",
       "      <td>1.78</td>\n",
       "      <td>2.14</td>\n",
       "      <td>11.2</td>\n",
       "      <td>100.0</td>\n",
       "      <td>2.65</td>\n",
       "      <td>2.76</td>\n",
       "      <td>0.26</td>\n",
       "      <td>1.28</td>\n",
       "      <td>4.38</td>\n",
       "      <td>1.05</td>\n",
       "      <td>3.40</td>\n",
       "      <td>1050.0</td>\n",
       "    </tr>\n",
       "    <tr>\n",
       "      <th>2</th>\n",
       "      <td>13.16</td>\n",
       "      <td>2.36</td>\n",
       "      <td>2.67</td>\n",
       "      <td>18.6</td>\n",
       "      <td>101.0</td>\n",
       "      <td>2.80</td>\n",
       "      <td>3.24</td>\n",
       "      <td>0.30</td>\n",
       "      <td>2.81</td>\n",
       "      <td>5.68</td>\n",
       "      <td>1.03</td>\n",
       "      <td>3.17</td>\n",
       "      <td>1185.0</td>\n",
       "    </tr>\n",
       "    <tr>\n",
       "      <th>3</th>\n",
       "      <td>14.37</td>\n",
       "      <td>1.95</td>\n",
       "      <td>2.50</td>\n",
       "      <td>16.8</td>\n",
       "      <td>113.0</td>\n",
       "      <td>3.85</td>\n",
       "      <td>3.49</td>\n",
       "      <td>0.24</td>\n",
       "      <td>2.18</td>\n",
       "      <td>7.80</td>\n",
       "      <td>0.86</td>\n",
       "      <td>3.45</td>\n",
       "      <td>1480.0</td>\n",
       "    </tr>\n",
       "    <tr>\n",
       "      <th>4</th>\n",
       "      <td>13.24</td>\n",
       "      <td>2.59</td>\n",
       "      <td>2.87</td>\n",
       "      <td>21.0</td>\n",
       "      <td>118.0</td>\n",
       "      <td>2.80</td>\n",
       "      <td>2.69</td>\n",
       "      <td>0.39</td>\n",
       "      <td>1.82</td>\n",
       "      <td>4.32</td>\n",
       "      <td>1.04</td>\n",
       "      <td>2.93</td>\n",
       "      <td>735.0</td>\n",
       "    </tr>\n",
       "  </tbody>\n",
       "</table>\n",
       "</div>"
      ],
      "text/plain": [
       "   alcohol  malic_acid   ash  alcalinity_of_ash  magnesium  total_phenols  \\\n",
       "0    14.23        1.71  2.43               15.6      127.0           2.80   \n",
       "1    13.20        1.78  2.14               11.2      100.0           2.65   \n",
       "2    13.16        2.36  2.67               18.6      101.0           2.80   \n",
       "3    14.37        1.95  2.50               16.8      113.0           3.85   \n",
       "4    13.24        2.59  2.87               21.0      118.0           2.80   \n",
       "\n",
       "   flavanoids  nonflavanoid_phenols  proanthocyanins  color_intensity   hue  \\\n",
       "0        3.06                  0.28             2.29             5.64  1.04   \n",
       "1        2.76                  0.26             1.28             4.38  1.05   \n",
       "2        3.24                  0.30             2.81             5.68  1.03   \n",
       "3        3.49                  0.24             2.18             7.80  0.86   \n",
       "4        2.69                  0.39             1.82             4.32  1.04   \n",
       "\n",
       "   od280/od315_of_diluted_wines  proline  \n",
       "0                          3.92   1065.0  \n",
       "1                          3.40   1050.0  \n",
       "2                          3.17   1185.0  \n",
       "3                          3.45   1480.0  \n",
       "4                          2.93    735.0  "
      ]
     },
     "execution_count": 6,
     "metadata": {},
     "output_type": "execute_result"
    },
    {
     "name": "stdout",
     "output_type": "stream",
     "text": [
      "Shape of wine-dataframe: (178, 13)\n"
     ]
    },
    {
     "data": {
      "application/vnd.plotly.v1+json": {
       "config": {
        "plotlyServerURL": "https://plot.ly"
       },
       "data": [
        {
         "type": "bar",
         "y": [
          14.83,
          14.75,
          14.39,
          14.38,
          14.38,
          14.37,
          14.34,
          14.3,
          14.23,
          14.22
         ]
        }
       ],
       "layout": {
        "font": {
         "size": 10
        },
        "height": 400,
        "margin": {
         "b": 0,
         "l": 80,
         "r": 0,
         "t": 50
        },
        "template": {
         "data": {
          "bar": [
           {
            "error_x": {
             "color": "#2a3f5f"
            },
            "error_y": {
             "color": "#2a3f5f"
            },
            "marker": {
             "line": {
              "color": "#E5ECF6",
              "width": 0.5
             }
            },
            "type": "bar"
           }
          ],
          "barpolar": [
           {
            "marker": {
             "line": {
              "color": "#E5ECF6",
              "width": 0.5
             }
            },
            "type": "barpolar"
           }
          ],
          "carpet": [
           {
            "aaxis": {
             "endlinecolor": "#2a3f5f",
             "gridcolor": "white",
             "linecolor": "white",
             "minorgridcolor": "white",
             "startlinecolor": "#2a3f5f"
            },
            "baxis": {
             "endlinecolor": "#2a3f5f",
             "gridcolor": "white",
             "linecolor": "white",
             "minorgridcolor": "white",
             "startlinecolor": "#2a3f5f"
            },
            "type": "carpet"
           }
          ],
          "choropleth": [
           {
            "colorbar": {
             "outlinewidth": 0,
             "ticks": ""
            },
            "type": "choropleth"
           }
          ],
          "contour": [
           {
            "colorbar": {
             "outlinewidth": 0,
             "ticks": ""
            },
            "colorscale": [
             [
              0,
              "#0d0887"
             ],
             [
              0.1111111111111111,
              "#46039f"
             ],
             [
              0.2222222222222222,
              "#7201a8"
             ],
             [
              0.3333333333333333,
              "#9c179e"
             ],
             [
              0.4444444444444444,
              "#bd3786"
             ],
             [
              0.5555555555555556,
              "#d8576b"
             ],
             [
              0.6666666666666666,
              "#ed7953"
             ],
             [
              0.7777777777777778,
              "#fb9f3a"
             ],
             [
              0.8888888888888888,
              "#fdca26"
             ],
             [
              1,
              "#f0f921"
             ]
            ],
            "type": "contour"
           }
          ],
          "contourcarpet": [
           {
            "colorbar": {
             "outlinewidth": 0,
             "ticks": ""
            },
            "type": "contourcarpet"
           }
          ],
          "heatmap": [
           {
            "colorbar": {
             "outlinewidth": 0,
             "ticks": ""
            },
            "colorscale": [
             [
              0,
              "#0d0887"
             ],
             [
              0.1111111111111111,
              "#46039f"
             ],
             [
              0.2222222222222222,
              "#7201a8"
             ],
             [
              0.3333333333333333,
              "#9c179e"
             ],
             [
              0.4444444444444444,
              "#bd3786"
             ],
             [
              0.5555555555555556,
              "#d8576b"
             ],
             [
              0.6666666666666666,
              "#ed7953"
             ],
             [
              0.7777777777777778,
              "#fb9f3a"
             ],
             [
              0.8888888888888888,
              "#fdca26"
             ],
             [
              1,
              "#f0f921"
             ]
            ],
            "type": "heatmap"
           }
          ],
          "heatmapgl": [
           {
            "colorbar": {
             "outlinewidth": 0,
             "ticks": ""
            },
            "colorscale": [
             [
              0,
              "#0d0887"
             ],
             [
              0.1111111111111111,
              "#46039f"
             ],
             [
              0.2222222222222222,
              "#7201a8"
             ],
             [
              0.3333333333333333,
              "#9c179e"
             ],
             [
              0.4444444444444444,
              "#bd3786"
             ],
             [
              0.5555555555555556,
              "#d8576b"
             ],
             [
              0.6666666666666666,
              "#ed7953"
             ],
             [
              0.7777777777777778,
              "#fb9f3a"
             ],
             [
              0.8888888888888888,
              "#fdca26"
             ],
             [
              1,
              "#f0f921"
             ]
            ],
            "type": "heatmapgl"
           }
          ],
          "histogram": [
           {
            "marker": {
             "colorbar": {
              "outlinewidth": 0,
              "ticks": ""
             }
            },
            "type": "histogram"
           }
          ],
          "histogram2d": [
           {
            "colorbar": {
             "outlinewidth": 0,
             "ticks": ""
            },
            "colorscale": [
             [
              0,
              "#0d0887"
             ],
             [
              0.1111111111111111,
              "#46039f"
             ],
             [
              0.2222222222222222,
              "#7201a8"
             ],
             [
              0.3333333333333333,
              "#9c179e"
             ],
             [
              0.4444444444444444,
              "#bd3786"
             ],
             [
              0.5555555555555556,
              "#d8576b"
             ],
             [
              0.6666666666666666,
              "#ed7953"
             ],
             [
              0.7777777777777778,
              "#fb9f3a"
             ],
             [
              0.8888888888888888,
              "#fdca26"
             ],
             [
              1,
              "#f0f921"
             ]
            ],
            "type": "histogram2d"
           }
          ],
          "histogram2dcontour": [
           {
            "colorbar": {
             "outlinewidth": 0,
             "ticks": ""
            },
            "colorscale": [
             [
              0,
              "#0d0887"
             ],
             [
              0.1111111111111111,
              "#46039f"
             ],
             [
              0.2222222222222222,
              "#7201a8"
             ],
             [
              0.3333333333333333,
              "#9c179e"
             ],
             [
              0.4444444444444444,
              "#bd3786"
             ],
             [
              0.5555555555555556,
              "#d8576b"
             ],
             [
              0.6666666666666666,
              "#ed7953"
             ],
             [
              0.7777777777777778,
              "#fb9f3a"
             ],
             [
              0.8888888888888888,
              "#fdca26"
             ],
             [
              1,
              "#f0f921"
             ]
            ],
            "type": "histogram2dcontour"
           }
          ],
          "mesh3d": [
           {
            "colorbar": {
             "outlinewidth": 0,
             "ticks": ""
            },
            "type": "mesh3d"
           }
          ],
          "parcoords": [
           {
            "line": {
             "colorbar": {
              "outlinewidth": 0,
              "ticks": ""
             }
            },
            "type": "parcoords"
           }
          ],
          "pie": [
           {
            "automargin": true,
            "type": "pie"
           }
          ],
          "scatter": [
           {
            "marker": {
             "colorbar": {
              "outlinewidth": 0,
              "ticks": ""
             }
            },
            "type": "scatter"
           }
          ],
          "scatter3d": [
           {
            "line": {
             "colorbar": {
              "outlinewidth": 0,
              "ticks": ""
             }
            },
            "marker": {
             "colorbar": {
              "outlinewidth": 0,
              "ticks": ""
             }
            },
            "type": "scatter3d"
           }
          ],
          "scattercarpet": [
           {
            "marker": {
             "colorbar": {
              "outlinewidth": 0,
              "ticks": ""
             }
            },
            "type": "scattercarpet"
           }
          ],
          "scattergeo": [
           {
            "marker": {
             "colorbar": {
              "outlinewidth": 0,
              "ticks": ""
             }
            },
            "type": "scattergeo"
           }
          ],
          "scattergl": [
           {
            "marker": {
             "colorbar": {
              "outlinewidth": 0,
              "ticks": ""
             }
            },
            "type": "scattergl"
           }
          ],
          "scattermapbox": [
           {
            "marker": {
             "colorbar": {
              "outlinewidth": 0,
              "ticks": ""
             }
            },
            "type": "scattermapbox"
           }
          ],
          "scatterpolar": [
           {
            "marker": {
             "colorbar": {
              "outlinewidth": 0,
              "ticks": ""
             }
            },
            "type": "scatterpolar"
           }
          ],
          "scatterpolargl": [
           {
            "marker": {
             "colorbar": {
              "outlinewidth": 0,
              "ticks": ""
             }
            },
            "type": "scatterpolargl"
           }
          ],
          "scatterternary": [
           {
            "marker": {
             "colorbar": {
              "outlinewidth": 0,
              "ticks": ""
             }
            },
            "type": "scatterternary"
           }
          ],
          "surface": [
           {
            "colorbar": {
             "outlinewidth": 0,
             "ticks": ""
            },
            "colorscale": [
             [
              0,
              "#0d0887"
             ],
             [
              0.1111111111111111,
              "#46039f"
             ],
             [
              0.2222222222222222,
              "#7201a8"
             ],
             [
              0.3333333333333333,
              "#9c179e"
             ],
             [
              0.4444444444444444,
              "#bd3786"
             ],
             [
              0.5555555555555556,
              "#d8576b"
             ],
             [
              0.6666666666666666,
              "#ed7953"
             ],
             [
              0.7777777777777778,
              "#fb9f3a"
             ],
             [
              0.8888888888888888,
              "#fdca26"
             ],
             [
              1,
              "#f0f921"
             ]
            ],
            "type": "surface"
           }
          ],
          "table": [
           {
            "cells": {
             "fill": {
              "color": "#EBF0F8"
             },
             "line": {
              "color": "white"
             }
            },
            "header": {
             "fill": {
              "color": "#C8D4E3"
             },
             "line": {
              "color": "white"
             }
            },
            "type": "table"
           }
          ]
         },
         "layout": {
          "annotationdefaults": {
           "arrowcolor": "#2a3f5f",
           "arrowhead": 0,
           "arrowwidth": 1
          },
          "autotypenumbers": "strict",
          "coloraxis": {
           "colorbar": {
            "outlinewidth": 0,
            "ticks": ""
           }
          },
          "colorscale": {
           "diverging": [
            [
             0,
             "#8e0152"
            ],
            [
             0.1,
             "#c51b7d"
            ],
            [
             0.2,
             "#de77ae"
            ],
            [
             0.3,
             "#f1b6da"
            ],
            [
             0.4,
             "#fde0ef"
            ],
            [
             0.5,
             "#f7f7f7"
            ],
            [
             0.6,
             "#e6f5d0"
            ],
            [
             0.7,
             "#b8e186"
            ],
            [
             0.8,
             "#7fbc41"
            ],
            [
             0.9,
             "#4d9221"
            ],
            [
             1,
             "#276419"
            ]
           ],
           "sequential": [
            [
             0,
             "#0d0887"
            ],
            [
             0.1111111111111111,
             "#46039f"
            ],
            [
             0.2222222222222222,
             "#7201a8"
            ],
            [
             0.3333333333333333,
             "#9c179e"
            ],
            [
             0.4444444444444444,
             "#bd3786"
            ],
            [
             0.5555555555555556,
             "#d8576b"
            ],
            [
             0.6666666666666666,
             "#ed7953"
            ],
            [
             0.7777777777777778,
             "#fb9f3a"
            ],
            [
             0.8888888888888888,
             "#fdca26"
            ],
            [
             1,
             "#f0f921"
            ]
           ],
           "sequentialminus": [
            [
             0,
             "#0d0887"
            ],
            [
             0.1111111111111111,
             "#46039f"
            ],
            [
             0.2222222222222222,
             "#7201a8"
            ],
            [
             0.3333333333333333,
             "#9c179e"
            ],
            [
             0.4444444444444444,
             "#bd3786"
            ],
            [
             0.5555555555555556,
             "#d8576b"
            ],
            [
             0.6666666666666666,
             "#ed7953"
            ],
            [
             0.7777777777777778,
             "#fb9f3a"
            ],
            [
             0.8888888888888888,
             "#fdca26"
            ],
            [
             1,
             "#f0f921"
            ]
           ]
          },
          "colorway": [
           "#636efa",
           "#EF553B",
           "#00cc96",
           "#ab63fa",
           "#FFA15A",
           "#19d3f3",
           "#FF6692",
           "#B6E880",
           "#FF97FF",
           "#FECB52"
          ],
          "font": {
           "color": "#2a3f5f"
          },
          "geo": {
           "bgcolor": "white",
           "lakecolor": "white",
           "landcolor": "#E5ECF6",
           "showlakes": true,
           "showland": true,
           "subunitcolor": "white"
          },
          "hoverlabel": {
           "align": "left"
          },
          "hovermode": "closest",
          "mapbox": {
           "style": "light"
          },
          "paper_bgcolor": "white",
          "plot_bgcolor": "#E5ECF6",
          "polar": {
           "angularaxis": {
            "gridcolor": "white",
            "linecolor": "white",
            "ticks": ""
           },
           "bgcolor": "#E5ECF6",
           "radialaxis": {
            "gridcolor": "white",
            "linecolor": "white",
            "ticks": ""
           }
          },
          "scene": {
           "xaxis": {
            "backgroundcolor": "#E5ECF6",
            "gridcolor": "white",
            "gridwidth": 2,
            "linecolor": "white",
            "showbackground": true,
            "ticks": "",
            "zerolinecolor": "white"
           },
           "yaxis": {
            "backgroundcolor": "#E5ECF6",
            "gridcolor": "white",
            "gridwidth": 2,
            "linecolor": "white",
            "showbackground": true,
            "ticks": "",
            "zerolinecolor": "white"
           },
           "zaxis": {
            "backgroundcolor": "#E5ECF6",
            "gridcolor": "white",
            "gridwidth": 2,
            "linecolor": "white",
            "showbackground": true,
            "ticks": "",
            "zerolinecolor": "white"
           }
          },
          "shapedefaults": {
           "line": {
            "color": "#2a3f5f"
           }
          },
          "ternary": {
           "aaxis": {
            "gridcolor": "white",
            "linecolor": "white",
            "ticks": ""
           },
           "baxis": {
            "gridcolor": "white",
            "linecolor": "white",
            "ticks": ""
           },
           "bgcolor": "#E5ECF6",
           "caxis": {
            "gridcolor": "white",
            "linecolor": "white",
            "ticks": ""
           }
          },
          "title": {
           "x": 0.05
          },
          "xaxis": {
           "automargin": true,
           "gridcolor": "white",
           "linecolor": "white",
           "ticks": "",
           "title": {
            "standoff": 15
           },
           "zerolinecolor": "white",
           "zerolinewidth": 2
          },
          "yaxis": {
           "automargin": true,
           "gridcolor": "white",
           "linecolor": "white",
           "ticks": "",
           "title": {
            "standoff": 15
           },
           "zerolinecolor": "white",
           "zerolinewidth": 2
          }
         }
        },
        "title": {
         "font": {
          "size": 20
         },
         "text": "Alcohol content of 10 strongest wines in dataset",
         "x": 0.55
        },
        "width": 1000,
        "xaxis": {
         "autorange": true,
         "range": [
          -0.5,
          9.5
         ]
        },
        "yaxis": {
         "autorange": true,
         "range": [
          0,
          15.610526315789475
         ],
         "type": "linear"
        }
       }
      },
      "image/png": "[encoded data removed]",
      "text/html": [
       "<div>                            <div id=\"4297e9b3-bc91-41e8-a56d-c4e5a7560552\" class=\"plotly-graph-div\" style=\"height:400px; width:1000px;\"></div>            <script type=\"text/javascript\">                require([\"plotly\"], function(Plotly) {                    window.PLOTLYENV=window.PLOTLYENV || {};                                    if (document.getElementById(\"4297e9b3-bc91-41e8-a56d-c4e5a7560552\")) {                    Plotly.newPlot(                        \"4297e9b3-bc91-41e8-a56d-c4e5a7560552\",                        [{\"type\": \"bar\", \"y\": [14.83, 14.75, 14.39, 14.38, 14.38, 14.37, 14.34, 14.3, 14.23, 14.22]}],                        {\"font\": {\"size\": 10}, \"height\": 400, \"margin\": {\"b\": 0, \"l\": 80, \"r\": 0, \"t\": 50}, \"template\": {\"data\": {\"bar\": [{\"error_x\": {\"color\": \"#2a3f5f\"}, \"error_y\": {\"color\": \"#2a3f5f\"}, \"marker\": {\"line\": {\"color\": \"#E5ECF6\", \"width\": 0.5}}, \"type\": \"bar\"}], \"barpolar\": [{\"marker\": {\"line\": {\"color\": \"#E5ECF6\", \"width\": 0.5}}, \"type\": \"barpolar\"}], \"carpet\": [{\"aaxis\": {\"endlinecolor\": \"#2a3f5f\", \"gridcolor\": \"white\", \"linecolor\": \"white\", \"minorgridcolor\": \"white\", \"startlinecolor\": \"#2a3f5f\"}, \"baxis\": {\"endlinecolor\": \"#2a3f5f\", \"gridcolor\": \"white\", \"linecolor\": \"white\", \"minorgridcolor\": \"white\", \"startlinecolor\": \"#2a3f5f\"}, \"type\": \"carpet\"}], \"choropleth\": [{\"colorbar\": {\"outlinewidth\": 0, \"ticks\": \"\"}, \"type\": \"choropleth\"}], \"contour\": [{\"colorbar\": {\"outlinewidth\": 0, \"ticks\": \"\"}, \"colorscale\": [[0.0, \"#0d0887\"], [0.1111111111111111, \"#46039f\"], [0.2222222222222222, \"#7201a8\"], [0.3333333333333333, \"#9c179e\"], [0.4444444444444444, \"#bd3786\"], [0.5555555555555556, \"#d8576b\"], [0.6666666666666666, \"#ed7953\"], [0.7777777777777778, \"#fb9f3a\"], [0.8888888888888888, \"#fdca26\"], [1.0, \"#f0f921\"]], \"type\": \"contour\"}], \"contourcarpet\": [{\"colorbar\": {\"outlinewidth\": 0, \"ticks\": \"\"}, \"type\": \"contourcarpet\"}], \"heatmap\": [{\"colorbar\": {\"outlinewidth\": 0, \"ticks\": \"\"}, \"colorscale\": [[0.0, \"#0d0887\"], [0.1111111111111111, \"#46039f\"], [0.2222222222222222, \"#7201a8\"], [0.3333333333333333, \"#9c179e\"], [0.4444444444444444, \"#bd3786\"], [0.5555555555555556, \"#d8576b\"], [0.6666666666666666, \"#ed7953\"], [0.7777777777777778, \"#fb9f3a\"], [0.8888888888888888, \"#fdca26\"], [1.0, \"#f0f921\"]], \"type\": \"heatmap\"}], \"heatmapgl\": [{\"colorbar\": {\"outlinewidth\": 0, \"ticks\": \"\"}, \"colorscale\": [[0.0, \"#0d0887\"], [0.1111111111111111, \"#46039f\"], [0.2222222222222222, \"#7201a8\"], [0.3333333333333333, \"#9c179e\"], [0.4444444444444444, \"#bd3786\"], [0.5555555555555556, \"#d8576b\"], [0.6666666666666666, \"#ed7953\"], [0.7777777777777778, \"#fb9f3a\"], [0.8888888888888888, \"#fdca26\"], [1.0, \"#f0f921\"]], \"type\": \"heatmapgl\"}], \"histogram\": [{\"marker\": {\"colorbar\": {\"outlinewidth\": 0, \"ticks\": \"\"}}, \"type\": \"histogram\"}], \"histogram2d\": [{\"colorbar\": {\"outlinewidth\": 0, \"ticks\": \"\"}, \"colorscale\": [[0.0, \"#0d0887\"], [0.1111111111111111, \"#46039f\"], [0.2222222222222222, \"#7201a8\"], [0.3333333333333333, \"#9c179e\"], [0.4444444444444444, \"#bd3786\"], [0.5555555555555556, \"#d8576b\"], [0.6666666666666666, \"#ed7953\"], [0.7777777777777778, \"#fb9f3a\"], [0.8888888888888888, \"#fdca26\"], [1.0, \"#f0f921\"]], \"type\": \"histogram2d\"}], \"histogram2dcontour\": [{\"colorbar\": {\"outlinewidth\": 0, \"ticks\": \"\"}, \"colorscale\": [[0.0, \"#0d0887\"], [0.1111111111111111, \"#46039f\"], [0.2222222222222222, \"#7201a8\"], [0.3333333333333333, \"#9c179e\"], [0.4444444444444444, \"#bd3786\"], [0.5555555555555556, \"#d8576b\"], [0.6666666666666666, \"#ed7953\"], [0.7777777777777778, \"#fb9f3a\"], [0.8888888888888888, \"#fdca26\"], [1.0, \"#f0f921\"]], \"type\": \"histogram2dcontour\"}], \"mesh3d\": [{\"colorbar\": {\"outlinewidth\": 0, \"ticks\": \"\"}, \"type\": \"mesh3d\"}], \"parcoords\": [{\"line\": {\"colorbar\": {\"outlinewidth\": 0, \"ticks\": \"\"}}, \"type\": \"parcoords\"}], \"pie\": [{\"automargin\": true, \"type\": \"pie\"}], \"scatter\": [{\"marker\": {\"colorbar\": {\"outlinewidth\": 0, \"ticks\": \"\"}}, \"type\": \"scatter\"}], \"scatter3d\": [{\"line\": {\"colorbar\": {\"outlinewidth\": 0, \"ticks\": \"\"}}, \"marker\": {\"colorbar\": {\"outlinewidth\": 0, \"ticks\": \"\"}}, \"type\": \"scatter3d\"}], \"scattercarpet\": [{\"marker\": {\"colorbar\": {\"outlinewidth\": 0, \"ticks\": \"\"}}, \"type\": \"scattercarpet\"}], \"scattergeo\": [{\"marker\": {\"colorbar\": {\"outlinewidth\": 0, \"ticks\": \"\"}}, \"type\": \"scattergeo\"}], \"scattergl\": [{\"marker\": {\"colorbar\": {\"outlinewidth\": 0, \"ticks\": \"\"}}, \"type\": \"scattergl\"}], \"scattermapbox\": [{\"marker\": {\"colorbar\": {\"outlinewidth\": 0, \"ticks\": \"\"}}, \"type\": \"scattermapbox\"}], \"scatterpolar\": [{\"marker\": {\"colorbar\": {\"outlinewidth\": 0, \"ticks\": \"\"}}, \"type\": \"scatterpolar\"}], \"scatterpolargl\": [{\"marker\": {\"colorbar\": {\"outlinewidth\": 0, \"ticks\": \"\"}}, \"type\": \"scatterpolargl\"}], \"scatterternary\": [{\"marker\": {\"colorbar\": {\"outlinewidth\": 0, \"ticks\": \"\"}}, \"type\": \"scatterternary\"}], \"surface\": [{\"colorbar\": {\"outlinewidth\": 0, \"ticks\": \"\"}, \"colorscale\": [[0.0, \"#0d0887\"], [0.1111111111111111, \"#46039f\"], [0.2222222222222222, \"#7201a8\"], [0.3333333333333333, \"#9c179e\"], [0.4444444444444444, \"#bd3786\"], [0.5555555555555556, \"#d8576b\"], [0.6666666666666666, \"#ed7953\"], [0.7777777777777778, \"#fb9f3a\"], [0.8888888888888888, \"#fdca26\"], [1.0, \"#f0f921\"]], \"type\": \"surface\"}], \"table\": [{\"cells\": {\"fill\": {\"color\": \"#EBF0F8\"}, \"line\": {\"color\": \"white\"}}, \"header\": {\"fill\": {\"color\": \"#C8D4E3\"}, \"line\": {\"color\": \"white\"}}, \"type\": \"table\"}]}, \"layout\": {\"annotationdefaults\": {\"arrowcolor\": \"#2a3f5f\", \"arrowhead\": 0, \"arrowwidth\": 1}, \"autotypenumbers\": \"strict\", \"coloraxis\": {\"colorbar\": {\"outlinewidth\": 0, \"ticks\": \"\"}}, \"colorscale\": {\"diverging\": [[0, \"#8e0152\"], [0.1, \"#c51b7d\"], [0.2, \"#de77ae\"], [0.3, \"#f1b6da\"], [0.4, \"#fde0ef\"], [0.5, \"#f7f7f7\"], [0.6, \"#e6f5d0\"], [0.7, \"#b8e186\"], [0.8, \"#7fbc41\"], [0.9, \"#4d9221\"], [1, \"#276419\"]], \"sequential\": [[0.0, \"#0d0887\"], [0.1111111111111111, \"#46039f\"], [0.2222222222222222, \"#7201a8\"], [0.3333333333333333, \"#9c179e\"], [0.4444444444444444, \"#bd3786\"], [0.5555555555555556, \"#d8576b\"], [0.6666666666666666, \"#ed7953\"], [0.7777777777777778, \"#fb9f3a\"], [0.8888888888888888, \"#fdca26\"], [1.0, \"#f0f921\"]], \"sequentialminus\": [[0.0, \"#0d0887\"], [0.1111111111111111, \"#46039f\"], [0.2222222222222222, \"#7201a8\"], [0.3333333333333333, \"#9c179e\"], [0.4444444444444444, \"#bd3786\"], [0.5555555555555556, \"#d8576b\"], [0.6666666666666666, \"#ed7953\"], [0.7777777777777778, \"#fb9f3a\"], [0.8888888888888888, \"#fdca26\"], [1.0, \"#f0f921\"]]}, \"colorway\": [\"#636efa\", \"#EF553B\", \"#00cc96\", \"#ab63fa\", \"#FFA15A\", \"#19d3f3\", \"#FF6692\", \"#B6E880\", \"#FF97FF\", \"#FECB52\"], \"font\": {\"color\": \"#2a3f5f\"}, \"geo\": {\"bgcolor\": \"white\", \"lakecolor\": \"white\", \"landcolor\": \"#E5ECF6\", \"showlakes\": true, \"showland\": true, \"subunitcolor\": \"white\"}, \"hoverlabel\": {\"align\": \"left\"}, \"hovermode\": \"closest\", \"mapbox\": {\"style\": \"light\"}, \"paper_bgcolor\": \"white\", \"plot_bgcolor\": \"#E5ECF6\", \"polar\": {\"angularaxis\": {\"gridcolor\": \"white\", \"linecolor\": \"white\", \"ticks\": \"\"}, \"bgcolor\": \"#E5ECF6\", \"radialaxis\": {\"gridcolor\": \"white\", \"linecolor\": \"white\", \"ticks\": \"\"}}, \"scene\": {\"xaxis\": {\"backgroundcolor\": \"#E5ECF6\", \"gridcolor\": \"white\", \"gridwidth\": 2, \"linecolor\": \"white\", \"showbackground\": true, \"ticks\": \"\", \"zerolinecolor\": \"white\"}, \"yaxis\": {\"backgroundcolor\": \"#E5ECF6\", \"gridcolor\": \"white\", \"gridwidth\": 2, \"linecolor\": \"white\", \"showbackground\": true, \"ticks\": \"\", \"zerolinecolor\": \"white\"}, \"zaxis\": {\"backgroundcolor\": \"#E5ECF6\", \"gridcolor\": \"white\", \"gridwidth\": 2, \"linecolor\": \"white\", \"showbackground\": true, \"ticks\": \"\", \"zerolinecolor\": \"white\"}}, \"shapedefaults\": {\"line\": {\"color\": \"#2a3f5f\"}}, \"ternary\": {\"aaxis\": {\"gridcolor\": \"white\", \"linecolor\": \"white\", \"ticks\": \"\"}, \"baxis\": {\"gridcolor\": \"white\", \"linecolor\": \"white\", \"ticks\": \"\"}, \"bgcolor\": \"#E5ECF6\", \"caxis\": {\"gridcolor\": \"white\", \"linecolor\": \"white\", \"ticks\": \"\"}}, \"title\": {\"x\": 0.05}, \"xaxis\": {\"automargin\": true, \"gridcolor\": \"white\", \"linecolor\": \"white\", \"ticks\": \"\", \"title\": {\"standoff\": 15}, \"zerolinecolor\": \"white\", \"zerolinewidth\": 2}, \"yaxis\": {\"automargin\": true, \"gridcolor\": \"white\", \"linecolor\": \"white\", \"ticks\": \"\", \"title\": {\"standoff\": 15}, \"zerolinecolor\": \"white\", \"zerolinewidth\": 2}}}, \"title\": {\"font\": {\"size\": 20}, \"text\": \"Alcohol content of 10 strongest wines in dataset\", \"x\": 0.55}, \"width\": 1000},                        {\"responsive\": true}                    ).then(function(){\n",
       "                            \n",
       "var gd = document.getElementById('4297e9b3-bc91-41e8-a56d-c4e5a7560552');\n",
       "var x = new MutationObserver(function (mutations, observer) {{\n",
       "        var display = window.getComputedStyle(gd).display;\n",
       "        if (!display || display === 'none') {{\n",
       "            console.log([gd, 'removed!']);\n",
       "            Plotly.purge(gd);\n",
       "            observer.disconnect();\n",
       "        }}\n",
       "}});\n",
       "\n",
       "// Listen for the removal of the full notebook cells\n",
       "var notebookContainer = gd.closest('#notebook-container');\n",
       "if (notebookContainer) {{\n",
       "    x.observe(notebookContainer, {childList: true});\n",
       "}}\n",
       "\n",
       "// Listen for the clearing of the current output cell\n",
       "var outputEl = gd.closest('.output');\n",
       "if (outputEl) {{\n",
       "    x.observe(outputEl, {childList: true});\n",
       "}}\n",
       "\n",
       "                        })                };                });            </script>        </div>"
      ]
     },
     "metadata": {},
     "output_type": "display_data"
    }
   ],
   "source": [
    "wine_data = load_wine()\n",
    "wine_df = pd.DataFrame(wine_data.data, columns=wine_data.feature_names)\n",
    "\n",
    "wine_df.head()\n",
    "print(\"Shape of wine-dataframe: {}\".format(wine_df.shape))\n",
    "\n",
    "wine_fig = go.Figure()\n",
    "\n",
    "_ = wine_fig.add_trace(\n",
    "    go.Bar(\n",
    "        y = wine_df.sort_values(by='alcohol', ascending=False).iloc[:10]['alcohol'],\n",
    "    )\n",
    ")\n",
    "\n",
    "wine_layout = go.Layout(\n",
    "    width=1000, height=400,\n",
    "    font=dict(size=10),\n",
    "    title=dict(text='Alcohol content of 10 strongest wines in dataset', x=0.55,\n",
    "               font=dict(size=20)\n",
    "              ),\n",
    "    margin=go.layout.Margin(l=80, r=0, b=0, t=50,),\n",
    ")\n",
    "\n",
    "_ = wine_fig.update_layout(wine_layout)\n",
    "\n",
    "wine_fig.show()"
   ]
  },
  {
   "cell_type": "markdown",
   "metadata": {},
   "source": [
    "<h3> Axis customisation </h3>"
   ]
  },
  {
   "cell_type": "code",
   "execution_count": 7,
   "metadata": {},
   "outputs": [
    {
     "data": {
      "application/vnd.plotly.v1+json": {
       "config": {
        "plotlyServerURL": "https://plot.ly"
       },
       "data": [
        {
         "type": "bar",
         "y": [
          14.83,
          14.75,
          14.39,
          14.38,
          14.38,
          14.37,
          14.34,
          14.3,
          14.23,
          14.22
         ]
        }
       ],
       "layout": {
        "font": {
         "size": 10
        },
        "height": 400,
        "margin": {
         "b": 0,
         "l": 80,
         "r": 0,
         "t": 50
        },
        "template": {
         "data": {
          "bar": [
           {
            "error_x": {
             "color": "#2a3f5f"
            },
            "error_y": {
             "color": "#2a3f5f"
            },
            "marker": {
             "line": {
              "color": "#E5ECF6",
              "width": 0.5
             }
            },
            "type": "bar"
           }
          ],
          "barpolar": [
           {
            "marker": {
             "line": {
              "color": "#E5ECF6",
              "width": 0.5
             }
            },
            "type": "barpolar"
           }
          ],
          "carpet": [
           {
            "aaxis": {
             "endlinecolor": "#2a3f5f",
             "gridcolor": "white",
             "linecolor": "white",
             "minorgridcolor": "white",
             "startlinecolor": "#2a3f5f"
            },
            "baxis": {
             "endlinecolor": "#2a3f5f",
             "gridcolor": "white",
             "linecolor": "white",
             "minorgridcolor": "white",
             "startlinecolor": "#2a3f5f"
            },
            "type": "carpet"
           }
          ],
          "choropleth": [
           {
            "colorbar": {
             "outlinewidth": 0,
             "ticks": ""
            },
            "type": "choropleth"
           }
          ],
          "contour": [
           {
            "colorbar": {
             "outlinewidth": 0,
             "ticks": ""
            },
            "colorscale": [
             [
              0,
              "#0d0887"
             ],
             [
              0.1111111111111111,
              "#46039f"
             ],
             [
              0.2222222222222222,
              "#7201a8"
             ],
             [
              0.3333333333333333,
              "#9c179e"
             ],
             [
              0.4444444444444444,
              "#bd3786"
             ],
             [
              0.5555555555555556,
              "#d8576b"
             ],
             [
              0.6666666666666666,
              "#ed7953"
             ],
             [
              0.7777777777777778,
              "#fb9f3a"
             ],
             [
              0.8888888888888888,
              "#fdca26"
             ],
             [
              1,
              "#f0f921"
             ]
            ],
            "type": "contour"
           }
          ],
          "contourcarpet": [
           {
            "colorbar": {
             "outlinewidth": 0,
             "ticks": ""
            },
            "type": "contourcarpet"
           }
          ],
          "heatmap": [
           {
            "colorbar": {
             "outlinewidth": 0,
             "ticks": ""
            },
            "colorscale": [
             [
              0,
              "#0d0887"
             ],
             [
              0.1111111111111111,
              "#46039f"
             ],
             [
              0.2222222222222222,
              "#7201a8"
             ],
             [
              0.3333333333333333,
              "#9c179e"
             ],
             [
              0.4444444444444444,
              "#bd3786"
             ],
             [
              0.5555555555555556,
              "#d8576b"
             ],
             [
              0.6666666666666666,
              "#ed7953"
             ],
             [
              0.7777777777777778,
              "#fb9f3a"
             ],
             [
              0.8888888888888888,
              "#fdca26"
             ],
             [
              1,
              "#f0f921"
             ]
            ],
            "type": "heatmap"
           }
          ],
          "heatmapgl": [
           {
            "colorbar": {
             "outlinewidth": 0,
             "ticks": ""
            },
            "colorscale": [
             [
              0,
              "#0d0887"
             ],
             [
              0.1111111111111111,
              "#46039f"
             ],
             [
              0.2222222222222222,
              "#7201a8"
             ],
             [
              0.3333333333333333,
              "#9c179e"
             ],
             [
              0.4444444444444444,
              "#bd3786"
             ],
             [
              0.5555555555555556,
              "#d8576b"
             ],
             [
              0.6666666666666666,
              "#ed7953"
             ],
             [
              0.7777777777777778,
              "#fb9f3a"
             ],
             [
              0.8888888888888888,
              "#fdca26"
             ],
             [
              1,
              "#f0f921"
             ]
            ],
            "type": "heatmapgl"
           }
          ],
          "histogram": [
           {
            "marker": {
             "colorbar": {
              "outlinewidth": 0,
              "ticks": ""
             }
            },
            "type": "histogram"
           }
          ],
          "histogram2d": [
           {
            "colorbar": {
             "outlinewidth": 0,
             "ticks": ""
            },
            "colorscale": [
             [
              0,
              "#0d0887"
             ],
             [
              0.1111111111111111,
              "#46039f"
             ],
             [
              0.2222222222222222,
              "#7201a8"
             ],
             [
              0.3333333333333333,
              "#9c179e"
             ],
             [
              0.4444444444444444,
              "#bd3786"
             ],
             [
              0.5555555555555556,
              "#d8576b"
             ],
             [
              0.6666666666666666,
              "#ed7953"
             ],
             [
              0.7777777777777778,
              "#fb9f3a"
             ],
             [
              0.8888888888888888,
              "#fdca26"
             ],
             [
              1,
              "#f0f921"
             ]
            ],
            "type": "histogram2d"
           }
          ],
          "histogram2dcontour": [
           {
            "colorbar": {
             "outlinewidth": 0,
             "ticks": ""
            },
            "colorscale": [
             [
              0,
              "#0d0887"
             ],
             [
              0.1111111111111111,
              "#46039f"
             ],
             [
              0.2222222222222222,
              "#7201a8"
             ],
             [
              0.3333333333333333,
              "#9c179e"
             ],
             [
              0.4444444444444444,
              "#bd3786"
             ],
             [
              0.5555555555555556,
              "#d8576b"
             ],
             [
              0.6666666666666666,
              "#ed7953"
             ],
             [
              0.7777777777777778,
              "#fb9f3a"
             ],
             [
              0.8888888888888888,
              "#fdca26"
             ],
             [
              1,
              "#f0f921"
             ]
            ],
            "type": "histogram2dcontour"
           }
          ],
          "mesh3d": [
           {
            "colorbar": {
             "outlinewidth": 0,
             "ticks": ""
            },
            "type": "mesh3d"
           }
          ],
          "parcoords": [
           {
            "line": {
             "colorbar": {
              "outlinewidth": 0,
              "ticks": ""
             }
            },
            "type": "parcoords"
           }
          ],
          "pie": [
           {
            "automargin": true,
            "type": "pie"
           }
          ],
          "scatter": [
           {
            "marker": {
             "colorbar": {
              "outlinewidth": 0,
              "ticks": ""
             }
            },
            "type": "scatter"
           }
          ],
          "scatter3d": [
           {
            "line": {
             "colorbar": {
              "outlinewidth": 0,
              "ticks": ""
             }
            },
            "marker": {
             "colorbar": {
              "outlinewidth": 0,
              "ticks": ""
             }
            },
            "type": "scatter3d"
           }
          ],
          "scattercarpet": [
           {
            "marker": {
             "colorbar": {
              "outlinewidth": 0,
              "ticks": ""
             }
            },
            "type": "scattercarpet"
           }
          ],
          "scattergeo": [
           {
            "marker": {
             "colorbar": {
              "outlinewidth": 0,
              "ticks": ""
             }
            },
            "type": "scattergeo"
           }
          ],
          "scattergl": [
           {
            "marker": {
             "colorbar": {
              "outlinewidth": 0,
              "ticks": ""
             }
            },
            "type": "scattergl"
           }
          ],
          "scattermapbox": [
           {
            "marker": {
             "colorbar": {
              "outlinewidth": 0,
              "ticks": ""
             }
            },
            "type": "scattermapbox"
           }
          ],
          "scatterpolar": [
           {
            "marker": {
             "colorbar": {
              "outlinewidth": 0,
              "ticks": ""
             }
            },
            "type": "scatterpolar"
           }
          ],
          "scatterpolargl": [
           {
            "marker": {
             "colorbar": {
              "outlinewidth": 0,
              "ticks": ""
             }
            },
            "type": "scatterpolargl"
           }
          ],
          "scatterternary": [
           {
            "marker": {
             "colorbar": {
              "outlinewidth": 0,
              "ticks": ""
             }
            },
            "type": "scatterternary"
           }
          ],
          "surface": [
           {
            "colorbar": {
             "outlinewidth": 0,
             "ticks": ""
            },
            "colorscale": [
             [
              0,
              "#0d0887"
             ],
             [
              0.1111111111111111,
              "#46039f"
             ],
             [
              0.2222222222222222,
              "#7201a8"
             ],
             [
              0.3333333333333333,
              "#9c179e"
             ],
             [
              0.4444444444444444,
              "#bd3786"
             ],
             [
              0.5555555555555556,
              "#d8576b"
             ],
             [
              0.6666666666666666,
              "#ed7953"
             ],
             [
              0.7777777777777778,
              "#fb9f3a"
             ],
             [
              0.8888888888888888,
              "#fdca26"
             ],
             [
              1,
              "#f0f921"
             ]
            ],
            "type": "surface"
           }
          ],
          "table": [
           {
            "cells": {
             "fill": {
              "color": "#EBF0F8"
             },
             "line": {
              "color": "white"
             }
            },
            "header": {
             "fill": {
              "color": "#C8D4E3"
             },
             "line": {
              "color": "white"
             }
            },
            "type": "table"
           }
          ]
         },
         "layout": {
          "annotationdefaults": {
           "arrowcolor": "#2a3f5f",
           "arrowhead": 0,
           "arrowwidth": 1
          },
          "autotypenumbers": "strict",
          "coloraxis": {
           "colorbar": {
            "outlinewidth": 0,
            "ticks": ""
           }
          },
          "colorscale": {
           "diverging": [
            [
             0,
             "#8e0152"
            ],
            [
             0.1,
             "#c51b7d"
            ],
            [
             0.2,
             "#de77ae"
            ],
            [
             0.3,
             "#f1b6da"
            ],
            [
             0.4,
             "#fde0ef"
            ],
            [
             0.5,
             "#f7f7f7"
            ],
            [
             0.6,
             "#e6f5d0"
            ],
            [
             0.7,
             "#b8e186"
            ],
            [
             0.8,
             "#7fbc41"
            ],
            [
             0.9,
             "#4d9221"
            ],
            [
             1,
             "#276419"
            ]
           ],
           "sequential": [
            [
             0,
             "#0d0887"
            ],
            [
             0.1111111111111111,
             "#46039f"
            ],
            [
             0.2222222222222222,
             "#7201a8"
            ],
            [
             0.3333333333333333,
             "#9c179e"
            ],
            [
             0.4444444444444444,
             "#bd3786"
            ],
            [
             0.5555555555555556,
             "#d8576b"
            ],
            [
             0.6666666666666666,
             "#ed7953"
            ],
            [
             0.7777777777777778,
             "#fb9f3a"
            ],
            [
             0.8888888888888888,
             "#fdca26"
            ],
            [
             1,
             "#f0f921"
            ]
           ],
           "sequentialminus": [
            [
             0,
             "#0d0887"
            ],
            [
             0.1111111111111111,
             "#46039f"
            ],
            [
             0.2222222222222222,
             "#7201a8"
            ],
            [
             0.3333333333333333,
             "#9c179e"
            ],
            [
             0.4444444444444444,
             "#bd3786"
            ],
            [
             0.5555555555555556,
             "#d8576b"
            ],
            [
             0.6666666666666666,
             "#ed7953"
            ],
            [
             0.7777777777777778,
             "#fb9f3a"
            ],
            [
             0.8888888888888888,
             "#fdca26"
            ],
            [
             1,
             "#f0f921"
            ]
           ]
          },
          "colorway": [
           "#636efa",
           "#EF553B",
           "#00cc96",
           "#ab63fa",
           "#FFA15A",
           "#19d3f3",
           "#FF6692",
           "#B6E880",
           "#FF97FF",
           "#FECB52"
          ],
          "font": {
           "color": "#2a3f5f"
          },
          "geo": {
           "bgcolor": "white",
           "lakecolor": "white",
           "landcolor": "#E5ECF6",
           "showlakes": true,
           "showland": true,
           "subunitcolor": "white"
          },
          "hoverlabel": {
           "align": "left"
          },
          "hovermode": "closest",
          "mapbox": {
           "style": "light"
          },
          "paper_bgcolor": "white",
          "plot_bgcolor": "#E5ECF6",
          "polar": {
           "angularaxis": {
            "gridcolor": "white",
            "linecolor": "white",
            "ticks": ""
           },
           "bgcolor": "#E5ECF6",
           "radialaxis": {
            "gridcolor": "white",
            "linecolor": "white",
            "ticks": ""
           }
          },
          "scene": {
           "xaxis": {
            "backgroundcolor": "#E5ECF6",
            "gridcolor": "white",
            "gridwidth": 2,
            "linecolor": "white",
            "showbackground": true,
            "ticks": "",
            "zerolinecolor": "white"
           },
           "yaxis": {
            "backgroundcolor": "#E5ECF6",
            "gridcolor": "white",
            "gridwidth": 2,
            "linecolor": "white",
            "showbackground": true,
            "ticks": "",
            "zerolinecolor": "white"
           },
           "zaxis": {
            "backgroundcolor": "#E5ECF6",
            "gridcolor": "white",
            "gridwidth": 2,
            "linecolor": "white",
            "showbackground": true,
            "ticks": "",
            "zerolinecolor": "white"
           }
          },
          "shapedefaults": {
           "line": {
            "color": "#2a3f5f"
           }
          },
          "ternary": {
           "aaxis": {
            "gridcolor": "white",
            "linecolor": "white",
            "ticks": ""
           },
           "baxis": {
            "gridcolor": "white",
            "linecolor": "white",
            "ticks": ""
           },
           "bgcolor": "#E5ECF6",
           "caxis": {
            "gridcolor": "white",
            "linecolor": "white",
            "ticks": ""
           }
          },
          "title": {
           "x": 0.05
          },
          "xaxis": {
           "automargin": true,
           "gridcolor": "white",
           "linecolor": "white",
           "ticks": "",
           "title": {
            "standoff": 15
           },
           "zerolinecolor": "white",
           "zerolinewidth": 2
          },
          "yaxis": {
           "automargin": true,
           "gridcolor": "white",
           "linecolor": "white",
           "ticks": "",
           "title": {
            "standoff": 15
           },
           "zerolinecolor": "white",
           "zerolinewidth": 2
          }
         }
        },
        "title": {
         "font": {
          "size": 20
         },
         "text": "Alcohol content of 10 strongest wines in dataset",
         "x": 0.55
        },
        "width": 1000,
        "xaxis": {
         "autorange": true,
         "dtick": 1,
         "range": [
          -0.5,
          9.5
         ],
         "tick0": 1,
         "tickfont": {
          "size": 20
         },
         "tickmode": "linear",
         "title": {
          "font": {
           "size": 18
          },
          "text": "rank"
         }
        },
        "yaxis": {
         "range": [
          14,
          15
         ],
         "title": {
          "font": {
           "color": "red",
           "size": 18
          },
          "text": "% Alcohol"
         },
         "type": "linear"
        }
       }
      },
      "image/png": "[encoded data removed]",
      "text/html": [
       "<div>                            <div id=\"5a75a155-959f-4770-9bbe-0dc9bc50e0b5\" class=\"plotly-graph-div\" style=\"height:400px; width:1000px;\"></div>            <script type=\"text/javascript\">                require([\"plotly\"], function(Plotly) {                    window.PLOTLYENV=window.PLOTLYENV || {};                                    if (document.getElementById(\"5a75a155-959f-4770-9bbe-0dc9bc50e0b5\")) {                    Plotly.newPlot(                        \"5a75a155-959f-4770-9bbe-0dc9bc50e0b5\",                        [{\"type\": \"bar\", \"y\": [14.83, 14.75, 14.39, 14.38, 14.38, 14.37, 14.34, 14.3, 14.23, 14.22]}],                        {\"font\": {\"size\": 10}, \"height\": 400, \"margin\": {\"b\": 0, \"l\": 80, \"r\": 0, \"t\": 50}, \"template\": {\"data\": {\"bar\": [{\"error_x\": {\"color\": \"#2a3f5f\"}, \"error_y\": {\"color\": \"#2a3f5f\"}, \"marker\": {\"line\": {\"color\": \"#E5ECF6\", \"width\": 0.5}}, \"type\": \"bar\"}], \"barpolar\": [{\"marker\": {\"line\": {\"color\": \"#E5ECF6\", \"width\": 0.5}}, \"type\": \"barpolar\"}], \"carpet\": [{\"aaxis\": {\"endlinecolor\": \"#2a3f5f\", \"gridcolor\": \"white\", \"linecolor\": \"white\", \"minorgridcolor\": \"white\", \"startlinecolor\": \"#2a3f5f\"}, \"baxis\": {\"endlinecolor\": \"#2a3f5f\", \"gridcolor\": \"white\", \"linecolor\": \"white\", \"minorgridcolor\": \"white\", \"startlinecolor\": \"#2a3f5f\"}, \"type\": \"carpet\"}], \"choropleth\": [{\"colorbar\": {\"outlinewidth\": 0, \"ticks\": \"\"}, \"type\": \"choropleth\"}], \"contour\": [{\"colorbar\": {\"outlinewidth\": 0, \"ticks\": \"\"}, \"colorscale\": [[0.0, \"#0d0887\"], [0.1111111111111111, \"#46039f\"], [0.2222222222222222, \"#7201a8\"], [0.3333333333333333, \"#9c179e\"], [0.4444444444444444, \"#bd3786\"], [0.5555555555555556, \"#d8576b\"], [0.6666666666666666, \"#ed7953\"], [0.7777777777777778, \"#fb9f3a\"], [0.8888888888888888, \"#fdca26\"], [1.0, \"#f0f921\"]], \"type\": \"contour\"}], \"contourcarpet\": [{\"colorbar\": {\"outlinewidth\": 0, \"ticks\": \"\"}, \"type\": \"contourcarpet\"}], \"heatmap\": [{\"colorbar\": {\"outlinewidth\": 0, \"ticks\": \"\"}, \"colorscale\": [[0.0, \"#0d0887\"], [0.1111111111111111, \"#46039f\"], [0.2222222222222222, \"#7201a8\"], [0.3333333333333333, \"#9c179e\"], [0.4444444444444444, \"#bd3786\"], [0.5555555555555556, \"#d8576b\"], [0.6666666666666666, \"#ed7953\"], [0.7777777777777778, \"#fb9f3a\"], [0.8888888888888888, \"#fdca26\"], [1.0, \"#f0f921\"]], \"type\": \"heatmap\"}], \"heatmapgl\": [{\"colorbar\": {\"outlinewidth\": 0, \"ticks\": \"\"}, \"colorscale\": [[0.0, \"#0d0887\"], [0.1111111111111111, \"#46039f\"], [0.2222222222222222, \"#7201a8\"], [0.3333333333333333, \"#9c179e\"], [0.4444444444444444, \"#bd3786\"], [0.5555555555555556, \"#d8576b\"], [0.6666666666666666, \"#ed7953\"], [0.7777777777777778, \"#fb9f3a\"], [0.8888888888888888, \"#fdca26\"], [1.0, \"#f0f921\"]], \"type\": \"heatmapgl\"}], \"histogram\": [{\"marker\": {\"colorbar\": {\"outlinewidth\": 0, \"ticks\": \"\"}}, \"type\": \"histogram\"}], \"histogram2d\": [{\"colorbar\": {\"outlinewidth\": 0, \"ticks\": \"\"}, \"colorscale\": [[0.0, \"#0d0887\"], [0.1111111111111111, \"#46039f\"], [0.2222222222222222, \"#7201a8\"], [0.3333333333333333, \"#9c179e\"], [0.4444444444444444, \"#bd3786\"], [0.5555555555555556, \"#d8576b\"], [0.6666666666666666, \"#ed7953\"], [0.7777777777777778, \"#fb9f3a\"], [0.8888888888888888, \"#fdca26\"], [1.0, \"#f0f921\"]], \"type\": \"histogram2d\"}], \"histogram2dcontour\": [{\"colorbar\": {\"outlinewidth\": 0, \"ticks\": \"\"}, \"colorscale\": [[0.0, \"#0d0887\"], [0.1111111111111111, \"#46039f\"], [0.2222222222222222, \"#7201a8\"], [0.3333333333333333, \"#9c179e\"], [0.4444444444444444, \"#bd3786\"], [0.5555555555555556, \"#d8576b\"], [0.6666666666666666, \"#ed7953\"], [0.7777777777777778, \"#fb9f3a\"], [0.8888888888888888, \"#fdca26\"], [1.0, \"#f0f921\"]], \"type\": \"histogram2dcontour\"}], \"mesh3d\": [{\"colorbar\": {\"outlinewidth\": 0, \"ticks\": \"\"}, \"type\": \"mesh3d\"}], \"parcoords\": [{\"line\": {\"colorbar\": {\"outlinewidth\": 0, \"ticks\": \"\"}}, \"type\": \"parcoords\"}], \"pie\": [{\"automargin\": true, \"type\": \"pie\"}], \"scatter\": [{\"marker\": {\"colorbar\": {\"outlinewidth\": 0, \"ticks\": \"\"}}, \"type\": \"scatter\"}], \"scatter3d\": [{\"line\": {\"colorbar\": {\"outlinewidth\": 0, \"ticks\": \"\"}}, \"marker\": {\"colorbar\": {\"outlinewidth\": 0, \"ticks\": \"\"}}, \"type\": \"scatter3d\"}], \"scattercarpet\": [{\"marker\": {\"colorbar\": {\"outlinewidth\": 0, \"ticks\": \"\"}}, \"type\": \"scattercarpet\"}], \"scattergeo\": [{\"marker\": {\"colorbar\": {\"outlinewidth\": 0, \"ticks\": \"\"}}, \"type\": \"scattergeo\"}], \"scattergl\": [{\"marker\": {\"colorbar\": {\"outlinewidth\": 0, \"ticks\": \"\"}}, \"type\": \"scattergl\"}], \"scattermapbox\": [{\"marker\": {\"colorbar\": {\"outlinewidth\": 0, \"ticks\": \"\"}}, \"type\": \"scattermapbox\"}], \"scatterpolar\": [{\"marker\": {\"colorbar\": {\"outlinewidth\": 0, \"ticks\": \"\"}}, \"type\": \"scatterpolar\"}], \"scatterpolargl\": [{\"marker\": {\"colorbar\": {\"outlinewidth\": 0, \"ticks\": \"\"}}, \"type\": \"scatterpolargl\"}], \"scatterternary\": [{\"marker\": {\"colorbar\": {\"outlinewidth\": 0, \"ticks\": \"\"}}, \"type\": \"scatterternary\"}], \"surface\": [{\"colorbar\": {\"outlinewidth\": 0, \"ticks\": \"\"}, \"colorscale\": [[0.0, \"#0d0887\"], [0.1111111111111111, \"#46039f\"], [0.2222222222222222, \"#7201a8\"], [0.3333333333333333, \"#9c179e\"], [0.4444444444444444, \"#bd3786\"], [0.5555555555555556, \"#d8576b\"], [0.6666666666666666, \"#ed7953\"], [0.7777777777777778, \"#fb9f3a\"], [0.8888888888888888, \"#fdca26\"], [1.0, \"#f0f921\"]], \"type\": \"surface\"}], \"table\": [{\"cells\": {\"fill\": {\"color\": \"#EBF0F8\"}, \"line\": {\"color\": \"white\"}}, \"header\": {\"fill\": {\"color\": \"#C8D4E3\"}, \"line\": {\"color\": \"white\"}}, \"type\": \"table\"}]}, \"layout\": {\"annotationdefaults\": {\"arrowcolor\": \"#2a3f5f\", \"arrowhead\": 0, \"arrowwidth\": 1}, \"autotypenumbers\": \"strict\", \"coloraxis\": {\"colorbar\": {\"outlinewidth\": 0, \"ticks\": \"\"}}, \"colorscale\": {\"diverging\": [[0, \"#8e0152\"], [0.1, \"#c51b7d\"], [0.2, \"#de77ae\"], [0.3, \"#f1b6da\"], [0.4, \"#fde0ef\"], [0.5, \"#f7f7f7\"], [0.6, \"#e6f5d0\"], [0.7, \"#b8e186\"], [0.8, \"#7fbc41\"], [0.9, \"#4d9221\"], [1, \"#276419\"]], \"sequential\": [[0.0, \"#0d0887\"], [0.1111111111111111, \"#46039f\"], [0.2222222222222222, \"#7201a8\"], [0.3333333333333333, \"#9c179e\"], [0.4444444444444444, \"#bd3786\"], [0.5555555555555556, \"#d8576b\"], [0.6666666666666666, \"#ed7953\"], [0.7777777777777778, \"#fb9f3a\"], [0.8888888888888888, \"#fdca26\"], [1.0, \"#f0f921\"]], \"sequentialminus\": [[0.0, \"#0d0887\"], [0.1111111111111111, \"#46039f\"], [0.2222222222222222, \"#7201a8\"], [0.3333333333333333, \"#9c179e\"], [0.4444444444444444, \"#bd3786\"], [0.5555555555555556, \"#d8576b\"], [0.6666666666666666, \"#ed7953\"], [0.7777777777777778, \"#fb9f3a\"], [0.8888888888888888, \"#fdca26\"], [1.0, \"#f0f921\"]]}, \"colorway\": [\"#636efa\", \"#EF553B\", \"#00cc96\", \"#ab63fa\", \"#FFA15A\", \"#19d3f3\", \"#FF6692\", \"#B6E880\", \"#FF97FF\", \"#FECB52\"], \"font\": {\"color\": \"#2a3f5f\"}, \"geo\": {\"bgcolor\": \"white\", \"lakecolor\": \"white\", \"landcolor\": \"#E5ECF6\", \"showlakes\": true, \"showland\": true, \"subunitcolor\": \"white\"}, \"hoverlabel\": {\"align\": \"left\"}, \"hovermode\": \"closest\", \"mapbox\": {\"style\": \"light\"}, \"paper_bgcolor\": \"white\", \"plot_bgcolor\": \"#E5ECF6\", \"polar\": {\"angularaxis\": {\"gridcolor\": \"white\", \"linecolor\": \"white\", \"ticks\": \"\"}, \"bgcolor\": \"#E5ECF6\", \"radialaxis\": {\"gridcolor\": \"white\", \"linecolor\": \"white\", \"ticks\": \"\"}}, \"scene\": {\"xaxis\": {\"backgroundcolor\": \"#E5ECF6\", \"gridcolor\": \"white\", \"gridwidth\": 2, \"linecolor\": \"white\", \"showbackground\": true, \"ticks\": \"\", \"zerolinecolor\": \"white\"}, \"yaxis\": {\"backgroundcolor\": \"#E5ECF6\", \"gridcolor\": \"white\", \"gridwidth\": 2, \"linecolor\": \"white\", \"showbackground\": true, \"ticks\": \"\", \"zerolinecolor\": \"white\"}, \"zaxis\": {\"backgroundcolor\": \"#E5ECF6\", \"gridcolor\": \"white\", \"gridwidth\": 2, \"linecolor\": \"white\", \"showbackground\": true, \"ticks\": \"\", \"zerolinecolor\": \"white\"}}, \"shapedefaults\": {\"line\": {\"color\": \"#2a3f5f\"}}, \"ternary\": {\"aaxis\": {\"gridcolor\": \"white\", \"linecolor\": \"white\", \"ticks\": \"\"}, \"baxis\": {\"gridcolor\": \"white\", \"linecolor\": \"white\", \"ticks\": \"\"}, \"bgcolor\": \"#E5ECF6\", \"caxis\": {\"gridcolor\": \"white\", \"linecolor\": \"white\", \"ticks\": \"\"}}, \"title\": {\"x\": 0.05}, \"xaxis\": {\"automargin\": true, \"gridcolor\": \"white\", \"linecolor\": \"white\", \"ticks\": \"\", \"title\": {\"standoff\": 15}, \"zerolinecolor\": \"white\", \"zerolinewidth\": 2}, \"yaxis\": {\"automargin\": true, \"gridcolor\": \"white\", \"linecolor\": \"white\", \"ticks\": \"\", \"title\": {\"standoff\": 15}, \"zerolinecolor\": \"white\", \"zerolinewidth\": 2}}}, \"title\": {\"font\": {\"size\": 20}, \"text\": \"Alcohol content of 10 strongest wines in dataset\", \"x\": 0.55}, \"width\": 1000, \"xaxis\": {\"dtick\": 1, \"tick0\": 1, \"tickfont\": {\"size\": 20}, \"tickmode\": \"linear\", \"title\": {\"font\": {\"size\": 18}, \"text\": \"rank\"}}, \"yaxis\": {\"range\": [14, 15], \"title\": {\"font\": {\"color\": \"red\", \"size\": 18}, \"text\": \"% Alcohol\"}}},                        {\"responsive\": true}                    ).then(function(){\n",
       "                            \n",
       "var gd = document.getElementById('5a75a155-959f-4770-9bbe-0dc9bc50e0b5');\n",
       "var x = new MutationObserver(function (mutations, observer) {{\n",
       "        var display = window.getComputedStyle(gd).display;\n",
       "        if (!display || display === 'none') {{\n",
       "            console.log([gd, 'removed!']);\n",
       "            Plotly.purge(gd);\n",
       "            observer.disconnect();\n",
       "        }}\n",
       "}});\n",
       "\n",
       "// Listen for the removal of the full notebook cells\n",
       "var notebookContainer = gd.closest('#notebook-container');\n",
       "if (notebookContainer) {{\n",
       "    x.observe(notebookContainer, {childList: true});\n",
       "}}\n",
       "\n",
       "// Listen for the clearing of the current output cell\n",
       "var outputEl = gd.closest('.output');\n",
       "if (outputEl) {{\n",
       "    x.observe(outputEl, {childList: true});\n",
       "}}\n",
       "\n",
       "                        })                };                });            </script>        </div>"
      ]
     },
     "metadata": {},
     "output_type": "display_data"
    }
   ],
   "source": [
    "wine_layout = go.Layout(\n",
    "    xaxis=dict(\n",
    "        title='rank', title_font=dict(size=18,),\n",
    "        tickmode = 'linear', tick0 = 1, dtick = 1,\n",
    "        tickfont=dict(size=20,),\n",
    "    ),\n",
    "    \n",
    "    yaxis=dict(\n",
    "        title=dict(\n",
    "            text='% Alcohol', font=dict(size=18, color='red')\n",
    "        ),\n",
    "        range=[14, 15]\n",
    "    )\n",
    ")\n",
    "\n",
    "_ = wine_fig.update_layout(wine_layout)\n",
    "\n",
    "wine_fig.show()"
   ]
  },
  {
   "cell_type": "markdown",
   "metadata": {},
   "source": [
    "<h3> Heatmaps with <code>go.Heatmap</code> </h3>"
   ]
  },
  {
   "cell_type": "code",
   "execution_count": 19,
   "metadata": {},
   "outputs": [
    {
     "data": {
      "application/vnd.plotly.v1+json": {
       "config": {
        "plotlyServerURL": "https://plot.ly"
       },
       "data": [
        {
         "type": "heatmap",
         "z": [
          [
           -0.011145611841841251,
           0.011498899870062375,
           -0.8376780419079453,
           -0.5911831037644297,
           -0.6677202863593994,
           0.3269625954044574,
           0.33003511451031164,
           2.225944331738259,
           1.3709890062911214,
           -0.5098432421384791
          ],
          [
           0.32486961579618606,
           0.9971179807917595,
           0.030601824338517807,
           -0.06964157844693558,
           0.05157494276988904,
           0.8672766288084278,
           -0.8483205228052325,
           -0.32566946882017417,
           0.47043314484648185,
           0.3114470715541555
          ],
          [
           0.23958275985639133,
           -0.3698011663038032,
           0.9725357891425369,
           2.1338682472045374,
           0.4064154936762062,
           -0.1931767015498399,
           0.7557402888945426,
           -0.53913263675299,
           -0.7496903447028966,
           0.0328087476137118
          ],
          [
           -2.5827966329699446,
           -1.1539503636520094,
           -0.34796185592084583,
           -1.3533888581477134,
           -1.0326431018921296,
           -0.4367483374580074,
           -1.6429652935306092,
           -0.4060717962598319,
           -0.5352701645328445,
           0.025405208385016018
          ],
          [
           1.1541840304940192,
           0.1725044164928659,
           0.021062021342063624,
           0.09945445703071175,
           0.22739277512112846,
           -1.016738648609769,
           -0.11477532477079817,
           0.3087512418366131,
           -1.3707599825430605,
           0.8656529228158533
          ],
          [
           1.0813760344581897,
           -0.6313759884493888,
           -0.24133779145310455,
           -0.8781903428100731,
           0.6993804835878171,
           -1.0612222874459092,
           -0.2224770102429203,
           -0.8589199078076716,
           0.050954277011289496,
           -1.794229271489721
          ],
          [
           1.3264616423656934,
           -0.964606424206264,
           0.05989468311627605,
           -0.2125230447703092,
           -0.7621145119224981,
           -0.8877801366359354,
           0.9363985435524596,
           -0.5256405931019397,
           0.2711701846373109,
           -0.8014968853943748
          ],
          [
           -0.6471814318477607,
           0.47224715008784873,
           0.9304084961111163,
           -0.17531640232701995,
           -1.4219198716404369,
           1.9979560797500047,
           -0.8565493082342095,
           -1.5415873996717875,
           2.594424587768152,
           -0.40403229385093714
          ],
          [
           -1.4617326882614081,
           -0.6834397667886818,
           0.36754489602226903,
           0.1903115575939397,
           -0.85172919725359,
           1.8227236001279594,
           -0.5215796779933731,
           -1.184686590411552,
           0.9606933984606597,
           1.3290628465396823
          ],
          [
           -0.8174930976162265,
           -1.4013472930393105,
           1.0304382674156047,
           -2.0473236130579617,
           -1.2266216593966155,
           0.967446150050235,
           -0.05535254802238957,
           -0.26393734859268786,
           0.35281660649437835,
           -0.15277442354540868
          ]
         ]
        }
       ],
       "layout": {
        "height": 800,
        "margin": {
         "b": 0,
         "l": 80,
         "r": 0,
         "t": 50
        },
        "template": {
         "data": {
          "bar": [
           {
            "error_x": {
             "color": "#2a3f5f"
            },
            "error_y": {
             "color": "#2a3f5f"
            },
            "marker": {
             "line": {
              "color": "#E5ECF6",
              "width": 0.5
             }
            },
            "type": "bar"
           }
          ],
          "barpolar": [
           {
            "marker": {
             "line": {
              "color": "#E5ECF6",
              "width": 0.5
             }
            },
            "type": "barpolar"
           }
          ],
          "carpet": [
           {
            "aaxis": {
             "endlinecolor": "#2a3f5f",
             "gridcolor": "white",
             "linecolor": "white",
             "minorgridcolor": "white",
             "startlinecolor": "#2a3f5f"
            },
            "baxis": {
             "endlinecolor": "#2a3f5f",
             "gridcolor": "white",
             "linecolor": "white",
             "minorgridcolor": "white",
             "startlinecolor": "#2a3f5f"
            },
            "type": "carpet"
           }
          ],
          "choropleth": [
           {
            "colorbar": {
             "outlinewidth": 0,
             "ticks": ""
            },
            "type": "choropleth"
           }
          ],
          "contour": [
           {
            "colorbar": {
             "outlinewidth": 0,
             "ticks": ""
            },
            "colorscale": [
             [
              0,
              "#0d0887"
             ],
             [
              0.1111111111111111,
              "#46039f"
             ],
             [
              0.2222222222222222,
              "#7201a8"
             ],
             [
              0.3333333333333333,
              "#9c179e"
             ],
             [
              0.4444444444444444,
              "#bd3786"
             ],
             [
              0.5555555555555556,
              "#d8576b"
             ],
             [
              0.6666666666666666,
              "#ed7953"
             ],
             [
              0.7777777777777778,
              "#fb9f3a"
             ],
             [
              0.8888888888888888,
              "#fdca26"
             ],
             [
              1,
              "#f0f921"
             ]
            ],
            "type": "contour"
           }
          ],
          "contourcarpet": [
           {
            "colorbar": {
             "outlinewidth": 0,
             "ticks": ""
            },
            "type": "contourcarpet"
           }
          ],
          "heatmap": [
           {
            "colorbar": {
             "outlinewidth": 0,
             "ticks": ""
            },
            "colorscale": [
             [
              0,
              "#0d0887"
             ],
             [
              0.1111111111111111,
              "#46039f"
             ],
             [
              0.2222222222222222,
              "#7201a8"
             ],
             [
              0.3333333333333333,
              "#9c179e"
             ],
             [
              0.4444444444444444,
              "#bd3786"
             ],
             [
              0.5555555555555556,
              "#d8576b"
             ],
             [
              0.6666666666666666,
              "#ed7953"
             ],
             [
              0.7777777777777778,
              "#fb9f3a"
             ],
             [
              0.8888888888888888,
              "#fdca26"
             ],
             [
              1,
              "#f0f921"
             ]
            ],
            "type": "heatmap"
           }
          ],
          "heatmapgl": [
           {
            "colorbar": {
             "outlinewidth": 0,
             "ticks": ""
            },
            "colorscale": [
             [
              0,
              "#0d0887"
             ],
             [
              0.1111111111111111,
              "#46039f"
             ],
             [
              0.2222222222222222,
              "#7201a8"
             ],
             [
              0.3333333333333333,
              "#9c179e"
             ],
             [
              0.4444444444444444,
              "#bd3786"
             ],
             [
              0.5555555555555556,
              "#d8576b"
             ],
             [
              0.6666666666666666,
              "#ed7953"
             ],
             [
              0.7777777777777778,
              "#fb9f3a"
             ],
             [
              0.8888888888888888,
              "#fdca26"
             ],
             [
              1,
              "#f0f921"
             ]
            ],
            "type": "heatmapgl"
           }
          ],
          "histogram": [
           {
            "marker": {
             "colorbar": {
              "outlinewidth": 0,
              "ticks": ""
             }
            },
            "type": "histogram"
           }
          ],
          "histogram2d": [
           {
            "colorbar": {
             "outlinewidth": 0,
             "ticks": ""
            },
            "colorscale": [
             [
              0,
              "#0d0887"
             ],
             [
              0.1111111111111111,
              "#46039f"
             ],
             [
              0.2222222222222222,
              "#7201a8"
             ],
             [
              0.3333333333333333,
              "#9c179e"
             ],
             [
              0.4444444444444444,
              "#bd3786"
             ],
             [
              0.5555555555555556,
              "#d8576b"
             ],
             [
              0.6666666666666666,
              "#ed7953"
             ],
             [
              0.7777777777777778,
              "#fb9f3a"
             ],
             [
              0.8888888888888888,
              "#fdca26"
             ],
             [
              1,
              "#f0f921"
             ]
            ],
            "type": "histogram2d"
           }
          ],
          "histogram2dcontour": [
           {
            "colorbar": {
             "outlinewidth": 0,
             "ticks": ""
            },
            "colorscale": [
             [
              0,
              "#0d0887"
             ],
             [
              0.1111111111111111,
              "#46039f"
             ],
             [
              0.2222222222222222,
              "#7201a8"
             ],
             [
              0.3333333333333333,
              "#9c179e"
             ],
             [
              0.4444444444444444,
              "#bd3786"
             ],
             [
              0.5555555555555556,
              "#d8576b"
             ],
             [
              0.6666666666666666,
              "#ed7953"
             ],
             [
              0.7777777777777778,
              "#fb9f3a"
             ],
             [
              0.8888888888888888,
              "#fdca26"
             ],
             [
              1,
              "#f0f921"
             ]
            ],
            "type": "histogram2dcontour"
           }
          ],
          "mesh3d": [
           {
            "colorbar": {
             "outlinewidth": 0,
             "ticks": ""
            },
            "type": "mesh3d"
           }
          ],
          "parcoords": [
           {
            "line": {
             "colorbar": {
              "outlinewidth": 0,
              "ticks": ""
             }
            },
            "type": "parcoords"
           }
          ],
          "pie": [
           {
            "automargin": true,
            "type": "pie"
           }
          ],
          "scatter": [
           {
            "marker": {
             "colorbar": {
              "outlinewidth": 0,
              "ticks": ""
             }
            },
            "type": "scatter"
           }
          ],
          "scatter3d": [
           {
            "line": {
             "colorbar": {
              "outlinewidth": 0,
              "ticks": ""
             }
            },
            "marker": {
             "colorbar": {
              "outlinewidth": 0,
              "ticks": ""
             }
            },
            "type": "scatter3d"
           }
          ],
          "scattercarpet": [
           {
            "marker": {
             "colorbar": {
              "outlinewidth": 0,
              "ticks": ""
             }
            },
            "type": "scattercarpet"
           }
          ],
          "scattergeo": [
           {
            "marker": {
             "colorbar": {
              "outlinewidth": 0,
              "ticks": ""
             }
            },
            "type": "scattergeo"
           }
          ],
          "scattergl": [
           {
            "marker": {
             "colorbar": {
              "outlinewidth": 0,
              "ticks": ""
             }
            },
            "type": "scattergl"
           }
          ],
          "scattermapbox": [
           {
            "marker": {
             "colorbar": {
              "outlinewidth": 0,
              "ticks": ""
             }
            },
            "type": "scattermapbox"
           }
          ],
          "scatterpolar": [
           {
            "marker": {
             "colorbar": {
              "outlinewidth": 0,
              "ticks": ""
             }
            },
            "type": "scatterpolar"
           }
          ],
          "scatterpolargl": [
           {
            "marker": {
             "colorbar": {
              "outlinewidth": 0,
              "ticks": ""
             }
            },
            "type": "scatterpolargl"
           }
          ],
          "scatterternary": [
           {
            "marker": {
             "colorbar": {
              "outlinewidth": 0,
              "ticks": ""
             }
            },
            "type": "scatterternary"
           }
          ],
          "surface": [
           {
            "colorbar": {
             "outlinewidth": 0,
             "ticks": ""
            },
            "colorscale": [
             [
              0,
              "#0d0887"
             ],
             [
              0.1111111111111111,
              "#46039f"
             ],
             [
              0.2222222222222222,
              "#7201a8"
             ],
             [
              0.3333333333333333,
              "#9c179e"
             ],
             [
              0.4444444444444444,
              "#bd3786"
             ],
             [
              0.5555555555555556,
              "#d8576b"
             ],
             [
              0.6666666666666666,
              "#ed7953"
             ],
             [
              0.7777777777777778,
              "#fb9f3a"
             ],
             [
              0.8888888888888888,
              "#fdca26"
             ],
             [
              1,
              "#f0f921"
             ]
            ],
            "type": "surface"
           }
          ],
          "table": [
           {
            "cells": {
             "fill": {
              "color": "#EBF0F8"
             },
             "line": {
              "color": "white"
             }
            },
            "header": {
             "fill": {
              "color": "#C8D4E3"
             },
             "line": {
              "color": "white"
             }
            },
            "type": "table"
           }
          ]
         },
         "layout": {
          "annotationdefaults": {
           "arrowcolor": "#2a3f5f",
           "arrowhead": 0,
           "arrowwidth": 1
          },
          "autotypenumbers": "strict",
          "coloraxis": {
           "colorbar": {
            "outlinewidth": 0,
            "ticks": ""
           }
          },
          "colorscale": {
           "diverging": [
            [
             0,
             "#8e0152"
            ],
            [
             0.1,
             "#c51b7d"
            ],
            [
             0.2,
             "#de77ae"
            ],
            [
             0.3,
             "#f1b6da"
            ],
            [
             0.4,
             "#fde0ef"
            ],
            [
             0.5,
             "#f7f7f7"
            ],
            [
             0.6,
             "#e6f5d0"
            ],
            [
             0.7,
             "#b8e186"
            ],
            [
             0.8,
             "#7fbc41"
            ],
            [
             0.9,
             "#4d9221"
            ],
            [
             1,
             "#276419"
            ]
           ],
           "sequential": [
            [
             0,
             "#0d0887"
            ],
            [
             0.1111111111111111,
             "#46039f"
            ],
            [
             0.2222222222222222,
             "#7201a8"
            ],
            [
             0.3333333333333333,
             "#9c179e"
            ],
            [
             0.4444444444444444,
             "#bd3786"
            ],
            [
             0.5555555555555556,
             "#d8576b"
            ],
            [
             0.6666666666666666,
             "#ed7953"
            ],
            [
             0.7777777777777778,
             "#fb9f3a"
            ],
            [
             0.8888888888888888,
             "#fdca26"
            ],
            [
             1,
             "#f0f921"
            ]
           ],
           "sequentialminus": [
            [
             0,
             "#0d0887"
            ],
            [
             0.1111111111111111,
             "#46039f"
            ],
            [
             0.2222222222222222,
             "#7201a8"
            ],
            [
             0.3333333333333333,
             "#9c179e"
            ],
            [
             0.4444444444444444,
             "#bd3786"
            ],
            [
             0.5555555555555556,
             "#d8576b"
            ],
            [
             0.6666666666666666,
             "#ed7953"
            ],
            [
             0.7777777777777778,
             "#fb9f3a"
            ],
            [
             0.8888888888888888,
             "#fdca26"
            ],
            [
             1,
             "#f0f921"
            ]
           ]
          },
          "colorway": [
           "#636efa",
           "#EF553B",
           "#00cc96",
           "#ab63fa",
           "#FFA15A",
           "#19d3f3",
           "#FF6692",
           "#B6E880",
           "#FF97FF",
           "#FECB52"
          ],
          "font": {
           "color": "#2a3f5f"
          },
          "geo": {
           "bgcolor": "white",
           "lakecolor": "white",
           "landcolor": "#E5ECF6",
           "showlakes": true,
           "showland": true,
           "subunitcolor": "white"
          },
          "hoverlabel": {
           "align": "left"
          },
          "hovermode": "closest",
          "mapbox": {
           "style": "light"
          },
          "paper_bgcolor": "white",
          "plot_bgcolor": "#E5ECF6",
          "polar": {
           "angularaxis": {
            "gridcolor": "white",
            "linecolor": "white",
            "ticks": ""
           },
           "bgcolor": "#E5ECF6",
           "radialaxis": {
            "gridcolor": "white",
            "linecolor": "white",
            "ticks": ""
           }
          },
          "scene": {
           "xaxis": {
            "backgroundcolor": "#E5ECF6",
            "gridcolor": "white",
            "gridwidth": 2,
            "linecolor": "white",
            "showbackground": true,
            "ticks": "",
            "zerolinecolor": "white"
           },
           "yaxis": {
            "backgroundcolor": "#E5ECF6",
            "gridcolor": "white",
            "gridwidth": 2,
            "linecolor": "white",
            "showbackground": true,
            "ticks": "",
            "zerolinecolor": "white"
           },
           "zaxis": {
            "backgroundcolor": "#E5ECF6",
            "gridcolor": "white",
            "gridwidth": 2,
            "linecolor": "white",
            "showbackground": true,
            "ticks": "",
            "zerolinecolor": "white"
           }
          },
          "shapedefaults": {
           "line": {
            "color": "#2a3f5f"
           }
          },
          "ternary": {
           "aaxis": {
            "gridcolor": "white",
            "linecolor": "white",
            "ticks": ""
           },
           "baxis": {
            "gridcolor": "white",
            "linecolor": "white",
            "ticks": ""
           },
           "bgcolor": "#E5ECF6",
           "caxis": {
            "gridcolor": "white",
            "linecolor": "white",
            "ticks": ""
           }
          },
          "title": {
           "x": 0.05
          },
          "xaxis": {
           "automargin": true,
           "gridcolor": "white",
           "linecolor": "white",
           "ticks": "",
           "title": {
            "standoff": 15
           },
           "zerolinecolor": "white",
           "zerolinewidth": 2
          },
          "yaxis": {
           "automargin": true,
           "gridcolor": "white",
           "linecolor": "white",
           "ticks": "",
           "title": {
            "standoff": 15
           },
           "zerolinecolor": "white",
           "zerolinewidth": 2
          }
         }
        },
        "title": {
         "font": {
          "size": 20
         },
         "text": "Basic heatmap",
         "x": 0.5
        },
        "width": 800,
        "xaxis": {
         "autorange": true,
         "range": [
          -0.5,
          9.5
         ]
        },
        "yaxis": {
         "autorange": true,
         "range": [
          -0.5,
          9.5
         ]
        }
       }
      },
      "image/png": "[encoded data removed]",
      "text/html": [
       "<div>                            <div id=\"474f2355-16e2-4290-9020-bdfcd28257d9\" class=\"plotly-graph-div\" style=\"height:800px; width:800px;\"></div>            <script type=\"text/javascript\">                require([\"plotly\"], function(Plotly) {                    window.PLOTLYENV=window.PLOTLYENV || {};                                    if (document.getElementById(\"474f2355-16e2-4290-9020-bdfcd28257d9\")) {                    Plotly.newPlot(                        \"474f2355-16e2-4290-9020-bdfcd28257d9\",                        [{\"type\": \"heatmap\", \"z\": [[-0.011145611841841251, 0.011498899870062375, -0.8376780419079453, -0.5911831037644297, -0.6677202863593994, 0.3269625954044574, 0.33003511451031164, 2.225944331738259, 1.3709890062911214, -0.5098432421384791], [0.32486961579618606, 0.9971179807917595, 0.030601824338517807, -0.06964157844693558, 0.05157494276988904, 0.8672766288084278, -0.8483205228052325, -0.32566946882017417, 0.47043314484648185, 0.3114470715541555], [0.23958275985639133, -0.3698011663038032, 0.9725357891425369, 2.1338682472045374, 0.4064154936762062, -0.1931767015498399, 0.7557402888945426, -0.53913263675299, -0.7496903447028966, 0.0328087476137118], [-2.5827966329699446, -1.1539503636520094, -0.34796185592084583, -1.3533888581477134, -1.0326431018921296, -0.4367483374580074, -1.6429652935306092, -0.4060717962598319, -0.5352701645328445, 0.025405208385016018], [1.1541840304940192, 0.1725044164928659, 0.021062021342063624, 0.09945445703071175, 0.22739277512112846, -1.016738648609769, -0.11477532477079817, 0.3087512418366131, -1.3707599825430605, 0.8656529228158533], [1.0813760344581897, -0.6313759884493888, -0.24133779145310455, -0.8781903428100731, 0.6993804835878171, -1.0612222874459092, -0.2224770102429203, -0.8589199078076716, 0.050954277011289496, -1.794229271489721], [1.3264616423656934, -0.964606424206264, 0.05989468311627605, -0.2125230447703092, -0.7621145119224981, -0.8877801366359354, 0.9363985435524596, -0.5256405931019397, 0.2711701846373109, -0.8014968853943748], [-0.6471814318477607, 0.47224715008784873, 0.9304084961111163, -0.17531640232701995, -1.4219198716404369, 1.9979560797500047, -0.8565493082342095, -1.5415873996717875, 2.594424587768152, -0.40403229385093714], [-1.4617326882614081, -0.6834397667886818, 0.36754489602226903, 0.1903115575939397, -0.85172919725359, 1.8227236001279594, -0.5215796779933731, -1.184686590411552, 0.9606933984606597, 1.3290628465396823], [-0.8174930976162265, -1.4013472930393105, 1.0304382674156047, -2.0473236130579617, -1.2266216593966155, 0.967446150050235, -0.05535254802238957, -0.26393734859268786, 0.35281660649437835, -0.15277442354540868]]}],                        {\"height\": 800, \"margin\": {\"b\": 0, \"l\": 80, \"r\": 0, \"t\": 50}, \"template\": {\"data\": {\"bar\": [{\"error_x\": {\"color\": \"#2a3f5f\"}, \"error_y\": {\"color\": \"#2a3f5f\"}, \"marker\": {\"line\": {\"color\": \"#E5ECF6\", \"width\": 0.5}}, \"type\": \"bar\"}], \"barpolar\": [{\"marker\": {\"line\": {\"color\": \"#E5ECF6\", \"width\": 0.5}}, \"type\": \"barpolar\"}], \"carpet\": [{\"aaxis\": {\"endlinecolor\": \"#2a3f5f\", \"gridcolor\": \"white\", \"linecolor\": \"white\", \"minorgridcolor\": \"white\", \"startlinecolor\": \"#2a3f5f\"}, \"baxis\": {\"endlinecolor\": \"#2a3f5f\", \"gridcolor\": \"white\", \"linecolor\": \"white\", \"minorgridcolor\": \"white\", \"startlinecolor\": \"#2a3f5f\"}, \"type\": \"carpet\"}], \"choropleth\": [{\"colorbar\": {\"outlinewidth\": 0, \"ticks\": \"\"}, \"type\": \"choropleth\"}], \"contour\": [{\"colorbar\": {\"outlinewidth\": 0, \"ticks\": \"\"}, \"colorscale\": [[0.0, \"#0d0887\"], [0.1111111111111111, \"#46039f\"], [0.2222222222222222, \"#7201a8\"], [0.3333333333333333, \"#9c179e\"], [0.4444444444444444, \"#bd3786\"], [0.5555555555555556, \"#d8576b\"], [0.6666666666666666, \"#ed7953\"], [0.7777777777777778, \"#fb9f3a\"], [0.8888888888888888, \"#fdca26\"], [1.0, \"#f0f921\"]], \"type\": \"contour\"}], \"contourcarpet\": [{\"colorbar\": {\"outlinewidth\": 0, \"ticks\": \"\"}, \"type\": \"contourcarpet\"}], \"heatmap\": [{\"colorbar\": {\"outlinewidth\": 0, \"ticks\": \"\"}, \"colorscale\": [[0.0, \"#0d0887\"], [0.1111111111111111, \"#46039f\"], [0.2222222222222222, \"#7201a8\"], [0.3333333333333333, \"#9c179e\"], [0.4444444444444444, \"#bd3786\"], [0.5555555555555556, \"#d8576b\"], [0.6666666666666666, \"#ed7953\"], [0.7777777777777778, \"#fb9f3a\"], [0.8888888888888888, \"#fdca26\"], [1.0, \"#f0f921\"]], \"type\": \"heatmap\"}], \"heatmapgl\": [{\"colorbar\": {\"outlinewidth\": 0, \"ticks\": \"\"}, \"colorscale\": [[0.0, \"#0d0887\"], [0.1111111111111111, \"#46039f\"], [0.2222222222222222, \"#7201a8\"], [0.3333333333333333, \"#9c179e\"], [0.4444444444444444, \"#bd3786\"], [0.5555555555555556, \"#d8576b\"], [0.6666666666666666, \"#ed7953\"], [0.7777777777777778, \"#fb9f3a\"], [0.8888888888888888, \"#fdca26\"], [1.0, \"#f0f921\"]], \"type\": \"heatmapgl\"}], \"histogram\": [{\"marker\": {\"colorbar\": {\"outlinewidth\": 0, \"ticks\": \"\"}}, \"type\": \"histogram\"}], \"histogram2d\": [{\"colorbar\": {\"outlinewidth\": 0, \"ticks\": \"\"}, \"colorscale\": [[0.0, \"#0d0887\"], [0.1111111111111111, \"#46039f\"], [0.2222222222222222, \"#7201a8\"], [0.3333333333333333, \"#9c179e\"], [0.4444444444444444, \"#bd3786\"], [0.5555555555555556, \"#d8576b\"], [0.6666666666666666, \"#ed7953\"], [0.7777777777777778, \"#fb9f3a\"], [0.8888888888888888, \"#fdca26\"], [1.0, \"#f0f921\"]], \"type\": \"histogram2d\"}], \"histogram2dcontour\": [{\"colorbar\": {\"outlinewidth\": 0, \"ticks\": \"\"}, \"colorscale\": [[0.0, \"#0d0887\"], [0.1111111111111111, \"#46039f\"], [0.2222222222222222, \"#7201a8\"], [0.3333333333333333, \"#9c179e\"], [0.4444444444444444, \"#bd3786\"], [0.5555555555555556, \"#d8576b\"], [0.6666666666666666, \"#ed7953\"], [0.7777777777777778, \"#fb9f3a\"], [0.8888888888888888, \"#fdca26\"], [1.0, \"#f0f921\"]], \"type\": \"histogram2dcontour\"}], \"mesh3d\": [{\"colorbar\": {\"outlinewidth\": 0, \"ticks\": \"\"}, \"type\": \"mesh3d\"}], \"parcoords\": [{\"line\": {\"colorbar\": {\"outlinewidth\": 0, \"ticks\": \"\"}}, \"type\": \"parcoords\"}], \"pie\": [{\"automargin\": true, \"type\": \"pie\"}], \"scatter\": [{\"marker\": {\"colorbar\": {\"outlinewidth\": 0, \"ticks\": \"\"}}, \"type\": \"scatter\"}], \"scatter3d\": [{\"line\": {\"colorbar\": {\"outlinewidth\": 0, \"ticks\": \"\"}}, \"marker\": {\"colorbar\": {\"outlinewidth\": 0, \"ticks\": \"\"}}, \"type\": \"scatter3d\"}], \"scattercarpet\": [{\"marker\": {\"colorbar\": {\"outlinewidth\": 0, \"ticks\": \"\"}}, \"type\": \"scattercarpet\"}], \"scattergeo\": [{\"marker\": {\"colorbar\": {\"outlinewidth\": 0, \"ticks\": \"\"}}, \"type\": \"scattergeo\"}], \"scattergl\": [{\"marker\": {\"colorbar\": {\"outlinewidth\": 0, \"ticks\": \"\"}}, \"type\": \"scattergl\"}], \"scattermapbox\": [{\"marker\": {\"colorbar\": {\"outlinewidth\": 0, \"ticks\": \"\"}}, \"type\": \"scattermapbox\"}], \"scatterpolar\": [{\"marker\": {\"colorbar\": {\"outlinewidth\": 0, \"ticks\": \"\"}}, \"type\": \"scatterpolar\"}], \"scatterpolargl\": [{\"marker\": {\"colorbar\": {\"outlinewidth\": 0, \"ticks\": \"\"}}, \"type\": \"scatterpolargl\"}], \"scatterternary\": [{\"marker\": {\"colorbar\": {\"outlinewidth\": 0, \"ticks\": \"\"}}, \"type\": \"scatterternary\"}], \"surface\": [{\"colorbar\": {\"outlinewidth\": 0, \"ticks\": \"\"}, \"colorscale\": [[0.0, \"#0d0887\"], [0.1111111111111111, \"#46039f\"], [0.2222222222222222, \"#7201a8\"], [0.3333333333333333, \"#9c179e\"], [0.4444444444444444, \"#bd3786\"], [0.5555555555555556, \"#d8576b\"], [0.6666666666666666, \"#ed7953\"], [0.7777777777777778, \"#fb9f3a\"], [0.8888888888888888, \"#fdca26\"], [1.0, \"#f0f921\"]], \"type\": \"surface\"}], \"table\": [{\"cells\": {\"fill\": {\"color\": \"#EBF0F8\"}, \"line\": {\"color\": \"white\"}}, \"header\": {\"fill\": {\"color\": \"#C8D4E3\"}, \"line\": {\"color\": \"white\"}}, \"type\": \"table\"}]}, \"layout\": {\"annotationdefaults\": {\"arrowcolor\": \"#2a3f5f\", \"arrowhead\": 0, \"arrowwidth\": 1}, \"autotypenumbers\": \"strict\", \"coloraxis\": {\"colorbar\": {\"outlinewidth\": 0, \"ticks\": \"\"}}, \"colorscale\": {\"diverging\": [[0, \"#8e0152\"], [0.1, \"#c51b7d\"], [0.2, \"#de77ae\"], [0.3, \"#f1b6da\"], [0.4, \"#fde0ef\"], [0.5, \"#f7f7f7\"], [0.6, \"#e6f5d0\"], [0.7, \"#b8e186\"], [0.8, \"#7fbc41\"], [0.9, \"#4d9221\"], [1, \"#276419\"]], \"sequential\": [[0.0, \"#0d0887\"], [0.1111111111111111, \"#46039f\"], [0.2222222222222222, \"#7201a8\"], [0.3333333333333333, \"#9c179e\"], [0.4444444444444444, \"#bd3786\"], [0.5555555555555556, \"#d8576b\"], [0.6666666666666666, \"#ed7953\"], [0.7777777777777778, \"#fb9f3a\"], [0.8888888888888888, \"#fdca26\"], [1.0, \"#f0f921\"]], \"sequentialminus\": [[0.0, \"#0d0887\"], [0.1111111111111111, \"#46039f\"], [0.2222222222222222, \"#7201a8\"], [0.3333333333333333, \"#9c179e\"], [0.4444444444444444, \"#bd3786\"], [0.5555555555555556, \"#d8576b\"], [0.6666666666666666, \"#ed7953\"], [0.7777777777777778, \"#fb9f3a\"], [0.8888888888888888, \"#fdca26\"], [1.0, \"#f0f921\"]]}, \"colorway\": [\"#636efa\", \"#EF553B\", \"#00cc96\", \"#ab63fa\", \"#FFA15A\", \"#19d3f3\", \"#FF6692\", \"#B6E880\", \"#FF97FF\", \"#FECB52\"], \"font\": {\"color\": \"#2a3f5f\"}, \"geo\": {\"bgcolor\": \"white\", \"lakecolor\": \"white\", \"landcolor\": \"#E5ECF6\", \"showlakes\": true, \"showland\": true, \"subunitcolor\": \"white\"}, \"hoverlabel\": {\"align\": \"left\"}, \"hovermode\": \"closest\", \"mapbox\": {\"style\": \"light\"}, \"paper_bgcolor\": \"white\", \"plot_bgcolor\": \"#E5ECF6\", \"polar\": {\"angularaxis\": {\"gridcolor\": \"white\", \"linecolor\": \"white\", \"ticks\": \"\"}, \"bgcolor\": \"#E5ECF6\", \"radialaxis\": {\"gridcolor\": \"white\", \"linecolor\": \"white\", \"ticks\": \"\"}}, \"scene\": {\"xaxis\": {\"backgroundcolor\": \"#E5ECF6\", \"gridcolor\": \"white\", \"gridwidth\": 2, \"linecolor\": \"white\", \"showbackground\": true, \"ticks\": \"\", \"zerolinecolor\": \"white\"}, \"yaxis\": {\"backgroundcolor\": \"#E5ECF6\", \"gridcolor\": \"white\", \"gridwidth\": 2, \"linecolor\": \"white\", \"showbackground\": true, \"ticks\": \"\", \"zerolinecolor\": \"white\"}, \"zaxis\": {\"backgroundcolor\": \"#E5ECF6\", \"gridcolor\": \"white\", \"gridwidth\": 2, \"linecolor\": \"white\", \"showbackground\": true, \"ticks\": \"\", \"zerolinecolor\": \"white\"}}, \"shapedefaults\": {\"line\": {\"color\": \"#2a3f5f\"}}, \"ternary\": {\"aaxis\": {\"gridcolor\": \"white\", \"linecolor\": \"white\", \"ticks\": \"\"}, \"baxis\": {\"gridcolor\": \"white\", \"linecolor\": \"white\", \"ticks\": \"\"}, \"bgcolor\": \"#E5ECF6\", \"caxis\": {\"gridcolor\": \"white\", \"linecolor\": \"white\", \"ticks\": \"\"}}, \"title\": {\"x\": 0.05}, \"xaxis\": {\"automargin\": true, \"gridcolor\": \"white\", \"linecolor\": \"white\", \"ticks\": \"\", \"title\": {\"standoff\": 15}, \"zerolinecolor\": \"white\", \"zerolinewidth\": 2}, \"yaxis\": {\"automargin\": true, \"gridcolor\": \"white\", \"linecolor\": \"white\", \"ticks\": \"\", \"title\": {\"standoff\": 15}, \"zerolinecolor\": \"white\", \"zerolinewidth\": 2}}}, \"title\": {\"font\": {\"size\": 20}, \"text\": \"Basic heatmap\", \"x\": 0.5}, \"width\": 800},                        {\"responsive\": true}                    ).then(function(){\n",
       "                            \n",
       "var gd = document.getElementById('474f2355-16e2-4290-9020-bdfcd28257d9');\n",
       "var x = new MutationObserver(function (mutations, observer) {{\n",
       "        var display = window.getComputedStyle(gd).display;\n",
       "        if (!display || display === 'none') {{\n",
       "            console.log([gd, 'removed!']);\n",
       "            Plotly.purge(gd);\n",
       "            observer.disconnect();\n",
       "        }}\n",
       "}});\n",
       "\n",
       "// Listen for the removal of the full notebook cells\n",
       "var notebookContainer = gd.closest('#notebook-container');\n",
       "if (notebookContainer) {{\n",
       "    x.observe(notebookContainer, {childList: true});\n",
       "}}\n",
       "\n",
       "// Listen for the clearing of the current output cell\n",
       "var outputEl = gd.closest('.output');\n",
       "if (outputEl) {{\n",
       "    x.observe(outputEl, {childList: true});\n",
       "}}\n",
       "\n",
       "                        })                };                });            </script>        </div>"
      ]
     },
     "metadata": {},
     "output_type": "display_data"
    }
   ],
   "source": [
    "heat_data = np.random.randn(10, 10)\n",
    "\n",
    "heat_fig = go.Figure()\n",
    "\n",
    "_ = heat_fig.add_trace(go.Heatmap(\n",
    "    z = heat_data,),\n",
    ")\n",
    "\n",
    "heat_layout = go.Layout(\n",
    "    width=800, height=800,\n",
    "    title=dict(text='Basic heatmap', x=0.5,\n",
    "               font=dict(size=20,),\n",
    "              ),\n",
    "    margin=go.layout.Margin(l=80, r=0, b=0, t=50,),\n",
    ")\n",
    "\n",
    "_ = heat_fig.update_layout(heat_layout)\n",
    "heat_fig.show()"
   ]
  },
  {
   "cell_type": "markdown",
   "metadata": {},
   "source": []
  },
  {
   "cell_type": "markdown",
   "metadata": {},
   "source": [
    "### Specific use cases\n",
    "\n",
    "<ol>\n",
    "  <li>Energy plot with outliers</li>\n",
    "  <li>Visualisation of MD data</li>\n",
    "  <li>ML descriptor weights</li>\n",
    "  <li>PCA with accumulative variance (to show subplots)</li>\n",
    "</ol>"
   ]
  },
  {
   "cell_type": "markdown",
   "metadata": {},
   "source": [
    "### Miscellaneous but useful\n",
    "\n",
    "<ol>\n",
    "  <li>Write some random string and get documentation with error</li>\n",
    "  <li>Transformation of title_font=\"Arial\" to title=dict(font=Arial)</li>\n",
    "  <li>Print figure to see elements</li>\n",
    "  <li>PCA with accumulative variance (to show subplots)</li>\n",
    "  <li>Cufflinks as wrapper on pandas to replace Matplotlib plots with Plotly</li>\n",
    "  <li>Inclusion of html-figures in Markdown. Export and import as json files in other notebooks</li>\n",
    "  <li>Useful resources:</li>\n",
    "  <ul>\n",
    "    <li> Types of charts and examples: https://plotly.com/python/</li>\n",
    "    <li> Single-page reference https://plotly.com/python/reference/</li>\n",
    "    <li> Comprehensive overview in one video: https://www.youtube.com/watch?v=GGL6U0k8WYA</li>\n",
    "  </ul>\n",
    "</ol>"
   ]
  },
  {
   "cell_type": "markdown",
   "metadata": {},
   "source": [
    "You can install using Anaconda under the environment tab by searching for Plotly. You'll also need Cufflinks and a few other packages that you can install by running : conda install -c conda-forge cufflinks-py in your command line or terminal. Also you can use the commands pip install plotly and pip install cufflinks. Cufflinks connects Plotly to Pandas."
   ]
  },
  {
   "cell_type": "markdown",
   "metadata": {},
   "source": [
    "<h3> Printing of Figure contents </h3>"
   ]
  },
  {
   "cell_type": "code",
   "execution_count": 9,
   "metadata": {},
   "outputs": [
    {
     "name": "stdout",
     "output_type": "stream",
     "text": [
      "Figure({\n",
      "    'data': [{'mode': 'lines',\n",
      "              'type': 'scatter',\n",
      "              'x': array([ 0.        ,  0.03141593,  0.06283185, ..., 12.47212283, 12.50353876,\n",
      "                          12.53495469]),\n",
      "              'y': array([ 0.        ,  0.03141076,  0.06279052, ..., -0.09410831, -0.06279052,\n",
      "                          -0.03141076])}],\n",
      "    'layout': {'font': {'size': 10},\n",
      "               'height': 400,\n",
      "               'margin': {'b': 0, 'l': 80, 'r': 0, 't': 50},\n",
      "               'template': '...',\n",
      "               'title': {'font': {'size': 20}, 'text': 'Simple sine function', 'x': 0.55},\n",
      "               'width': 800}\n",
      "})\n"
     ]
    }
   ],
   "source": [
    "print(sine_fig)"
   ]
  }
 ],
 "metadata": {
  "kernelspec": {
   "display_name": "Python [conda env:ceria_sac] *",
   "language": "python",
   "name": "conda-env-ceria_sac-py"
  },
  "language_info": {
   "codemirror_mode": {
    "name": "ipython",
    "version": 3
   },
   "file_extension": ".py",
   "mimetype": "text/x-python",
   "name": "python",
   "nbconvert_exporter": "python",
   "pygments_lexer": "ipython3",
   "version": "3.9.2"
  }
 },
 "nbformat": 4,
 "nbformat_minor": 4
}
